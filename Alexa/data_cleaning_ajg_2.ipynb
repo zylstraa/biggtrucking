{
 "cells": [
  {
   "cell_type": "code",
   "execution_count": 1,
   "metadata": {},
   "outputs": [],
   "source": [
    "#This is Tony's notebook\n",
    "import pandas as pd\n",
    "import numpy as np\n",
    "from numpy import arange\n",
    "import datetime as dt\n",
    "\n",
    "from sklearn.model_selection import train_test_split\n",
    "from sklearn.linear_model import LogisticRegression, LinearRegression\n",
    "from sklearn import metrics\n",
    "from sklearn.metrics import classification_report, f1_score, accuracy_score, confusion_matrix\n",
    "\n",
    "from cm import plot_confusion_matrix\n",
    "\n",
    "import tensorflow as tf\n",
    "\n"
   ]
  },
  {
   "cell_type": "code",
   "execution_count": 2,
   "metadata": {},
   "outputs": [],
   "source": [
    "real_codes = pd.read_csv('data/J1939Faults.csv', low_memory = False)\n",
    "onboard = pd.read_csv('data/VehicleDiagnosticOnboardData.csv', low_memory = False)"
   ]
  },
  {
   "cell_type": "markdown",
   "metadata": {},
   "source": [
    "# Initial data cleaning and filtering"
   ]
  },
  {
   "cell_type": "code",
   "execution_count": 3,
   "metadata": {},
   "outputs": [],
   "source": [
    "#Per the project's instructions: \n",
    "\n",
    "real_codes = real_codes[real_codes['EquipmentID'].str.len() < 6]\n",
    "real_codes = real_codes[real_codes['ecuMake'] == 'CMMNS']\n",
    "real_codes = real_codes[real_codes['active'] == True]"
   ]
  },
  {
   "cell_type": "code",
   "execution_count": 4,
   "metadata": {},
   "outputs": [],
   "source": [
    "real_codes = real_codes.drop(columns=['actionDescription', 'faultValue', 'MCTNumber'])"
   ]
  },
  {
   "cell_type": "code",
   "execution_count": 5,
   "metadata": {},
   "outputs": [],
   "source": [
    "#Selects lat and lon coordinates that are not in the bounded boxes\n",
    "\n",
    "geo_codes = real_codes[(~real_codes['Latitude'].between(36.05942, 36.07392)) | (~real_codes['Longitude'].between(-86.44366, -86.42579))]\n",
    "geo_codes = geo_codes[(~geo_codes['Latitude'].between(35.58108, 35.59558)) | (~geo_codes['Longitude'].between(-86.4528, -86.435))]\n",
    "geo_codes = geo_codes[(~geo_codes['Latitude'].between(36.18775, 36.20225)) | (~geo_codes['Longitude'].between(-83.1837, -83.1658))]\n",
    "\n",
    "#Here is an alternative method for selecting lats and lons that are not in the bounded boxes: \n",
    "\n",
    "#geo_codes = real_codes.query('(Latitude <= 36.05942 or Latitude >= 36.07392) or (Longitude <= -86.5419 or Longitude >= -86.3275)')\n"
   ]
  },
  {
   "cell_type": "code",
   "execution_count": 6,
   "metadata": {},
   "outputs": [],
   "source": [
    "geo_codes = geo_codes.sort_values([\"EquipmentID\", \"EventTimeStamp\"], ascending = (False, True))"
   ]
  },
  {
   "cell_type": "markdown",
   "metadata": {},
   "source": [
    "# Some EDA"
   ]
  },
  {
   "cell_type": "code",
   "execution_count": 7,
   "metadata": {},
   "outputs": [
    {
     "data": {
      "text/plain": [
       "928"
      ]
     },
     "execution_count": 7,
     "metadata": {},
     "output_type": "execute_result"
    }
   ],
   "source": [
    "#Number of unique trucks in the data\n",
    "\n",
    "geo_codes.EquipmentID.nunique()"
   ]
  },
  {
   "cell_type": "code",
   "execution_count": 8,
   "metadata": {},
   "outputs": [],
   "source": [
    "geo_codes_select1569 = geo_codes[geo_codes['spn'].isin([1569])]\n",
    "geo_codes_select5246 = geo_codes[geo_codes['spn'].isin([5246])]"
   ]
  },
  {
   "cell_type": "code",
   "execution_count": 9,
   "metadata": {},
   "outputs": [
    {
     "data": {
      "text/plain": [
       "4277"
      ]
     },
     "execution_count": 9,
     "metadata": {},
     "output_type": "execute_result"
    }
   ],
   "source": [
    "#Number of unique 1569s thrown by the ECUs\n",
    "\n",
    "geo_codes_select1569['RecordID'].nunique()"
   ]
  },
  {
   "cell_type": "code",
   "execution_count": 10,
   "metadata": {},
   "outputs": [
    {
     "data": {
      "text/plain": [
       "270"
      ]
     },
     "execution_count": 10,
     "metadata": {},
     "output_type": "execute_result"
    }
   ],
   "source": [
    "#Number of unique 5426s thrown by the ECUs\n",
    "\n",
    "geo_codes_select5246['RecordID'].nunique()"
   ]
  },
  {
   "cell_type": "code",
   "execution_count": 11,
   "metadata": {},
   "outputs": [
    {
     "data": {
      "text/plain": [
       "200154"
      ]
     },
     "execution_count": 11,
     "metadata": {},
     "output_type": "execute_result"
    }
   ],
   "source": [
    "geo_codes.RecordID.nunique(())"
   ]
  },
  {
   "cell_type": "code",
   "execution_count": 12,
   "metadata": {},
   "outputs": [
    {
     "data": {
      "text/html": [
       "<div>\n",
       "<style scoped>\n",
       "    .dataframe tbody tr th:only-of-type {\n",
       "        vertical-align: middle;\n",
       "    }\n",
       "\n",
       "    .dataframe tbody tr th {\n",
       "        vertical-align: top;\n",
       "    }\n",
       "\n",
       "    .dataframe thead th {\n",
       "        text-align: right;\n",
       "    }\n",
       "</style>\n",
       "<table border=\"1\" class=\"dataframe\">\n",
       "  <thead>\n",
       "    <tr style=\"text-align: right;\">\n",
       "      <th></th>\n",
       "      <th>RecordID</th>\n",
       "      <th>ESS_Id</th>\n",
       "      <th>EventTimeStamp</th>\n",
       "      <th>eventDescription</th>\n",
       "      <th>ecuSoftwareVersion</th>\n",
       "      <th>ecuSerialNumber</th>\n",
       "      <th>ecuModel</th>\n",
       "      <th>ecuMake</th>\n",
       "      <th>ecuSource</th>\n",
       "      <th>spn</th>\n",
       "      <th>fmi</th>\n",
       "      <th>active</th>\n",
       "      <th>activeTransitionCount</th>\n",
       "      <th>EquipmentID</th>\n",
       "      <th>Latitude</th>\n",
       "      <th>Longitude</th>\n",
       "      <th>LocationTimeStamp</th>\n",
       "    </tr>\n",
       "  </thead>\n",
       "  <tbody>\n",
       "    <tr>\n",
       "      <th>4245</th>\n",
       "      <td>4246</td>\n",
       "      <td>1048627</td>\n",
       "      <td>2015-02-24 13:45:06.000</td>\n",
       "      <td>Low (Severity Low) Catalyst Tank Level</td>\n",
       "      <td>05317106*04119044*051914190353*09400015*G1*BDR*</td>\n",
       "      <td>79751302</td>\n",
       "      <td>6X1u13D1500000000</td>\n",
       "      <td>CMMNS</td>\n",
       "      <td>0</td>\n",
       "      <td>1761</td>\n",
       "      <td>17</td>\n",
       "      <td>True</td>\n",
       "      <td>43</td>\n",
       "      <td>R1762</td>\n",
       "      <td>41.254166</td>\n",
       "      <td>-85.088888</td>\n",
       "      <td>2015-02-24 13:45:41.000</td>\n",
       "    </tr>\n",
       "  </tbody>\n",
       "</table>\n",
       "</div>"
      ],
      "text/plain": [
       "      RecordID   ESS_Id           EventTimeStamp  \\\n",
       "4245      4246  1048627  2015-02-24 13:45:06.000   \n",
       "\n",
       "                            eventDescription  \\\n",
       "4245  Low (Severity Low) Catalyst Tank Level   \n",
       "\n",
       "                                   ecuSoftwareVersion ecuSerialNumber  \\\n",
       "4245  05317106*04119044*051914190353*09400015*G1*BDR*        79751302   \n",
       "\n",
       "               ecuModel ecuMake  ecuSource   spn  fmi  active  \\\n",
       "4245  6X1u13D1500000000   CMMNS          0  1761   17    True   \n",
       "\n",
       "      activeTransitionCount EquipmentID   Latitude  Longitude  \\\n",
       "4245                     43       R1762  41.254166 -85.088888   \n",
       "\n",
       "            LocationTimeStamp  \n",
       "4245  2015-02-24 13:45:41.000  "
      ]
     },
     "execution_count": 12,
     "metadata": {},
     "output_type": "execute_result"
    }
   ],
   "source": [
    "#Looking at the names of the metrics that are recorded when the ECU throws a code\n",
    "\n",
    "geo_codes[geo_codes['RecordID']  == 4246].head(25)"
   ]
  },
  {
   "cell_type": "code",
   "execution_count": 13,
   "metadata": {},
   "outputs": [
    {
     "data": {
      "text/plain": [
       "Low (Severity Low) Engine Coolant Level                                   137206\n",
       "Low (Severity Medium) Engine Coolant Level                                 14676\n",
       "High (Severity Low) Water In Fuel Indicator                                 6992\n",
       "Condition Exists Engine Protection Torque Derate                            4277\n",
       "High Voltage (Water In Fuel Indicator)                                      3768\n",
       "                                                                           ...  \n",
       "High Voltage (Engine Exhaust Gas Pressure)                                     1\n",
       "High (Severity Medium) Aftertreatment Diesel Particulate Filter System         1\n",
       "Low Voltage (Aftertreatment 1 Purge Air Actuator)                              1\n",
       "Incorrect Data Engine Intake Manifold 1 Temperature                            1\n",
       "High Current Engine Exhaust Gas Recirculation (EGR) Valve Control              1\n",
       "Name: eventDescription, Length: 266, dtype: int64"
      ]
     },
     "execution_count": 13,
     "metadata": {},
     "output_type": "execute_result"
    }
   ],
   "source": [
    "geo_codes.eventDescription.value_counts()"
   ]
  },
  {
   "cell_type": "markdown",
   "metadata": {},
   "source": [
    "# More data cleaning and filtering based on prior EDA"
   ]
  },
  {
   "cell_type": "code",
   "execution_count": 14,
   "metadata": {},
   "outputs": [],
   "source": [
    "geo_codes = geo_codes.drop(columns=['LocationTimeStamp', 'active', 'ecuSource', 'ecuMake', 'ESS_Id'])"
   ]
  },
  {
   "cell_type": "code",
   "execution_count": 15,
   "metadata": {},
   "outputs": [],
   "source": [
    "#Reorders our columns in a logical and readable way: index types, data types, others\n",
    "\n",
    "geo_codes = geo_codes.reindex(columns = ['RecordID', 'EquipmentID', 'EventTimeStamp', 'spn', 'fmi', 'spnfmi',\n",
    "                                         'activeTransitionCount', 'ecuModel', 'ecuSerialNumber', 'ecuSoftwareVersion',\n",
    "                                         'eventDescription', 'Latitude', 'Longitude'])"
   ]
  },
  {
   "cell_type": "code",
   "execution_count": 16,
   "metadata": {},
   "outputs": [],
   "source": [
    "#Concats the spn and fmi fields into a single field, then converts them back to an int\n",
    "\n",
    "geo_codes['spnfmi'] = geo_codes.spn.astype('str').map(str) + geo_codes.fmi.astype('str')\n",
    "geo_codes['spnfmi'] = geo_codes['spnfmi'].astype('int32')"
   ]
  },
  {
   "cell_type": "markdown",
   "metadata": {},
   "source": [
    "# Get dummy variables in preperation of logistic regression"
   ]
  },
  {
   "cell_type": "code",
   "execution_count": 17,
   "metadata": {},
   "outputs": [],
   "source": [
    "geo_codes_spnfmi = pd.get_dummies(geo_codes, columns = ['spnfmi'])"
   ]
  },
  {
   "cell_type": "markdown",
   "metadata": {},
   "source": [
    "# Convert datatime column for indexing and sorting"
   ]
  },
  {
   "cell_type": "code",
   "execution_count": 18,
   "metadata": {},
   "outputs": [],
   "source": [
    "geo_codes_spnfmi['EventTimeStamp'] = geo_codes_spnfmi['EventTimeStamp'].astype('datetime64[ns]')"
   ]
  },
  {
   "cell_type": "code",
   "execution_count": 19,
   "metadata": {},
   "outputs": [],
   "source": [
    "geo_codes_spnfmi['EventTimeStamp'] = pd.to_datetime(geo_codes_spnfmi['EventTimeStamp'], utc = True)"
   ]
  },
  {
   "cell_type": "code",
   "execution_count": 20,
   "metadata": {},
   "outputs": [],
   "source": [
    "geo_codes_dropped = geo_codes_spnfmi.reset_index()"
   ]
  },
  {
   "cell_type": "code",
   "execution_count": 21,
   "metadata": {},
   "outputs": [],
   "source": [
    "#List comprehension of columns created from the get_dummies\n",
    "\n",
    "List = [x for x in geo_codes_dropped.columns if 'spnfmi_' in x]"
   ]
  },
  {
   "cell_type": "markdown",
   "metadata": {},
   "source": [
    "# Pandas .rolling() to create a cumulative count of spn-fmi combo codes thrown"
   ]
  },
  {
   "cell_type": "code",
   "execution_count": 22,
   "metadata": {},
   "outputs": [],
   "source": [
    "geo_codes_dropped = geo_codes_dropped.sort_values(['EquipmentID', 'EventTimeStamp']).reset_index(drop = True)"
   ]
  },
  {
   "cell_type": "code",
   "execution_count": 23,
   "metadata": {},
   "outputs": [],
   "source": [
    "geo_codes_dropped_rolling = geo_codes_dropped.groupby('EquipmentID').rolling(window = \"14d\", on = 'EventTimeStamp')[List].sum().reset_index()"
   ]
  },
  {
   "cell_type": "code",
   "execution_count": 24,
   "metadata": {},
   "outputs": [],
   "source": [
    "merge_geo_codes = geo_codes_dropped.merge(geo_codes_dropped_rolling, left_index = True, right_index = True)"
   ]
  },
  {
   "cell_type": "code",
   "execution_count": 25,
   "metadata": {},
   "outputs": [],
   "source": [
    "merge_geo_codes = merge_geo_codes.rename(columns = {'EquipmentID_x' : 'EquipmentID', 'EventTimeStamp_x' : 'EventTimeStamp'})"
   ]
  },
  {
   "cell_type": "code",
   "execution_count": 26,
   "metadata": {},
   "outputs": [],
   "source": [
    "merge_geo_codes = merge_geo_codes.loc[:,~merge_geo_codes.columns.str.contains('_x', case=False)]"
   ]
  },
  {
   "cell_type": "code",
   "execution_count": 27,
   "metadata": {},
   "outputs": [],
   "source": [
    "merge_geo_codes = merge_geo_codes.drop(columns=['index'])"
   ]
  },
  {
   "cell_type": "code",
   "execution_count": 28,
   "metadata": {},
   "outputs": [],
   "source": [
    "#Saved for future use when coming back and merging onboard"
   ]
  },
  {
   "cell_type": "code",
   "execution_count": 29,
   "metadata": {},
   "outputs": [],
   "source": [
    "def backfill (df):\n",
    "    df['flagtime'] = df.loc[df['spnfmi_156931_y'] == 1, 'EventTimeStamp']\n",
    "    df['flagtime'] = df.flagtime.bfill()\n",
    "    return df"
   ]
  },
  {
   "cell_type": "code",
   "execution_count": 30,
   "metadata": {},
   "outputs": [],
   "source": [
    "merge_geo_codes = merge_geo_codes.groupby('EquipmentID').apply(backfill)"
   ]
  },
  {
   "cell_type": "code",
   "execution_count": 31,
   "metadata": {},
   "outputs": [],
   "source": [
    "merge_geo_codes['deltatime'] = merge_geo_codes['flagtime'] - merge_geo_codes['EventTimeStamp']"
   ]
  },
  {
   "cell_type": "code",
   "execution_count": 32,
   "metadata": {},
   "outputs": [],
   "source": [
    "merge_geo_codes['targettime'] = merge_geo_codes.deltatime.dt.total_seconds().between(3600, 86400)"
   ]
  },
  {
   "cell_type": "code",
   "execution_count": 33,
   "metadata": {},
   "outputs": [],
   "source": [
    "merge_geo_codes = merge_geo_codes[~merge_geo_codes['deltatime'].dt.total_seconds().between(-1, 3600)]"
   ]
  },
  {
   "cell_type": "code",
   "execution_count": 34,
   "metadata": {},
   "outputs": [],
   "source": [
    "merge_geo_codes = merge_geo_codes[merge_geo_codes['spn'] != 5246]"
   ]
  },
  {
   "cell_type": "code",
   "execution_count": 35,
   "metadata": {},
   "outputs": [
    {
     "data": {
      "text/html": [
       "<div>\n",
       "<style scoped>\n",
       "    .dataframe tbody tr th:only-of-type {\n",
       "        vertical-align: middle;\n",
       "    }\n",
       "\n",
       "    .dataframe tbody tr th {\n",
       "        vertical-align: top;\n",
       "    }\n",
       "\n",
       "    .dataframe thead th {\n",
       "        text-align: right;\n",
       "    }\n",
       "</style>\n",
       "<table border=\"1\" class=\"dataframe\">\n",
       "  <thead>\n",
       "    <tr style=\"text-align: right;\">\n",
       "      <th></th>\n",
       "      <th>RecordID</th>\n",
       "      <th>EquipmentID</th>\n",
       "      <th>EventTimeStamp</th>\n",
       "      <th>spn</th>\n",
       "      <th>fmi</th>\n",
       "      <th>activeTransitionCount</th>\n",
       "      <th>ecuModel</th>\n",
       "      <th>ecuSerialNumber</th>\n",
       "      <th>ecuSoftwareVersion</th>\n",
       "      <th>eventDescription</th>\n",
       "      <th>...</th>\n",
       "      <th>spnfmi_6553531_y</th>\n",
       "      <th>spnfmi_8812116_y</th>\n",
       "      <th>spnfmi_11486311_y</th>\n",
       "      <th>spnfmi_19660829_y</th>\n",
       "      <th>spnfmi_33504023_y</th>\n",
       "      <th>spnfmi_52103214_y</th>\n",
       "      <th>spnfmi_52428731_y</th>\n",
       "      <th>flagtime</th>\n",
       "      <th>deltatime</th>\n",
       "      <th>targettime</th>\n",
       "    </tr>\n",
       "  </thead>\n",
       "  <tbody>\n",
       "    <tr>\n",
       "      <th>0</th>\n",
       "      <td>58809</td>\n",
       "      <td>1327</td>\n",
       "      <td>2015-05-19 12:02:55+00:00</td>\n",
       "      <td>3216</td>\n",
       "      <td>9</td>\n",
       "      <td>1</td>\n",
       "      <td>6X1u10D1500000000</td>\n",
       "      <td>79419774</td>\n",
       "      <td>04993120*00001782*082113134117*07700053*I0*BBZ*</td>\n",
       "      <td>Abnormal Update Rate Aftertreatment 1 Intake NOx</td>\n",
       "      <td>...</td>\n",
       "      <td>0.0</td>\n",
       "      <td>0.0</td>\n",
       "      <td>0.0</td>\n",
       "      <td>0.0</td>\n",
       "      <td>0.0</td>\n",
       "      <td>0.0</td>\n",
       "      <td>0.0</td>\n",
       "      <td>NaT</td>\n",
       "      <td>NaT</td>\n",
       "      <td>False</td>\n",
       "    </tr>\n",
       "    <tr>\n",
       "      <th>1</th>\n",
       "      <td>65879</td>\n",
       "      <td>1327</td>\n",
       "      <td>2015-05-26 08:11:45+00:00</td>\n",
       "      <td>3216</td>\n",
       "      <td>9</td>\n",
       "      <td>1</td>\n",
       "      <td>6X1u10D1500000000</td>\n",
       "      <td>79419774</td>\n",
       "      <td>04993120*00001782*082113134117*07700053*I0*BBZ*</td>\n",
       "      <td>Abnormal Update Rate Aftertreatment 1 Intake NOx</td>\n",
       "      <td>...</td>\n",
       "      <td>0.0</td>\n",
       "      <td>0.0</td>\n",
       "      <td>0.0</td>\n",
       "      <td>0.0</td>\n",
       "      <td>0.0</td>\n",
       "      <td>0.0</td>\n",
       "      <td>0.0</td>\n",
       "      <td>NaT</td>\n",
       "      <td>NaT</td>\n",
       "      <td>False</td>\n",
       "    </tr>\n",
       "    <tr>\n",
       "      <th>2</th>\n",
       "      <td>65939</td>\n",
       "      <td>1327</td>\n",
       "      <td>2015-05-26 08:44:10+00:00</td>\n",
       "      <td>3216</td>\n",
       "      <td>9</td>\n",
       "      <td>1</td>\n",
       "      <td>6X1u10D1500000000</td>\n",
       "      <td>79419774</td>\n",
       "      <td>04993120*00001782*082113134117*07700053*I0*BBZ*</td>\n",
       "      <td>Abnormal Update Rate Aftertreatment 1 Intake NOx</td>\n",
       "      <td>...</td>\n",
       "      <td>0.0</td>\n",
       "      <td>0.0</td>\n",
       "      <td>0.0</td>\n",
       "      <td>0.0</td>\n",
       "      <td>0.0</td>\n",
       "      <td>0.0</td>\n",
       "      <td>0.0</td>\n",
       "      <td>NaT</td>\n",
       "      <td>NaT</td>\n",
       "      <td>False</td>\n",
       "    </tr>\n",
       "    <tr>\n",
       "      <th>3</th>\n",
       "      <td>23445</td>\n",
       "      <td>1330</td>\n",
       "      <td>2015-04-15 20:15:00+00:00</td>\n",
       "      <td>3556</td>\n",
       "      <td>2</td>\n",
       "      <td>1</td>\n",
       "      <td>6X1u10D1500000000</td>\n",
       "      <td>79419775</td>\n",
       "      <td>04993120*00001524*040213150018*07700044*I0*BBZ*</td>\n",
       "      <td>Incorrect Data Aftertreatment Fuel Injector 1</td>\n",
       "      <td>...</td>\n",
       "      <td>0.0</td>\n",
       "      <td>0.0</td>\n",
       "      <td>0.0</td>\n",
       "      <td>0.0</td>\n",
       "      <td>0.0</td>\n",
       "      <td>0.0</td>\n",
       "      <td>0.0</td>\n",
       "      <td>NaT</td>\n",
       "      <td>NaT</td>\n",
       "      <td>False</td>\n",
       "    </tr>\n",
       "    <tr>\n",
       "      <th>4</th>\n",
       "      <td>23449</td>\n",
       "      <td>1330</td>\n",
       "      <td>2015-04-15 20:22:10+00:00</td>\n",
       "      <td>3226</td>\n",
       "      <td>4</td>\n",
       "      <td>1</td>\n",
       "      <td>6X1u10D1500000000</td>\n",
       "      <td>79419775</td>\n",
       "      <td>04993120*00001524*040213150018*07700044*I0*BBZ*</td>\n",
       "      <td>Low Voltage (Aftertreatment 1 Outlet NOx)</td>\n",
       "      <td>...</td>\n",
       "      <td>0.0</td>\n",
       "      <td>0.0</td>\n",
       "      <td>0.0</td>\n",
       "      <td>0.0</td>\n",
       "      <td>0.0</td>\n",
       "      <td>0.0</td>\n",
       "      <td>0.0</td>\n",
       "      <td>NaT</td>\n",
       "      <td>NaT</td>\n",
       "      <td>False</td>\n",
       "    </tr>\n",
       "    <tr>\n",
       "      <th>...</th>\n",
       "      <td>...</td>\n",
       "      <td>...</td>\n",
       "      <td>...</td>\n",
       "      <td>...</td>\n",
       "      <td>...</td>\n",
       "      <td>...</td>\n",
       "      <td>...</td>\n",
       "      <td>...</td>\n",
       "      <td>...</td>\n",
       "      <td>...</td>\n",
       "      <td>...</td>\n",
       "      <td>...</td>\n",
       "      <td>...</td>\n",
       "      <td>...</td>\n",
       "      <td>...</td>\n",
       "      <td>...</td>\n",
       "      <td>...</td>\n",
       "      <td>...</td>\n",
       "      <td>...</td>\n",
       "      <td>...</td>\n",
       "      <td>...</td>\n",
       "    </tr>\n",
       "    <tr>\n",
       "      <th>200147</th>\n",
       "      <td>1021420</td>\n",
       "      <td>310</td>\n",
       "      <td>2018-06-05 20:09:14+00:00</td>\n",
       "      <td>97</td>\n",
       "      <td>16</td>\n",
       "      <td>2</td>\n",
       "      <td>6X1u13D1500000000</td>\n",
       "      <td>79756075</td>\n",
       "      <td>05317106*04133655*061416163421*09401361*G1*BDR*</td>\n",
       "      <td>High (Severity Medium) Water In Fuel Indicator</td>\n",
       "      <td>...</td>\n",
       "      <td>0.0</td>\n",
       "      <td>0.0</td>\n",
       "      <td>0.0</td>\n",
       "      <td>0.0</td>\n",
       "      <td>0.0</td>\n",
       "      <td>0.0</td>\n",
       "      <td>0.0</td>\n",
       "      <td>2018-06-28 22:03:41+00:00</td>\n",
       "      <td>23 days 01:54:27</td>\n",
       "      <td>False</td>\n",
       "    </tr>\n",
       "    <tr>\n",
       "      <th>200148</th>\n",
       "      <td>1030174</td>\n",
       "      <td>310</td>\n",
       "      <td>2018-06-26 15:49:59+00:00</td>\n",
       "      <td>5394</td>\n",
       "      <td>5</td>\n",
       "      <td>1</td>\n",
       "      <td>6X1u13D1500000000</td>\n",
       "      <td>79756075</td>\n",
       "      <td>05317106*04133655*061416163421*09401361*G1*BDR*</td>\n",
       "      <td>NaN</td>\n",
       "      <td>...</td>\n",
       "      <td>0.0</td>\n",
       "      <td>0.0</td>\n",
       "      <td>0.0</td>\n",
       "      <td>0.0</td>\n",
       "      <td>0.0</td>\n",
       "      <td>0.0</td>\n",
       "      <td>0.0</td>\n",
       "      <td>2018-06-28 22:03:41+00:00</td>\n",
       "      <td>2 days 06:13:42</td>\n",
       "      <td>False</td>\n",
       "    </tr>\n",
       "    <tr>\n",
       "      <th>200151</th>\n",
       "      <td>4246</td>\n",
       "      <td>R1762</td>\n",
       "      <td>2015-02-24 13:45:06+00:00</td>\n",
       "      <td>1761</td>\n",
       "      <td>17</td>\n",
       "      <td>43</td>\n",
       "      <td>6X1u13D1500000000</td>\n",
       "      <td>79751302</td>\n",
       "      <td>05317106*04119044*051914190353*09400015*G1*BDR*</td>\n",
       "      <td>Low (Severity Low) Catalyst Tank Level</td>\n",
       "      <td>...</td>\n",
       "      <td>0.0</td>\n",
       "      <td>0.0</td>\n",
       "      <td>0.0</td>\n",
       "      <td>0.0</td>\n",
       "      <td>0.0</td>\n",
       "      <td>0.0</td>\n",
       "      <td>0.0</td>\n",
       "      <td>NaT</td>\n",
       "      <td>NaT</td>\n",
       "      <td>False</td>\n",
       "    </tr>\n",
       "    <tr>\n",
       "      <th>200152</th>\n",
       "      <td>4428</td>\n",
       "      <td>R1762</td>\n",
       "      <td>2015-02-24 15:31:17+00:00</td>\n",
       "      <td>1761</td>\n",
       "      <td>18</td>\n",
       "      <td>11</td>\n",
       "      <td>6X1u13D1500000000</td>\n",
       "      <td>79751302</td>\n",
       "      <td>05317106*04119044*051914190353*09400015*G1*BDR*</td>\n",
       "      <td>Low (Severity Medium) Catalyst Tank Level</td>\n",
       "      <td>...</td>\n",
       "      <td>0.0</td>\n",
       "      <td>0.0</td>\n",
       "      <td>0.0</td>\n",
       "      <td>0.0</td>\n",
       "      <td>0.0</td>\n",
       "      <td>0.0</td>\n",
       "      <td>0.0</td>\n",
       "      <td>NaT</td>\n",
       "      <td>NaT</td>\n",
       "      <td>False</td>\n",
       "    </tr>\n",
       "    <tr>\n",
       "      <th>200153</th>\n",
       "      <td>6439</td>\n",
       "      <td>R1762</td>\n",
       "      <td>2015-02-26 13:12:11+00:00</td>\n",
       "      <td>5848</td>\n",
       "      <td>9</td>\n",
       "      <td>1</td>\n",
       "      <td>6X1u13D1500000000</td>\n",
       "      <td>79751302</td>\n",
       "      <td>05317106*04119044*051914190353*09400015*G1*BDR*</td>\n",
       "      <td>NaN</td>\n",
       "      <td>...</td>\n",
       "      <td>0.0</td>\n",
       "      <td>0.0</td>\n",
       "      <td>0.0</td>\n",
       "      <td>0.0</td>\n",
       "      <td>0.0</td>\n",
       "      <td>0.0</td>\n",
       "      <td>0.0</td>\n",
       "      <td>NaT</td>\n",
       "      <td>NaT</td>\n",
       "      <td>False</td>\n",
       "    </tr>\n",
       "  </tbody>\n",
       "</table>\n",
       "<p>193679 rows × 414 columns</p>\n",
       "</div>"
      ],
      "text/plain": [
       "        RecordID EquipmentID            EventTimeStamp   spn  fmi  \\\n",
       "0          58809        1327 2015-05-19 12:02:55+00:00  3216    9   \n",
       "1          65879        1327 2015-05-26 08:11:45+00:00  3216    9   \n",
       "2          65939        1327 2015-05-26 08:44:10+00:00  3216    9   \n",
       "3          23445        1330 2015-04-15 20:15:00+00:00  3556    2   \n",
       "4          23449        1330 2015-04-15 20:22:10+00:00  3226    4   \n",
       "...          ...         ...                       ...   ...  ...   \n",
       "200147   1021420         310 2018-06-05 20:09:14+00:00    97   16   \n",
       "200148   1030174         310 2018-06-26 15:49:59+00:00  5394    5   \n",
       "200151      4246       R1762 2015-02-24 13:45:06+00:00  1761   17   \n",
       "200152      4428       R1762 2015-02-24 15:31:17+00:00  1761   18   \n",
       "200153      6439       R1762 2015-02-26 13:12:11+00:00  5848    9   \n",
       "\n",
       "        activeTransitionCount           ecuModel ecuSerialNumber  \\\n",
       "0                           1  6X1u10D1500000000        79419774   \n",
       "1                           1  6X1u10D1500000000        79419774   \n",
       "2                           1  6X1u10D1500000000        79419774   \n",
       "3                           1  6X1u10D1500000000        79419775   \n",
       "4                           1  6X1u10D1500000000        79419775   \n",
       "...                       ...                ...             ...   \n",
       "200147                      2  6X1u13D1500000000        79756075   \n",
       "200148                      1  6X1u13D1500000000        79756075   \n",
       "200151                     43  6X1u13D1500000000        79751302   \n",
       "200152                     11  6X1u13D1500000000        79751302   \n",
       "200153                      1  6X1u13D1500000000        79751302   \n",
       "\n",
       "                                     ecuSoftwareVersion  \\\n",
       "0       04993120*00001782*082113134117*07700053*I0*BBZ*   \n",
       "1       04993120*00001782*082113134117*07700053*I0*BBZ*   \n",
       "2       04993120*00001782*082113134117*07700053*I0*BBZ*   \n",
       "3       04993120*00001524*040213150018*07700044*I0*BBZ*   \n",
       "4       04993120*00001524*040213150018*07700044*I0*BBZ*   \n",
       "...                                                 ...   \n",
       "200147  05317106*04133655*061416163421*09401361*G1*BDR*   \n",
       "200148  05317106*04133655*061416163421*09401361*G1*BDR*   \n",
       "200151  05317106*04119044*051914190353*09400015*G1*BDR*   \n",
       "200152  05317106*04119044*051914190353*09400015*G1*BDR*   \n",
       "200153  05317106*04119044*051914190353*09400015*G1*BDR*   \n",
       "\n",
       "                                        eventDescription  ...  \\\n",
       "0       Abnormal Update Rate Aftertreatment 1 Intake NOx  ...   \n",
       "1       Abnormal Update Rate Aftertreatment 1 Intake NOx  ...   \n",
       "2       Abnormal Update Rate Aftertreatment 1 Intake NOx  ...   \n",
       "3          Incorrect Data Aftertreatment Fuel Injector 1  ...   \n",
       "4              Low Voltage (Aftertreatment 1 Outlet NOx)  ...   \n",
       "...                                                  ...  ...   \n",
       "200147    High (Severity Medium) Water In Fuel Indicator  ...   \n",
       "200148                                               NaN  ...   \n",
       "200151            Low (Severity Low) Catalyst Tank Level  ...   \n",
       "200152         Low (Severity Medium) Catalyst Tank Level  ...   \n",
       "200153                                               NaN  ...   \n",
       "\n",
       "        spnfmi_6553531_y  spnfmi_8812116_y spnfmi_11486311_y  \\\n",
       "0                    0.0               0.0               0.0   \n",
       "1                    0.0               0.0               0.0   \n",
       "2                    0.0               0.0               0.0   \n",
       "3                    0.0               0.0               0.0   \n",
       "4                    0.0               0.0               0.0   \n",
       "...                  ...               ...               ...   \n",
       "200147               0.0               0.0               0.0   \n",
       "200148               0.0               0.0               0.0   \n",
       "200151               0.0               0.0               0.0   \n",
       "200152               0.0               0.0               0.0   \n",
       "200153               0.0               0.0               0.0   \n",
       "\n",
       "       spnfmi_19660829_y  spnfmi_33504023_y  spnfmi_52103214_y  \\\n",
       "0                    0.0                0.0                0.0   \n",
       "1                    0.0                0.0                0.0   \n",
       "2                    0.0                0.0                0.0   \n",
       "3                    0.0                0.0                0.0   \n",
       "4                    0.0                0.0                0.0   \n",
       "...                  ...                ...                ...   \n",
       "200147               0.0                0.0                0.0   \n",
       "200148               0.0                0.0                0.0   \n",
       "200151               0.0                0.0                0.0   \n",
       "200152               0.0                0.0                0.0   \n",
       "200153               0.0                0.0                0.0   \n",
       "\n",
       "        spnfmi_52428731_y                  flagtime        deltatime  \\\n",
       "0                     0.0                       NaT              NaT   \n",
       "1                     0.0                       NaT              NaT   \n",
       "2                     0.0                       NaT              NaT   \n",
       "3                     0.0                       NaT              NaT   \n",
       "4                     0.0                       NaT              NaT   \n",
       "...                   ...                       ...              ...   \n",
       "200147                0.0 2018-06-28 22:03:41+00:00 23 days 01:54:27   \n",
       "200148                0.0 2018-06-28 22:03:41+00:00  2 days 06:13:42   \n",
       "200151                0.0                       NaT              NaT   \n",
       "200152                0.0                       NaT              NaT   \n",
       "200153                0.0                       NaT              NaT   \n",
       "\n",
       "        targettime  \n",
       "0            False  \n",
       "1            False  \n",
       "2            False  \n",
       "3            False  \n",
       "4            False  \n",
       "...            ...  \n",
       "200147       False  \n",
       "200148       False  \n",
       "200151       False  \n",
       "200152       False  \n",
       "200153       False  \n",
       "\n",
       "[193679 rows x 414 columns]"
      ]
     },
     "execution_count": 35,
     "metadata": {},
     "output_type": "execute_result"
    }
   ],
   "source": [
    "merge_geo_codes"
   ]
  },
  {
   "cell_type": "code",
   "execution_count": 62,
   "metadata": {},
   "outputs": [],
   "source": [
    "merge_geo_codes.to_csv('data/merge_geo_codes.csv')"
   ]
  },
  {
   "cell_type": "code",
   "execution_count": null,
   "metadata": {},
   "outputs": [],
   "source": []
  },
  {
   "cell_type": "code",
   "execution_count": 65,
   "metadata": {},
   "outputs": [
    {
     "data": {
      "text/plain": [
       "spnfmi_272_y         4.0\n",
       "spnfmi_274_y         5.0\n",
       "spnfmi_389_y         0.0\n",
       "spnfmi_512_y         6.0\n",
       "spnfmi_513_y         1.0\n",
       "                    ... \n",
       "spnfmi_11486311_y    0.0\n",
       "spnfmi_19660829_y    1.0\n",
       "spnfmi_33504023_y    0.0\n",
       "spnfmi_52103214_y    1.0\n",
       "spnfmi_52428731_y    4.0\n",
       "Length: 396, dtype: float64"
      ]
     },
     "execution_count": 65,
     "metadata": {},
     "output_type": "execute_result"
    }
   ],
   "source": [
    "predictors_train.max()"
   ]
  },
  {
   "cell_type": "code",
   "execution_count": null,
   "metadata": {},
   "outputs": [],
   "source": []
  },
  {
   "cell_type": "code",
   "execution_count": null,
   "metadata": {},
   "outputs": [],
   "source": []
  },
  {
   "cell_type": "code",
   "execution_count": null,
   "metadata": {},
   "outputs": [],
   "source": []
  },
  {
   "cell_type": "code",
   "execution_count": null,
   "metadata": {},
   "outputs": [],
   "source": []
  },
  {
   "cell_type": "code",
   "execution_count": null,
   "metadata": {},
   "outputs": [],
   "source": []
  },
  {
   "cell_type": "code",
   "execution_count": null,
   "metadata": {},
   "outputs": [],
   "source": []
  },
  {
   "cell_type": "code",
   "execution_count": null,
   "metadata": {},
   "outputs": [],
   "source": []
  },
  {
   "cell_type": "markdown",
   "metadata": {},
   "source": [
    "# Create a modified version of a train test split"
   ]
  },
  {
   "cell_type": "code",
   "execution_count": 36,
   "metadata": {},
   "outputs": [],
   "source": [
    "#A function that simulates a train test split that keeps time sequences for trucks together, but still allows individual trucks\n",
    "#to randomly be assigned to training and testing\n",
    "\n",
    "def train_test_brake (df):\n",
    "    df = df.sort_values('EventTimeStamp')\n",
    "    t_len = df.shape[0]\n",
    "    t_perc80 = int(t_len * 0.8)\n",
    "    df80 = df.iloc[0 : t_perc80, :]\n",
    "    df20 = df.iloc[t_perc80 : , :]\n",
    "    return(df80, df20) "
   ]
  },
  {
   "cell_type": "code",
   "execution_count": 37,
   "metadata": {},
   "outputs": [],
   "source": [
    "dataframe_80_20 = merge_geo_codes.groupby('EquipmentID').apply(train_test_brake)"
   ]
  },
  {
   "cell_type": "code",
   "execution_count": 38,
   "metadata": {},
   "outputs": [],
   "source": [
    "#Creates training dataset\n",
    "\n",
    "df80 = pd.concat([x[0] for x in dataframe_80_20])"
   ]
  },
  {
   "cell_type": "code",
   "execution_count": 39,
   "metadata": {},
   "outputs": [],
   "source": [
    "#Creates testing dataset\n",
    "\n",
    "df20 = pd.concat([x[1] for x in dataframe_80_20])"
   ]
  },
  {
   "cell_type": "markdown",
   "metadata": {},
   "source": [
    "# Logistic Regression"
   ]
  },
  {
   "cell_type": "code",
   "execution_count": 40,
   "metadata": {},
   "outputs": [],
   "source": [
    "#predictors = df80.columns.tolist()\n",
    "bad_predictors = ['RecordID', 'EquipmentID', 'EventTimeStamp', \n",
    "                  'spn', 'fmi', 'ecuModel', 'activeTransitionCount',\n",
    "                  'ecuSerialNumber', 'ecuSoftwareVersion', \n",
    "                  'eventDescription', 'Latitude', 'Longitude', \n",
    "                  'EquipmentID_y', 'EventTimeStamp_y', 'spnfmi_156931_y', \n",
    "                  'flagtime', 'deltatime', 'targettime']"
   ]
  },
  {
   "cell_type": "code",
   "execution_count": 41,
   "metadata": {},
   "outputs": [],
   "source": [
    "#predictors.remove(bad_predictors)"
   ]
  },
  {
   "cell_type": "code",
   "execution_count": 42,
   "metadata": {},
   "outputs": [],
   "source": [
    "predictors_train = df80.drop(bad_predictors, axis = 1)\n",
    "predictors_test = df20.drop(bad_predictors, axis = 1)"
   ]
  },
  {
   "cell_type": "code",
   "execution_count": 43,
   "metadata": {},
   "outputs": [
    {
     "data": {
      "text/html": [
       "<div>\n",
       "<style scoped>\n",
       "    .dataframe tbody tr th:only-of-type {\n",
       "        vertical-align: middle;\n",
       "    }\n",
       "\n",
       "    .dataframe tbody tr th {\n",
       "        vertical-align: top;\n",
       "    }\n",
       "\n",
       "    .dataframe thead th {\n",
       "        text-align: right;\n",
       "    }\n",
       "</style>\n",
       "<table border=\"1\" class=\"dataframe\">\n",
       "  <thead>\n",
       "    <tr style=\"text-align: right;\">\n",
       "      <th></th>\n",
       "      <th>spnfmi_272_y</th>\n",
       "      <th>spnfmi_274_y</th>\n",
       "      <th>spnfmi_389_y</th>\n",
       "      <th>spnfmi_512_y</th>\n",
       "      <th>spnfmi_513_y</th>\n",
       "      <th>spnfmi_842_y</th>\n",
       "      <th>spnfmi_849_y</th>\n",
       "      <th>spnfmi_912_y</th>\n",
       "      <th>spnfmi_914_y</th>\n",
       "      <th>spnfmi_918_y</th>\n",
       "      <th>...</th>\n",
       "      <th>spnfmi_5209534_y</th>\n",
       "      <th>spnfmi_6553518_y</th>\n",
       "      <th>spnfmi_6553520_y</th>\n",
       "      <th>spnfmi_6553531_y</th>\n",
       "      <th>spnfmi_8812116_y</th>\n",
       "      <th>spnfmi_11486311_y</th>\n",
       "      <th>spnfmi_19660829_y</th>\n",
       "      <th>spnfmi_33504023_y</th>\n",
       "      <th>spnfmi_52103214_y</th>\n",
       "      <th>spnfmi_52428731_y</th>\n",
       "    </tr>\n",
       "  </thead>\n",
       "  <tbody>\n",
       "    <tr>\n",
       "      <th>0</th>\n",
       "      <td>0.0</td>\n",
       "      <td>0.0</td>\n",
       "      <td>0.0</td>\n",
       "      <td>0.0</td>\n",
       "      <td>0.0</td>\n",
       "      <td>0.0</td>\n",
       "      <td>0.0</td>\n",
       "      <td>0.0</td>\n",
       "      <td>0.0</td>\n",
       "      <td>0.0</td>\n",
       "      <td>...</td>\n",
       "      <td>0.0</td>\n",
       "      <td>0.0</td>\n",
       "      <td>0.0</td>\n",
       "      <td>0.0</td>\n",
       "      <td>0.0</td>\n",
       "      <td>0.0</td>\n",
       "      <td>0.0</td>\n",
       "      <td>0.0</td>\n",
       "      <td>0.0</td>\n",
       "      <td>0.0</td>\n",
       "    </tr>\n",
       "    <tr>\n",
       "      <th>1</th>\n",
       "      <td>0.0</td>\n",
       "      <td>0.0</td>\n",
       "      <td>0.0</td>\n",
       "      <td>0.0</td>\n",
       "      <td>0.0</td>\n",
       "      <td>0.0</td>\n",
       "      <td>0.0</td>\n",
       "      <td>0.0</td>\n",
       "      <td>0.0</td>\n",
       "      <td>0.0</td>\n",
       "      <td>...</td>\n",
       "      <td>0.0</td>\n",
       "      <td>0.0</td>\n",
       "      <td>0.0</td>\n",
       "      <td>0.0</td>\n",
       "      <td>0.0</td>\n",
       "      <td>0.0</td>\n",
       "      <td>0.0</td>\n",
       "      <td>0.0</td>\n",
       "      <td>0.0</td>\n",
       "      <td>0.0</td>\n",
       "    </tr>\n",
       "    <tr>\n",
       "      <th>3</th>\n",
       "      <td>0.0</td>\n",
       "      <td>0.0</td>\n",
       "      <td>0.0</td>\n",
       "      <td>0.0</td>\n",
       "      <td>0.0</td>\n",
       "      <td>0.0</td>\n",
       "      <td>0.0</td>\n",
       "      <td>0.0</td>\n",
       "      <td>0.0</td>\n",
       "      <td>0.0</td>\n",
       "      <td>...</td>\n",
       "      <td>0.0</td>\n",
       "      <td>0.0</td>\n",
       "      <td>0.0</td>\n",
       "      <td>0.0</td>\n",
       "      <td>0.0</td>\n",
       "      <td>0.0</td>\n",
       "      <td>0.0</td>\n",
       "      <td>0.0</td>\n",
       "      <td>0.0</td>\n",
       "      <td>0.0</td>\n",
       "    </tr>\n",
       "    <tr>\n",
       "      <th>4</th>\n",
       "      <td>0.0</td>\n",
       "      <td>0.0</td>\n",
       "      <td>0.0</td>\n",
       "      <td>0.0</td>\n",
       "      <td>0.0</td>\n",
       "      <td>0.0</td>\n",
       "      <td>0.0</td>\n",
       "      <td>0.0</td>\n",
       "      <td>0.0</td>\n",
       "      <td>0.0</td>\n",
       "      <td>...</td>\n",
       "      <td>0.0</td>\n",
       "      <td>0.0</td>\n",
       "      <td>0.0</td>\n",
       "      <td>0.0</td>\n",
       "      <td>0.0</td>\n",
       "      <td>0.0</td>\n",
       "      <td>0.0</td>\n",
       "      <td>0.0</td>\n",
       "      <td>0.0</td>\n",
       "      <td>0.0</td>\n",
       "    </tr>\n",
       "    <tr>\n",
       "      <th>5</th>\n",
       "      <td>0.0</td>\n",
       "      <td>0.0</td>\n",
       "      <td>0.0</td>\n",
       "      <td>0.0</td>\n",
       "      <td>0.0</td>\n",
       "      <td>0.0</td>\n",
       "      <td>0.0</td>\n",
       "      <td>0.0</td>\n",
       "      <td>0.0</td>\n",
       "      <td>0.0</td>\n",
       "      <td>...</td>\n",
       "      <td>0.0</td>\n",
       "      <td>0.0</td>\n",
       "      <td>0.0</td>\n",
       "      <td>0.0</td>\n",
       "      <td>0.0</td>\n",
       "      <td>0.0</td>\n",
       "      <td>0.0</td>\n",
       "      <td>0.0</td>\n",
       "      <td>0.0</td>\n",
       "      <td>0.0</td>\n",
       "    </tr>\n",
       "    <tr>\n",
       "      <th>...</th>\n",
       "      <td>...</td>\n",
       "      <td>...</td>\n",
       "      <td>...</td>\n",
       "      <td>...</td>\n",
       "      <td>...</td>\n",
       "      <td>...</td>\n",
       "      <td>...</td>\n",
       "      <td>...</td>\n",
       "      <td>...</td>\n",
       "      <td>...</td>\n",
       "      <td>...</td>\n",
       "      <td>...</td>\n",
       "      <td>...</td>\n",
       "      <td>...</td>\n",
       "      <td>...</td>\n",
       "      <td>...</td>\n",
       "      <td>...</td>\n",
       "      <td>...</td>\n",
       "      <td>...</td>\n",
       "      <td>...</td>\n",
       "      <td>...</td>\n",
       "    </tr>\n",
       "    <tr>\n",
       "      <th>200134</th>\n",
       "      <td>0.0</td>\n",
       "      <td>0.0</td>\n",
       "      <td>0.0</td>\n",
       "      <td>0.0</td>\n",
       "      <td>0.0</td>\n",
       "      <td>0.0</td>\n",
       "      <td>0.0</td>\n",
       "      <td>0.0</td>\n",
       "      <td>0.0</td>\n",
       "      <td>0.0</td>\n",
       "      <td>...</td>\n",
       "      <td>0.0</td>\n",
       "      <td>0.0</td>\n",
       "      <td>0.0</td>\n",
       "      <td>0.0</td>\n",
       "      <td>0.0</td>\n",
       "      <td>0.0</td>\n",
       "      <td>0.0</td>\n",
       "      <td>0.0</td>\n",
       "      <td>0.0</td>\n",
       "      <td>0.0</td>\n",
       "    </tr>\n",
       "    <tr>\n",
       "      <th>200135</th>\n",
       "      <td>0.0</td>\n",
       "      <td>0.0</td>\n",
       "      <td>0.0</td>\n",
       "      <td>0.0</td>\n",
       "      <td>0.0</td>\n",
       "      <td>0.0</td>\n",
       "      <td>0.0</td>\n",
       "      <td>0.0</td>\n",
       "      <td>0.0</td>\n",
       "      <td>0.0</td>\n",
       "      <td>...</td>\n",
       "      <td>0.0</td>\n",
       "      <td>0.0</td>\n",
       "      <td>0.0</td>\n",
       "      <td>0.0</td>\n",
       "      <td>0.0</td>\n",
       "      <td>0.0</td>\n",
       "      <td>0.0</td>\n",
       "      <td>0.0</td>\n",
       "      <td>0.0</td>\n",
       "      <td>0.0</td>\n",
       "    </tr>\n",
       "    <tr>\n",
       "      <th>200136</th>\n",
       "      <td>0.0</td>\n",
       "      <td>0.0</td>\n",
       "      <td>0.0</td>\n",
       "      <td>0.0</td>\n",
       "      <td>0.0</td>\n",
       "      <td>0.0</td>\n",
       "      <td>0.0</td>\n",
       "      <td>0.0</td>\n",
       "      <td>0.0</td>\n",
       "      <td>0.0</td>\n",
       "      <td>...</td>\n",
       "      <td>0.0</td>\n",
       "      <td>0.0</td>\n",
       "      <td>0.0</td>\n",
       "      <td>0.0</td>\n",
       "      <td>0.0</td>\n",
       "      <td>0.0</td>\n",
       "      <td>0.0</td>\n",
       "      <td>0.0</td>\n",
       "      <td>0.0</td>\n",
       "      <td>0.0</td>\n",
       "    </tr>\n",
       "    <tr>\n",
       "      <th>200151</th>\n",
       "      <td>0.0</td>\n",
       "      <td>0.0</td>\n",
       "      <td>0.0</td>\n",
       "      <td>0.0</td>\n",
       "      <td>0.0</td>\n",
       "      <td>0.0</td>\n",
       "      <td>0.0</td>\n",
       "      <td>0.0</td>\n",
       "      <td>0.0</td>\n",
       "      <td>0.0</td>\n",
       "      <td>...</td>\n",
       "      <td>0.0</td>\n",
       "      <td>0.0</td>\n",
       "      <td>0.0</td>\n",
       "      <td>0.0</td>\n",
       "      <td>0.0</td>\n",
       "      <td>0.0</td>\n",
       "      <td>0.0</td>\n",
       "      <td>0.0</td>\n",
       "      <td>0.0</td>\n",
       "      <td>0.0</td>\n",
       "    </tr>\n",
       "    <tr>\n",
       "      <th>200152</th>\n",
       "      <td>0.0</td>\n",
       "      <td>0.0</td>\n",
       "      <td>0.0</td>\n",
       "      <td>0.0</td>\n",
       "      <td>0.0</td>\n",
       "      <td>0.0</td>\n",
       "      <td>0.0</td>\n",
       "      <td>0.0</td>\n",
       "      <td>0.0</td>\n",
       "      <td>0.0</td>\n",
       "      <td>...</td>\n",
       "      <td>0.0</td>\n",
       "      <td>0.0</td>\n",
       "      <td>0.0</td>\n",
       "      <td>0.0</td>\n",
       "      <td>0.0</td>\n",
       "      <td>0.0</td>\n",
       "      <td>0.0</td>\n",
       "      <td>0.0</td>\n",
       "      <td>0.0</td>\n",
       "      <td>0.0</td>\n",
       "    </tr>\n",
       "  </tbody>\n",
       "</table>\n",
       "<p>154556 rows × 396 columns</p>\n",
       "</div>"
      ],
      "text/plain": [
       "        spnfmi_272_y  spnfmi_274_y  spnfmi_389_y  spnfmi_512_y  spnfmi_513_y  \\\n",
       "0                0.0           0.0           0.0           0.0           0.0   \n",
       "1                0.0           0.0           0.0           0.0           0.0   \n",
       "3                0.0           0.0           0.0           0.0           0.0   \n",
       "4                0.0           0.0           0.0           0.0           0.0   \n",
       "5                0.0           0.0           0.0           0.0           0.0   \n",
       "...              ...           ...           ...           ...           ...   \n",
       "200134           0.0           0.0           0.0           0.0           0.0   \n",
       "200135           0.0           0.0           0.0           0.0           0.0   \n",
       "200136           0.0           0.0           0.0           0.0           0.0   \n",
       "200151           0.0           0.0           0.0           0.0           0.0   \n",
       "200152           0.0           0.0           0.0           0.0           0.0   \n",
       "\n",
       "        spnfmi_842_y  spnfmi_849_y  spnfmi_912_y  spnfmi_914_y  spnfmi_918_y  \\\n",
       "0                0.0           0.0           0.0           0.0           0.0   \n",
       "1                0.0           0.0           0.0           0.0           0.0   \n",
       "3                0.0           0.0           0.0           0.0           0.0   \n",
       "4                0.0           0.0           0.0           0.0           0.0   \n",
       "5                0.0           0.0           0.0           0.0           0.0   \n",
       "...              ...           ...           ...           ...           ...   \n",
       "200134           0.0           0.0           0.0           0.0           0.0   \n",
       "200135           0.0           0.0           0.0           0.0           0.0   \n",
       "200136           0.0           0.0           0.0           0.0           0.0   \n",
       "200151           0.0           0.0           0.0           0.0           0.0   \n",
       "200152           0.0           0.0           0.0           0.0           0.0   \n",
       "\n",
       "        ...  spnfmi_5209534_y  spnfmi_6553518_y  spnfmi_6553520_y  \\\n",
       "0       ...               0.0               0.0               0.0   \n",
       "1       ...               0.0               0.0               0.0   \n",
       "3       ...               0.0               0.0               0.0   \n",
       "4       ...               0.0               0.0               0.0   \n",
       "5       ...               0.0               0.0               0.0   \n",
       "...     ...               ...               ...               ...   \n",
       "200134  ...               0.0               0.0               0.0   \n",
       "200135  ...               0.0               0.0               0.0   \n",
       "200136  ...               0.0               0.0               0.0   \n",
       "200151  ...               0.0               0.0               0.0   \n",
       "200152  ...               0.0               0.0               0.0   \n",
       "\n",
       "        spnfmi_6553531_y  spnfmi_8812116_y  spnfmi_11486311_y  \\\n",
       "0                    0.0               0.0                0.0   \n",
       "1                    0.0               0.0                0.0   \n",
       "3                    0.0               0.0                0.0   \n",
       "4                    0.0               0.0                0.0   \n",
       "5                    0.0               0.0                0.0   \n",
       "...                  ...               ...                ...   \n",
       "200134               0.0               0.0                0.0   \n",
       "200135               0.0               0.0                0.0   \n",
       "200136               0.0               0.0                0.0   \n",
       "200151               0.0               0.0                0.0   \n",
       "200152               0.0               0.0                0.0   \n",
       "\n",
       "        spnfmi_19660829_y  spnfmi_33504023_y  spnfmi_52103214_y  \\\n",
       "0                     0.0                0.0                0.0   \n",
       "1                     0.0                0.0                0.0   \n",
       "3                     0.0                0.0                0.0   \n",
       "4                     0.0                0.0                0.0   \n",
       "5                     0.0                0.0                0.0   \n",
       "...                   ...                ...                ...   \n",
       "200134                0.0                0.0                0.0   \n",
       "200135                0.0                0.0                0.0   \n",
       "200136                0.0                0.0                0.0   \n",
       "200151                0.0                0.0                0.0   \n",
       "200152                0.0                0.0                0.0   \n",
       "\n",
       "        spnfmi_52428731_y  \n",
       "0                     0.0  \n",
       "1                     0.0  \n",
       "3                     0.0  \n",
       "4                     0.0  \n",
       "5                     0.0  \n",
       "...                   ...  \n",
       "200134                0.0  \n",
       "200135                0.0  \n",
       "200136                0.0  \n",
       "200151                0.0  \n",
       "200152                0.0  \n",
       "\n",
       "[154556 rows x 396 columns]"
      ]
     },
     "execution_count": 43,
     "metadata": {},
     "output_type": "execute_result"
    }
   ],
   "source": [
    "#df20 = df20.drop(bad_predictors, axis = 1)\n",
    "\n",
    "predictors_train"
   ]
  },
  {
   "cell_type": "code",
   "execution_count": 44,
   "metadata": {},
   "outputs": [],
   "source": [
    "# Predictors\n",
    "X_train = predictors_train\n",
    "\n",
    "X_test = predictors_test\n",
    "\n",
    "# Target\n",
    "y_train = df80.targettime\n",
    "\n",
    "y_test = df20.targettime"
   ]
  },
  {
   "cell_type": "code",
   "execution_count": 45,
   "metadata": {},
   "outputs": [
    {
     "name": "stderr",
     "output_type": "stream",
     "text": [
      "D:\\Anaconda3\\envs\\keras_env\\lib\\site-packages\\sklearn\\linear_model\\_logistic.py:765: ConvergenceWarning: lbfgs failed to converge (status=1):\n",
      "STOP: TOTAL NO. of ITERATIONS REACHED LIMIT.\n",
      "\n",
      "Increase the number of iterations (max_iter) or scale the data as shown in:\n",
      "    https://scikit-learn.org/stable/modules/preprocessing.html\n",
      "Please also refer to the documentation for alternative solver options:\n",
      "    https://scikit-learn.org/stable/modules/linear_model.html#logistic-regression\n",
      "  extra_warning_msg=_LOGISTIC_SOLVER_CONVERGENCE_MSG)\n"
     ]
    }
   ],
   "source": [
    "logreg = LogisticRegression().fit(X_train, y_train)"
   ]
  },
  {
   "cell_type": "code",
   "execution_count": 46,
   "metadata": {},
   "outputs": [],
   "source": [
    "lr_weights = LogisticRegression(class_weight = {0:1, 1:12})"
   ]
  },
  {
   "cell_type": "code",
   "execution_count": 47,
   "metadata": {},
   "outputs": [
    {
     "name": "stderr",
     "output_type": "stream",
     "text": [
      "D:\\Anaconda3\\envs\\keras_env\\lib\\site-packages\\sklearn\\linear_model\\_logistic.py:765: ConvergenceWarning: lbfgs failed to converge (status=1):\n",
      "STOP: TOTAL NO. of ITERATIONS REACHED LIMIT.\n",
      "\n",
      "Increase the number of iterations (max_iter) or scale the data as shown in:\n",
      "    https://scikit-learn.org/stable/modules/preprocessing.html\n",
      "Please also refer to the documentation for alternative solver options:\n",
      "    https://scikit-learn.org/stable/modules/linear_model.html#logistic-regression\n",
      "  extra_warning_msg=_LOGISTIC_SOLVER_CONVERGENCE_MSG)\n"
     ]
    },
    {
     "data": {
      "text/plain": [
       "LogisticRegression(class_weight={0: 1, 1: 12})"
      ]
     },
     "execution_count": 47,
     "metadata": {},
     "output_type": "execute_result"
    }
   ],
   "source": [
    "lr_weights.fit(X_train, y_train)"
   ]
  },
  {
   "cell_type": "code",
   "execution_count": 48,
   "metadata": {},
   "outputs": [],
   "source": [
    "y_pred = lr_weights.predict(X_test)"
   ]
  },
  {
   "cell_type": "code",
   "execution_count": 49,
   "metadata": {},
   "outputs": [
    {
     "data": {
      "text/plain": [
       "0.9648033126293996"
      ]
     },
     "execution_count": 49,
     "metadata": {},
     "output_type": "execute_result"
    }
   ],
   "source": [
    "accuracy_score(y_test, y_pred)"
   ]
  },
  {
   "cell_type": "code",
   "execution_count": null,
   "metadata": {},
   "outputs": [],
   "source": []
  },
  {
   "cell_type": "code",
   "execution_count": null,
   "metadata": {},
   "outputs": [],
   "source": []
  },
  {
   "cell_type": "code",
   "execution_count": 50,
   "metadata": {},
   "outputs": [
    {
     "data": {
      "text/plain": [
       "array([[ 5.95101552e-02,  8.16847129e-02,  0.00000000e+00,\n",
       "        -2.44373572e-02, -3.53931962e-03, -4.41769536e-02,\n",
       "        -1.11520194e-01,  2.17576639e-01, -2.08410984e-01,\n",
       "        -4.79801078e-02, -4.79742688e-02, -1.37369205e-01,\n",
       "        -1.28572704e-01, -1.46246911e-02, -1.00534789e-02,\n",
       "        -3.96154634e-03, -1.36092939e-02, -1.42377177e-02,\n",
       "        -5.41506993e-02, -2.98423659e-02,  2.03649689e-01,\n",
       "        -2.96708164e-02, -1.46111809e-01,  1.83394597e-01,\n",
       "        -4.97588614e-03, -5.64171177e-02, -2.32208454e-03,\n",
       "        -3.21791356e-03, -7.39658223e-02, -1.38366462e-02,\n",
       "        -1.66861152e-02, -8.47949222e-02, -1.71515953e-02,\n",
       "        -3.89771735e-02, -1.00123856e-01, -9.69830610e-02,\n",
       "        -1.40680248e-01, -9.23544272e-03,  2.48324810e-01,\n",
       "        -3.98396734e-02, -1.70021008e-01,  2.86842941e-02,\n",
       "        -6.39624988e-02, -2.87467932e-02, -1.51882941e-02,\n",
       "        -3.40219152e-04, -1.95416604e-02,  3.27913540e-02,\n",
       "        -6.98137732e-02, -1.49823869e-03, -5.82979845e-02,\n",
       "        -1.54799538e-02, -5.84436877e-02, -5.82274124e-02,\n",
       "        -4.45803339e-02, -1.50475515e-01, -6.39142949e-03,\n",
       "        -8.39286784e-02,  2.90349058e-01,  2.39723260e-02,\n",
       "         1.26056339e-01, -2.54770539e-03,  1.16171361e-01,\n",
       "        -1.75334370e-02, -8.80916165e-02, -1.57202273e-02,\n",
       "         2.50162009e-01, -9.73104118e-03, -3.16521979e-01,\n",
       "        -3.29965560e-02, -1.07764093e-01, -3.38235531e-02,\n",
       "        -1.55044303e-01, -4.44695927e-04, -1.75014548e-03,\n",
       "        -3.88057151e-02, -1.51763753e-02, -3.87868999e-02,\n",
       "        -4.13446644e-03, -5.30855283e-04, -7.82175651e-03,\n",
       "        -4.58580395e-03, -4.59437922e-02, -3.68986661e-02,\n",
       "         0.00000000e+00, -8.26717983e-02, -7.70244057e-03,\n",
       "        -1.07334951e-01, -3.10785055e-03, -1.61400951e-01,\n",
       "        -2.29297041e-01, -3.24289173e-03, -8.89514423e-02,\n",
       "        -3.61698351e-02,  3.62656591e-02, -4.69989244e-03,\n",
       "        -4.45779808e-04, -2.03656975e-01,  3.86330215e-02,\n",
       "        -1.40697788e-02, -9.56455168e-03, -1.47268285e-02,\n",
       "        -4.33698634e-01, -1.95578891e-01, -2.04170550e-02,\n",
       "        -1.99012254e-01, -6.34460147e-04, -9.66369810e-03,\n",
       "        -5.31064223e-04, -3.99078800e-02,  3.71422197e-02,\n",
       "        -1.46406035e-02,  1.60148158e-01, -5.96079217e-03,\n",
       "        -1.29536195e-02, -5.26064443e-04, -2.23786482e-01,\n",
       "        -2.97185457e-02, -1.13139551e-01, -2.80846092e-03,\n",
       "        -2.87655664e-01, -6.45873638e-02, -1.24104436e-02,\n",
       "        -6.08797026e-02, -6.50794020e-02, -6.44973672e-01,\n",
       "        -1.09591056e-02, -7.54115684e-02, -4.70717709e-03,\n",
       "        -1.79290013e-02, -1.06181503e-03, -3.10769627e-02,\n",
       "        -1.19515926e-02, -2.04895235e-01,  9.06549514e-02,\n",
       "        -8.90558629e-02,  0.00000000e+00, -1.25956115e-02,\n",
       "        -9.48822980e-02, -1.35732104e-02,  7.00007539e-01,\n",
       "        -9.45677535e-02,  1.69373744e-01,  1.24029668e-01,\n",
       "        -3.32379935e-01, -1.30839156e-03, -4.89517530e-04,\n",
       "        -1.32906101e-01, -3.85435323e-01, -3.37046988e-01,\n",
       "         3.38075342e-02, -2.56450630e-02, -1.01106292e-02,\n",
       "        -2.91937464e-02, -1.00903599e-02, -1.29205109e-01,\n",
       "         0.00000000e+00, -1.12232732e-01,  3.94266757e-01,\n",
       "        -4.65846576e-04,  1.41003750e-01, -5.39061699e-03,\n",
       "         2.11993894e-01, -3.70258678e-03, -2.25968273e-02,\n",
       "        -1.77357384e-01,  1.00668541e-01, -4.66413297e-03,\n",
       "        -1.45633950e-01, -6.31700186e-04,  7.19729360e-02,\n",
       "        -5.31064223e-04, -1.32061617e-01, -7.26358354e-02,\n",
       "        -1.86663251e-01,  1.98296872e-01, -6.65239835e-03,\n",
       "        -5.26230545e-04, -1.80465714e-01,  4.66548340e-02,\n",
       "        -1.59705474e-02,  8.05942382e-02, -2.62305787e-01,\n",
       "        -1.23843666e-03,  6.08679080e-03, -1.15763093e-01,\n",
       "         3.83940951e-01, -2.24409125e-03, -1.05343452e-03,\n",
       "         2.67603752e-02,  7.58082507e-02, -6.92019416e-02,\n",
       "        -5.44597225e-02, -7.40101671e-03,  1.21753406e-01,\n",
       "        -9.31771484e-04,  1.12567422e-02,  0.00000000e+00,\n",
       "        -1.79373046e-03, -5.41620577e-03, -9.78727636e-02,\n",
       "        -1.74599835e-02, -1.47173167e-01,  2.25087131e-02,\n",
       "         9.45952921e-03, -3.33059529e-03,  3.20449635e-01,\n",
       "        -1.34367126e-02, -6.15242914e-04,  8.82261377e-02,\n",
       "         9.27461087e-02,  0.00000000e+00, -9.09253933e-02,\n",
       "        -8.35516911e-03, -1.59466416e-02, -6.64840893e-02,\n",
       "        -1.08598915e-01,  3.97270196e-01, -1.57676401e-03,\n",
       "        -1.32715286e-01,  5.71014885e-02, -3.61914630e-03,\n",
       "        -4.58866744e-04, -1.31502568e-01,  1.87491677e-02,\n",
       "        -4.28073200e-02, -2.41543329e-02, -2.98915913e-03,\n",
       "        -2.25542640e-01, -1.63298257e-02, -5.97347302e-03,\n",
       "        -1.18752990e-01, -3.65417586e-01,  0.00000000e+00,\n",
       "        -2.22078498e-02, -5.76115758e-01, -1.06465949e-02,\n",
       "         2.09478286e-02,  1.52785284e-01,  7.87467004e-03,\n",
       "        -3.98660772e-04, -6.07848364e-02,  2.95380657e-02,\n",
       "         0.00000000e+00, -2.09024235e-03, -2.82652658e-02,\n",
       "        -3.11165022e-02,  6.98549592e-02, -1.52488092e-02,\n",
       "        -3.14496611e-02,  7.03379097e-01,  1.63024385e-02,\n",
       "         8.22346352e-02, -2.65277531e-01, -4.09614104e-03,\n",
       "        -1.20808279e-01,  2.14261451e-01, -1.30158072e-01,\n",
       "         1.30698005e-01, -9.50245677e-04,  0.00000000e+00,\n",
       "        -8.52477986e-03,  0.00000000e+00, -3.87548705e-02,\n",
       "        -2.47016643e-01, -2.47782846e-03,  4.32091569e-02,\n",
       "        -2.67088246e-02, -8.64896211e-03,  1.44066170e-01,\n",
       "        -2.95721418e-02, -3.43158923e-02, -6.95186397e-03,\n",
       "        -3.47089097e-04, -6.09813178e-03,  0.00000000e+00,\n",
       "        -2.63164448e-02,  3.84968653e-02, -3.18509396e-03,\n",
       "        -3.70537618e-03, -1.85273792e-02, -1.84136324e-01,\n",
       "        -2.46667912e-02, -1.06066751e-03, -1.79774633e-02,\n",
       "        -1.89943490e-02, -5.31064223e-04, -1.14619662e-03,\n",
       "        -2.65239878e-03, -1.96415317e-03,  0.00000000e+00,\n",
       "        -1.06066751e-03, -4.27166654e-02, -7.68219316e-04,\n",
       "         6.11436648e-02,  7.60275277e-01, -2.21746486e-01,\n",
       "        -1.58819607e-03, -9.31812578e-02, -6.81229979e-02,\n",
       "        -5.22770205e-03,  5.95672143e-01, -3.37973509e-02,\n",
       "         1.08804856e-01,  0.00000000e+00, -2.04850046e-01,\n",
       "         4.85516929e-02, -3.24226101e-01, -5.41531448e-03,\n",
       "         0.00000000e+00,  2.14320468e-01, -5.84406325e-03,\n",
       "         0.00000000e+00, -1.14993444e-02, -1.02027032e-02,\n",
       "        -7.67429938e-03, -4.47577108e-04, -6.01368799e-02,\n",
       "         2.53496660e-02,  0.00000000e+00, -3.86031111e-03,\n",
       "         3.50454837e-02,  4.10254172e-02, -3.77768936e-02,\n",
       "         1.03771643e+00,  7.66677994e-02, -4.89529712e-03,\n",
       "         1.23811487e-01, -1.26763378e-03, -7.05972738e-03,\n",
       "        -2.61959736e-03, -1.06104091e-03, -4.04450416e-01,\n",
       "        -9.16802037e-02, -7.72421497e-02, -1.80095602e-01,\n",
       "        -2.34760460e-02,  8.81226946e-02, -9.78011537e-04,\n",
       "         4.53476668e-01, -3.64493242e-02, -3.17639828e-03,\n",
       "        -1.38665068e-03,  8.92871476e-03,  1.74678435e-01,\n",
       "         0.00000000e+00, -7.79098376e-03,  0.00000000e+00,\n",
       "        -5.20175068e-03, -2.87227088e-02, -2.33519606e-02,\n",
       "        -2.66056935e-03,  0.00000000e+00, -1.34436513e-03,\n",
       "        -1.07085767e-02,  2.68283000e-01, -8.60614176e-03,\n",
       "        -9.18030592e-02, -1.95815678e-01,  6.76534759e-02,\n",
       "        -1.01325411e-02, -2.05150194e-02, -6.58685316e-02,\n",
       "        -2.23439320e-02, -1.13720269e-03, -1.72896406e-01,\n",
       "         5.45743241e-02, -5.59147443e-03, -9.67303580e-03,\n",
       "        -2.24596364e-02, -6.53448165e-03, -3.71160858e-03,\n",
       "        -3.83504012e-02, -3.07043396e-03, -1.94907616e-02,\n",
       "        -3.54287085e-03, -5.34566954e-03, -7.42630513e-03,\n",
       "         0.00000000e+00, -3.47160023e-03, -2.26232719e-03,\n",
       "        -1.61135550e-02, -1.29077787e-02,  3.59085317e-02,\n",
       "        -3.50627628e-02, -1.60271578e-03, -6.78923601e-02,\n",
       "        -6.99218919e-03, -2.70692420e-03,  0.00000000e+00,\n",
       "        -2.13374486e-03,  0.00000000e+00, -8.80829220e-03,\n",
       "         0.00000000e+00, -2.50329986e-03, -4.94573447e-02]])"
      ]
     },
     "execution_count": 50,
     "metadata": {},
     "output_type": "execute_result"
    }
   ],
   "source": [
    "logreg.coef_"
   ]
  },
  {
   "cell_type": "code",
   "execution_count": 51,
   "metadata": {},
   "outputs": [
    {
     "data": {
      "text/plain": [
       "array([-4.1978695])"
      ]
     },
     "execution_count": 51,
     "metadata": {},
     "output_type": "execute_result"
    }
   ],
   "source": [
    "logreg.intercept_"
   ]
  },
  {
   "cell_type": "code",
   "execution_count": 52,
   "metadata": {},
   "outputs": [],
   "source": [
    "y_pred = logreg.predict(X_test)"
   ]
  },
  {
   "cell_type": "code",
   "execution_count": 53,
   "metadata": {},
   "outputs": [
    {
     "data": {
      "text/plain": [
       "array([False, False, False, ..., False, False, False])"
      ]
     },
     "execution_count": 53,
     "metadata": {},
     "output_type": "execute_result"
    }
   ],
   "source": [
    "y_pred"
   ]
  },
  {
   "cell_type": "code",
   "execution_count": 54,
   "metadata": {},
   "outputs": [
    {
     "data": {
      "text/plain": [
       "array([[0.97866375, 0.02133625],\n",
       "       [0.98956172, 0.01043828],\n",
       "       [0.98615421, 0.01384579],\n",
       "       ...,\n",
       "       [0.9843754 , 0.0156246 ],\n",
       "       [0.98279303, 0.01720697],\n",
       "       [0.97789284, 0.02210716]])"
      ]
     },
     "execution_count": 54,
     "metadata": {},
     "output_type": "execute_result"
    }
   ],
   "source": [
    "logreg.predict_proba(X_test)"
   ]
  },
  {
   "cell_type": "code",
   "execution_count": 55,
   "metadata": {},
   "outputs": [
    {
     "data": {
      "text/plain": [
       "array([[38481,    23],\n",
       "       [  619,     0]], dtype=int64)"
      ]
     },
     "execution_count": 55,
     "metadata": {},
     "output_type": "execute_result"
    }
   ],
   "source": [
    "confusion_matrix(y_test, y_pred)"
   ]
  },
  {
   "cell_type": "code",
   "execution_count": null,
   "metadata": {},
   "outputs": [],
   "source": []
  },
  {
   "cell_type": "code",
   "execution_count": null,
   "metadata": {},
   "outputs": [],
   "source": []
  },
  {
   "cell_type": "code",
   "execution_count": 56,
   "metadata": {},
   "outputs": [
    {
     "name": "stderr",
     "output_type": "stream",
     "text": [
      "D:\\NSS\\big_g_express-big_shot\\cm.py:12: MatplotlibDeprecationWarning: The 's' parameter of annotate() has been renamed 'text' since Matplotlib 3.3; support for the old name will be dropped two minor releases later.\n",
      "  plt.annotate(s = labels[0], xy = (0.5, 2.05), va = 'bottom', ha = 'center', fontsize = fontsize)\n",
      "D:\\NSS\\big_g_express-big_shot\\cm.py:13: MatplotlibDeprecationWarning: The 's' parameter of annotate() has been renamed 'text' since Matplotlib 3.3; support for the old name will be dropped two minor releases later.\n",
      "  plt.annotate(s = labels[1], xy = (1.5, 2.05), va = 'bottom', ha = 'center', fontsize = fontsize)\n",
      "D:\\NSS\\big_g_express-big_shot\\cm.py:14: MatplotlibDeprecationWarning: The 's' parameter of annotate() has been renamed 'text' since Matplotlib 3.3; support for the old name will be dropped two minor releases later.\n",
      "  plt.annotate(s = labels[0], xy = (-0.05, 1.5), va = 'center', ha = 'right', fontsize = fontsize, rotation = 90)\n",
      "D:\\NSS\\big_g_express-big_shot\\cm.py:15: MatplotlibDeprecationWarning: The 's' parameter of annotate() has been renamed 'text' since Matplotlib 3.3; support for the old name will be dropped two minor releases later.\n",
      "  plt.annotate(s = labels[1], xy = (-0.05, 0.5), va = 'center', ha = 'right', fontsize = fontsize, rotation = 90)\n",
      "D:\\NSS\\big_g_express-big_shot\\cm.py:17: MatplotlibDeprecationWarning: The 's' parameter of annotate() has been renamed 'text' since Matplotlib 3.3; support for the old name will be dropped two minor releases later.\n",
      "  plt.annotate(s = 'Predicted', xy = (1, 2.25), va = 'bottom', ha = 'center', fontsize = fontsize + 2, fontweight = 'bold')\n",
      "D:\\NSS\\big_g_express-big_shot\\cm.py:18: MatplotlibDeprecationWarning: The 's' parameter of annotate() has been renamed 'text' since Matplotlib 3.3; support for the old name will be dropped two minor releases later.\n",
      "  plt.annotate(s = 'Actual', xy = (-0.25, 1), va = 'center', ha = 'right', fontsize = fontsize + 2, fontweight = 'bold', rotation = 90)\n",
      "D:\\NSS\\big_g_express-big_shot\\cm.py:24: MatplotlibDeprecationWarning: The 's' parameter of annotate() has been renamed 'text' since Matplotlib 3.3; support for the old name will be dropped two minor releases later.\n",
      "  plt.annotate(s = cm[j][i], xy = (0.5 + i, 1.5 - j), fontsize = fontsize + 4, ha = 'center', va = 'center')\n",
      "D:\\NSS\\big_g_express-big_shot\\cm.py:37: MatplotlibDeprecationWarning: The 's' parameter of annotate() has been renamed 'text' since Matplotlib 3.3; support for the old name will be dropped two minor releases later.\n",
      "  xy = (1, -0.1), ha = 'center', va = 'top', fontsize = fontsize + 2)\n"
     ]
    },
    {
     "data": {
      "image/png": "[encoded data removed]",
      "text/plain": [
       "<Figure size 432x432 with 1 Axes>"
      ]
     },
     "metadata": {
      "needs_background": "light"
     },
     "output_type": "display_data"
    }
   ],
   "source": [
    "plot_confusion_matrix(y_test, y_pred, labels = ['0', '1'], metric = 'accuracy')"
   ]
  },
  {
   "cell_type": "code",
   "execution_count": 57,
   "metadata": {},
   "outputs": [
    {
     "name": "stderr",
     "output_type": "stream",
     "text": [
      "D:\\NSS\\big_g_express-big_shot\\cm.py:12: MatplotlibDeprecationWarning: The 's' parameter of annotate() has been renamed 'text' since Matplotlib 3.3; support for the old name will be dropped two minor releases later.\n",
      "  plt.annotate(s = labels[0], xy = (0.5, 2.05), va = 'bottom', ha = 'center', fontsize = fontsize)\n",
      "D:\\NSS\\big_g_express-big_shot\\cm.py:13: MatplotlibDeprecationWarning: The 's' parameter of annotate() has been renamed 'text' since Matplotlib 3.3; support for the old name will be dropped two minor releases later.\n",
      "  plt.annotate(s = labels[1], xy = (1.5, 2.05), va = 'bottom', ha = 'center', fontsize = fontsize)\n",
      "D:\\NSS\\big_g_express-big_shot\\cm.py:14: MatplotlibDeprecationWarning: The 's' parameter of annotate() has been renamed 'text' since Matplotlib 3.3; support for the old name will be dropped two minor releases later.\n",
      "  plt.annotate(s = labels[0], xy = (-0.05, 1.5), va = 'center', ha = 'right', fontsize = fontsize, rotation = 90)\n",
      "D:\\NSS\\big_g_express-big_shot\\cm.py:15: MatplotlibDeprecationWarning: The 's' parameter of annotate() has been renamed 'text' since Matplotlib 3.3; support for the old name will be dropped two minor releases later.\n",
      "  plt.annotate(s = labels[1], xy = (-0.05, 0.5), va = 'center', ha = 'right', fontsize = fontsize, rotation = 90)\n",
      "D:\\NSS\\big_g_express-big_shot\\cm.py:17: MatplotlibDeprecationWarning: The 's' parameter of annotate() has been renamed 'text' since Matplotlib 3.3; support for the old name will be dropped two minor releases later.\n",
      "  plt.annotate(s = 'Predicted', xy = (1, 2.25), va = 'bottom', ha = 'center', fontsize = fontsize + 2, fontweight = 'bold')\n",
      "D:\\NSS\\big_g_express-big_shot\\cm.py:18: MatplotlibDeprecationWarning: The 's' parameter of annotate() has been renamed 'text' since Matplotlib 3.3; support for the old name will be dropped two minor releases later.\n",
      "  plt.annotate(s = 'Actual', xy = (-0.25, 1), va = 'center', ha = 'right', fontsize = fontsize + 2, fontweight = 'bold', rotation = 90)\n",
      "D:\\NSS\\big_g_express-big_shot\\cm.py:24: MatplotlibDeprecationWarning: The 's' parameter of annotate() has been renamed 'text' since Matplotlib 3.3; support for the old name will be dropped two minor releases later.\n",
      "  plt.annotate(s = cm[j][i], xy = (0.5 + i, 1.5 - j), fontsize = fontsize + 4, ha = 'center', va = 'center')\n",
      "D:\\NSS\\big_g_express-big_shot\\cm.py:58: MatplotlibDeprecationWarning: The 's' parameter of annotate() has been renamed 'text' since Matplotlib 3.3; support for the old name will be dropped two minor releases later.\n",
      "  xy = (1, -0.1), ha = 'center', va = 'top', fontsize = fontsize + 2)\n"
     ]
    },
    {
     "data": {
      "image/png": "[encoded data removed]",
      "text/plain": [
       "<Figure size 432x432 with 1 Axes>"
      ]
     },
     "metadata": {
      "needs_background": "light"
     },
     "output_type": "display_data"
    }
   ],
   "source": [
    "plot_confusion_matrix(y_test, y_pred, labels = ['0', '1'], metric = 'precision')"
   ]
  },
  {
   "cell_type": "code",
   "execution_count": 58,
   "metadata": {},
   "outputs": [
    {
     "data": {
      "text/plain": [
       "0.9835902154742735"
      ]
     },
     "execution_count": 58,
     "metadata": {},
     "output_type": "execute_result"
    }
   ],
   "source": [
    "f1_score(y_test, y_pred, average = 'micro')"
   ]
  },
  {
   "cell_type": "code",
   "execution_count": 59,
   "metadata": {},
   "outputs": [
    {
     "name": "stdout",
     "output_type": "stream",
     "text": [
      "              precision    recall  f1-score   support\n",
      "\n",
      "       False       0.98      1.00      0.99     38504\n",
      "        True       0.00      0.00      0.00       619\n",
      "\n",
      "    accuracy                           0.98     39123\n",
      "   macro avg       0.49      0.50      0.50     39123\n",
      "weighted avg       0.97      0.98      0.98     39123\n",
      "\n"
     ]
    }
   ],
   "source": [
    "print(classification_report(y_test, y_pred))"
   ]
  },
  {
   "cell_type": "markdown",
   "metadata": {},
   "source": [
    "# LASSO TESTING"
   ]
  },
  {
   "cell_type": "code",
   "execution_count": 60,
   "metadata": {},
   "outputs": [
    {
     "data": {
      "text/plain": [
       "[PhysicalDevice(name='/physical_device:GPU:0', device_type='GPU'),\n",
       " PhysicalDevice(name='/physical_device:GPU:1', device_type='GPU')]"
      ]
     },
     "execution_count": 60,
     "metadata": {},
     "output_type": "execute_result"
    }
   ],
   "source": [
    "tf.config.list_physical_devices('GPU')"
   ]
  },
  {
   "cell_type": "code",
   "execution_count": null,
   "metadata": {},
   "outputs": [],
   "source": [
    "#with tf.device('/gpu:0'):"
   ]
  },
  {
   "cell_type": "code",
   "execution_count": null,
   "metadata": {},
   "outputs": [],
   "source": []
  },
  {
   "cell_type": "code",
   "execution_count": 61,
   "metadata": {},
   "outputs": [
    {
     "name": "stderr",
     "output_type": "stream",
     "text": [
      "D:\\Anaconda3\\envs\\keras_env\\lib\\site-packages\\sklearn\\linear_model\\_sag.py:329: ConvergenceWarning: The max_iter was reached which means the coef_ did not converge\n",
      "  \"the coef_ did not converge\", ConvergenceWarning)\n"
     ]
    }
   ],
   "source": [
    "#Smaller c values specify stronger regularization \n",
    "with tf.device('/gpu:0'):\n",
    "    lasso = LogisticRegression(penalty = 'l1', \n",
    "                           C = 0.05, \n",
    "                           solver = 'saga', \n",
    "                           class_weight = 'balanced', \n",
    "                           max_iter = 1000, \n",
    "                           ).fit(X_train, y_train)"
   ]
  },
  {
   "cell_type": "code",
   "execution_count": null,
   "metadata": {},
   "outputs": [],
   "source": [
    "lr = LogisticRegression(penalty = 'l1', \n",
    "                       solver = 'saga', \n",
    "                       class_weight = 'balanced',\n",
    "                       max_iter = 5000)"
   ]
  },
  {
   "cell_type": "code",
   "execution_count": null,
   "metadata": {},
   "outputs": [],
   "source": [
    "#param_grid = dict()"
   ]
  },
  {
   "cell_type": "code",
   "execution_count": null,
   "metadata": {},
   "outputs": [],
   "source": [
    "#param_grid['C'] = arange(0, 0.2, 0.05) "
   ]
  },
  {
   "cell_type": "code",
   "execution_count": null,
   "metadata": {},
   "outputs": [],
   "source": [
    "#gs = GridSearchCV(estimator = lr, \n",
    "#                 param_grid = param_grid, \n",
    "#                 scoring = f1, \n",
    "#                 cv = 5)"
   ]
  },
  {
   "cell_type": "code",
   "execution_count": null,
   "metadata": {},
   "outputs": [],
   "source": [
    "with tf.device('/gpu:0'):\n",
    "    results = gs.fit(X_train, y_train)"
   ]
  },
  {
   "cell_type": "code",
   "execution_count": null,
   "metadata": {},
   "outputs": [],
   "source": [
    "print(results.best_score_)"
   ]
  },
  {
   "cell_type": "code",
   "execution_count": null,
   "metadata": {},
   "outputs": [],
   "source": [
    "print(results.best_params_)"
   ]
  },
  {
   "cell_type": "code",
   "execution_count": null,
   "metadata": {},
   "outputs": [],
   "source": [
    "results"
   ]
  },
  {
   "cell_type": "code",
   "execution_count": null,
   "metadata": {},
   "outputs": [],
   "source": []
  }
 ],
 "metadata": {
  "kernelspec": {
   "display_name": "Python 3",
   "language": "python",
   "name": "python3"
  },
  "language_info": {
   "codemirror_mode": {
    "name": "ipython",
    "version": 3
   },
   "file_extension": ".py",
   "mimetype": "text/x-python",
   "name": "python",
   "nbconvert_exporter": "python",
   "pygments_lexer": "ipython3",
   "version": "3.8.3"
  }
 },
 "nbformat": 4,
 "nbformat_minor": 5
}
