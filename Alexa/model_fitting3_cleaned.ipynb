{
 "cells": [
  {
   "cell_type": "code",
   "execution_count": 1,
   "metadata": {},
   "outputs": [],
   "source": [
    "import pandas as pd\n",
    "import datetime as dt\n",
    "import matplotlib.pyplot as plt\n",
    "import seaborn as sns\n",
    "import plotly\n",
    "import numpy as np\n",
    "\n",
    "from sklearn.model_selection import train_test_split\n",
    "from sklearn.linear_model import LogisticRegression, SGDClassifier\n",
    "from sklearn import metrics\n",
    "from sklearn.metrics import classification_report, f1_score\n",
    "from sklearn.compose import ColumnTransformer\n",
    "from sklearn.base import BaseEstimator, TransformerMixin\n",
    "from sklearn.metrics import accuracy_score, confusion_matrix, classification_report"
   ]
  },
  {
   "cell_type": "markdown",
   "metadata": {},
   "source": [
    "# Read in CSVs"
   ]
  },
  {
   "cell_type": "code",
   "execution_count": 2,
   "metadata": {},
   "outputs": [],
   "source": [
    "train = pd.read_csv('../data/training_data.csv', low_memory=False)\n",
    "train = train.drop(columns=['EquipmentID.1','EquipmentID.2','FaultId'],axis = 1)"
   ]
  },
  {
   "cell_type": "code",
   "execution_count": 3,
   "metadata": {},
   "outputs": [],
   "source": [
    "test = pd.read_csv('../data/testing_data.csv', low_memory=False)\n",
    "test = test.drop(columns=['EquipmentID.1','EquipmentID.2','FaultId'],axis = 1) #test needs same number of columns as train"
   ]
  },
  {
   "cell_type": "markdown",
   "metadata": {},
   "source": [
    "# Further clean test/train data\n",
    "* want to drop ecuMake X\n",
    "* throw out IgnStatus_False X\n",
    "* drop active column X\n",
    "* throw out 0-1hr derate instances X"
   ]
  },
  {
   "cell_type": "code",
   "execution_count": 4,
   "metadata": {},
   "outputs": [],
   "source": [
    "# #dummy variables for the string/object data types\n",
    "train = pd.get_dummies(train, columns = ['IgnStatus'], drop_first = True).drop(columns=['ecuMake','active'])\n",
    "test = pd.get_dummies(test, columns = ['IgnStatus'], drop_first = True).drop(columns=['ecuMake','active'])"
   ]
  },
  {
   "cell_type": "code",
   "execution_count": 5,
   "metadata": {},
   "outputs": [
    {
     "data": {
      "text/plain": [
       "37        0 days 00:00:00.000000000\n",
       "59308     0 days 00:00:00.000000000\n",
       "59314     0 days 00:00:00.000000000\n",
       "59354     0 days 00:00:00.000000000\n",
       "59360     0 days 00:00:00.000000000\n",
       "                    ...            \n",
       "468951                          NaN\n",
       "468952                          NaN\n",
       "468953                          NaN\n",
       "468954                          NaN\n",
       "468955                          NaN\n",
       "Name: time_until_derate, Length: 468956, dtype: object"
      ]
     },
     "execution_count": 5,
     "metadata": {},
     "output_type": "execute_result"
    }
   ],
   "source": [
    "train['time_until_derate'].sort_values()"
   ]
  },
  {
   "cell_type": "code",
   "execution_count": 6,
   "metadata": {},
   "outputs": [],
   "source": [
    "train['time_until_derate'] = pd.to_timedelta(train['time_until_derate']) "
   ]
  },
  {
   "cell_type": "code",
   "execution_count": 7,
   "metadata": {
    "scrolled": false
   },
   "outputs": [],
   "source": [
    "train = train[~((train['time_until_derate'] >= dt.timedelta(hours=0)) & (train['time_until_derate'] <= dt.timedelta(hours=1)))]"
   ]
  },
  {
   "cell_type": "markdown",
   "metadata": {},
   "source": [
    "# Standard Scaler \n",
    "* do before any model fitting"
   ]
  },
  {
   "cell_type": "code",
   "execution_count": 8,
   "metadata": {},
   "outputs": [],
   "source": [
    "from sklearn.pipeline import Pipeline\n",
    "from sklearn.preprocessing import StandardScaler"
   ]
  },
  {
   "cell_type": "code",
   "execution_count": 9,
   "metadata": {},
   "outputs": [],
   "source": [
    "pipe = Pipeline(steps=[\n",
    "    \n",
    "    ('scale',StandardScaler()), \n",
    "    ('classifier',LogisticRegression(penalty='l1', solver='saga')) #can also use liblinear as solver\n",
    "    \n",
    "]) "
   ]
  },
  {
   "cell_type": "code",
   "execution_count": 11,
   "metadata": {},
   "outputs": [],
   "source": [
    "pipesgd = Pipeline(steps=[\n",
    "    \n",
    "    ('scale',StandardScaler()), \n",
    "    ('classifier',SGDClassifier(class_weight='balanced',penalty='l1', loss = 'log'))\n",
    "    \n",
    "]) "
   ]
  },
  {
   "cell_type": "code",
   "execution_count": 12,
   "metadata": {},
   "outputs": [],
   "source": [
    "pipesgdnw = Pipeline(steps=[\n",
    "    \n",
    "    ('scale',StandardScaler()), \n",
    "    ('classifier',SGDClassifier(penalty='l1', loss = 'log'))\n",
    "    \n",
    "]) "
   ]
  },
  {
   "cell_type": "markdown",
   "metadata": {},
   "source": [
    "# Logistic Regression\n",
    "* with l1 penalty"
   ]
  },
  {
   "cell_type": "code",
   "execution_count": 16,
   "metadata": {},
   "outputs": [],
   "source": [
    "# Predictors\n",
    "X_train = train.drop(columns = ['derate_soon','time_until_derate','EventTimeStamp','EquipmentID'])\n",
    "#Target Variable\n",
    "y_train = train['derate_soon']"
   ]
  },
  {
   "cell_type": "code",
   "execution_count": 14,
   "metadata": {},
   "outputs": [
    {
     "name": "stderr",
     "output_type": "stream",
     "text": [
      "C:\\Users\\zylst\\anaconda3\\lib\\site-packages\\sklearn\\linear_model\\_sag.py:328: ConvergenceWarning: The max_iter was reached which means the coef_ did not converge\n",
      "  warnings.warn(\"The max_iter was reached which means \"\n"
     ]
    },
    {
     "data": {
      "text/plain": [
       "Pipeline(steps=[('scale', StandardScaler()),\n",
       "                ('classifier',\n",
       "                 LogisticRegression(penalty='l1', solver='saga'))])"
      ]
     },
     "execution_count": 14,
     "metadata": {},
     "output_type": "execute_result"
    }
   ],
   "source": [
    "pipe.fit(X_train, y_train)"
   ]
  },
  {
   "cell_type": "code",
   "execution_count": 17,
   "metadata": {},
   "outputs": [],
   "source": [
    "X_test = test.drop(columns = ['derate_soon','time_until_derate','EventTimeStamp','EquipmentID'])\n",
    "y_test = test['derate_soon']"
   ]
  },
  {
   "cell_type": "code",
   "execution_count": 16,
   "metadata": {},
   "outputs": [],
   "source": [
    "y_pred = pipe.predict(X_test)"
   ]
  },
  {
   "cell_type": "code",
   "execution_count": 18,
   "metadata": {},
   "outputs": [],
   "source": [
    "y_test = y_test.replace('True',1)\n",
    "y_test = y_test.replace('False',0)"
   ]
  },
  {
   "cell_type": "markdown",
   "metadata": {},
   "source": [
    "### How well the model did"
   ]
  },
  {
   "cell_type": "code",
   "execution_count": 18,
   "metadata": {},
   "outputs": [
    {
     "data": {
      "text/plain": [
       "0.9976629336153735"
      ]
     },
     "execution_count": 18,
     "metadata": {},
     "output_type": "execute_result"
    }
   ],
   "source": [
    "accuracy_score(y_test,y_pred)"
   ]
  },
  {
   "cell_type": "code",
   "execution_count": 19,
   "metadata": {},
   "outputs": [
    {
     "data": {
      "text/plain": [
       "array([[116965,      8],\n",
       "       [   266,      2]], dtype=int64)"
      ]
     },
     "execution_count": 19,
     "metadata": {},
     "output_type": "execute_result"
    }
   ],
   "source": [
    "confusion_matrix(y_test,y_pred)"
   ]
  },
  {
   "cell_type": "code",
   "execution_count": 20,
   "metadata": {},
   "outputs": [
    {
     "name": "stdout",
     "output_type": "stream",
     "text": [
      "              precision    recall  f1-score   support\n",
      "\n",
      "       False       1.00      1.00      1.00    116973\n",
      "        True       0.20      0.01      0.01       268\n",
      "\n",
      "    accuracy                           1.00    117241\n",
      "   macro avg       0.60      0.50      0.51    117241\n",
      "weighted avg       1.00      1.00      1.00    117241\n",
      "\n"
     ]
    }
   ],
   "source": [
    "print(classification_report(y_test, y_pred))"
   ]
  },
  {
   "cell_type": "markdown",
   "metadata": {},
   "source": [
    "# SGD\n",
    "* weighting by class"
   ]
  },
  {
   "cell_type": "code",
   "execution_count": null,
   "metadata": {},
   "outputs": [],
   "source": [
    "pipesgd.fit(X_train,y_train)"
   ]
  },
  {
   "cell_type": "code",
   "execution_count": null,
   "metadata": {},
   "outputs": [],
   "source": [
    "y_pred = pipesgd.predict(X_test)"
   ]
  },
  {
   "cell_type": "markdown",
   "metadata": {},
   "source": [
    "### How well the model did"
   ]
  },
  {
   "cell_type": "code",
   "execution_count": null,
   "metadata": {},
   "outputs": [],
   "source": [
    "accuracy_score(y_test,y_pred)"
   ]
  },
  {
   "cell_type": "code",
   "execution_count": null,
   "metadata": {},
   "outputs": [],
   "source": [
    "confusion_matrix(y_test,y_pred)"
   ]
  },
  {
   "cell_type": "code",
   "execution_count": null,
   "metadata": {},
   "outputs": [],
   "source": [
    "print(classification_report(y_test, y_pred))"
   ]
  },
  {
   "cell_type": "markdown",
   "metadata": {},
   "source": [
    "# Undersampling"
   ]
  },
  {
   "cell_type": "code",
   "execution_count": null,
   "metadata": {},
   "outputs": [],
   "source": [
    "from imblearn.under_sampling import RandomUnderSampler"
   ]
  },
  {
   "cell_type": "code",
   "execution_count": null,
   "metadata": {},
   "outputs": [],
   "source": [
    "undersampler = RandomUnderSampler(random_state = 321)"
   ]
  },
  {
   "cell_type": "code",
   "execution_count": null,
   "metadata": {},
   "outputs": [],
   "source": [
    "X_resampled, y_resampled = undersampler.fit_resample(X_train, y_train)"
   ]
  },
  {
   "cell_type": "markdown",
   "metadata": {},
   "source": [
    "### Logistic Regression"
   ]
  },
  {
   "cell_type": "code",
   "execution_count": null,
   "metadata": {},
   "outputs": [],
   "source": [
    "pipe.fit(X_resampled, y_resampled)"
   ]
  },
  {
   "cell_type": "code",
   "execution_count": null,
   "metadata": {},
   "outputs": [],
   "source": [
    "y_pred = pipe.predict(X_test)\n",
    "accuracy_score(y_test, y_pred)"
   ]
  },
  {
   "cell_type": "code",
   "execution_count": null,
   "metadata": {},
   "outputs": [],
   "source": [
    "confusion_matrix(y_test, y_pred)"
   ]
  },
  {
   "cell_type": "code",
   "execution_count": null,
   "metadata": {},
   "outputs": [],
   "source": [
    "print(classification_report(y_test, y_pred))"
   ]
  },
  {
   "cell_type": "markdown",
   "metadata": {},
   "source": [
    "### SGD"
   ]
  },
  {
   "cell_type": "code",
   "execution_count": null,
   "metadata": {},
   "outputs": [],
   "source": [
    "pipesgd.fit(X_resampled,y_resampled) #will have to rerun this chunk of code"
   ]
  },
  {
   "cell_type": "code",
   "execution_count": null,
   "metadata": {},
   "outputs": [],
   "source": [
    "y_pred = pipesgd.predict(X_test)"
   ]
  },
  {
   "cell_type": "code",
   "execution_count": null,
   "metadata": {},
   "outputs": [],
   "source": [
    "accuracy_score(y_test, y_pred)"
   ]
  },
  {
   "cell_type": "code",
   "execution_count": null,
   "metadata": {
    "scrolled": true
   },
   "outputs": [],
   "source": [
    "confusion_matrix(y_test, y_pred)"
   ]
  },
  {
   "cell_type": "code",
   "execution_count": null,
   "metadata": {},
   "outputs": [],
   "source": [
    "print(classification_report(y_test, y_pred))"
   ]
  },
  {
   "cell_type": "markdown",
   "metadata": {},
   "source": [
    "# SMOTE\n",
    "**S**ynthetic **M**inority **O**versampling **TE**chnique"
   ]
  },
  {
   "cell_type": "code",
   "execution_count": 19,
   "metadata": {},
   "outputs": [],
   "source": [
    "from imblearn.over_sampling import SMOTE"
   ]
  },
  {
   "cell_type": "code",
   "execution_count": 22,
   "metadata": {},
   "outputs": [],
   "source": [
    "oversampler = SMOTE(k_neighbors=5, n_jobs=-1, random_state=321)"
   ]
  },
  {
   "cell_type": "code",
   "execution_count": 23,
   "metadata": {},
   "outputs": [],
   "source": [
    "X_smote, y_smote = oversampler.fit_resample(X_train, y_train)"
   ]
  },
  {
   "cell_type": "markdown",
   "metadata": {},
   "source": [
    "### Logistic Regression "
   ]
  },
  {
   "cell_type": "code",
   "execution_count": 24,
   "metadata": {},
   "outputs": [
    {
     "name": "stderr",
     "output_type": "stream",
     "text": [
      "C:\\Users\\zylst\\anaconda3\\lib\\site-packages\\sklearn\\linear_model\\_sag.py:328: ConvergenceWarning: The max_iter was reached which means the coef_ did not converge\n",
      "  warnings.warn(\"The max_iter was reached which means \"\n"
     ]
    },
    {
     "data": {
      "text/plain": [
       "Pipeline(steps=[('scale', StandardScaler()),\n",
       "                ('classifier',\n",
       "                 LogisticRegression(penalty='l1', solver='saga'))])"
      ]
     },
     "execution_count": 24,
     "metadata": {},
     "output_type": "execute_result"
    }
   ],
   "source": [
    "pipe.fit(X_smote, y_smote)"
   ]
  },
  {
   "cell_type": "code",
   "execution_count": 25,
   "metadata": {},
   "outputs": [
    {
     "data": {
      "text/plain": [
       "0.9643810612328452"
      ]
     },
     "execution_count": 25,
     "metadata": {},
     "output_type": "execute_result"
    }
   ],
   "source": [
    "y_pred = pipe.predict(X_test)\n",
    "accuracy_score(y_test, y_pred)"
   ]
  },
  {
   "cell_type": "code",
   "execution_count": 26,
   "metadata": {},
   "outputs": [
    {
     "data": {
      "text/plain": [
       "array([[112935,   4038],\n",
       "       [   138,    130]], dtype=int64)"
      ]
     },
     "execution_count": 26,
     "metadata": {},
     "output_type": "execute_result"
    }
   ],
   "source": [
    "confusion_matrix(y_test, y_pred)"
   ]
  },
  {
   "cell_type": "markdown",
   "metadata": {},
   "source": [
    "### SGD"
   ]
  },
  {
   "cell_type": "code",
   "execution_count": 43,
   "metadata": {},
   "outputs": [
    {
     "data": {
      "text/plain": [
       "Pipeline(steps=[('scale', StandardScaler()),\n",
       "                ('classifier', SGDClassifier(loss='log', penalty='l1'))])"
      ]
     },
     "execution_count": 43,
     "metadata": {},
     "output_type": "execute_result"
    }
   ],
   "source": [
    "pipesgdnw.fit(X_smote, y_smote)"
   ]
  },
  {
   "cell_type": "code",
   "execution_count": 44,
   "metadata": {},
   "outputs": [
    {
     "data": {
      "text/plain": [
       "0.9625813495278955"
      ]
     },
     "execution_count": 44,
     "metadata": {},
     "output_type": "execute_result"
    }
   ],
   "source": [
    "y_pred = pipesgdnw.predict(X_test)\n",
    "accuracy_score(y_test, y_pred)"
   ]
  },
  {
   "cell_type": "code",
   "execution_count": 45,
   "metadata": {},
   "outputs": [
    {
     "data": {
      "text/plain": [
       "array([[112727,   4246],\n",
       "       [   141,    127]], dtype=int64)"
      ]
     },
     "execution_count": 45,
     "metadata": {},
     "output_type": "execute_result"
    }
   ],
   "source": [
    "confusion_matrix(y_test, y_pred)"
   ]
  },
  {
   "cell_type": "markdown",
   "metadata": {},
   "source": [
    "# Lesser SMOTE"
   ]
  },
  {
   "cell_type": "code",
   "execution_count": 20,
   "metadata": {},
   "outputs": [],
   "source": [
    "lessersmote = SMOTE(k_neighbors=5, n_jobs=-1, random_state=321, sampling_strategy=0.05)\n",
    "# adjusts the ratio of derate:not derate so we have less fake data points"
   ]
  },
  {
   "cell_type": "code",
   "execution_count": 21,
   "metadata": {},
   "outputs": [],
   "source": [
    "X_lsmote, y_lsmote = lessersmote.fit_resample(X_train, y_train)"
   ]
  },
  {
   "cell_type": "markdown",
   "metadata": {},
   "source": [
    "### Logstic Regression"
   ]
  },
  {
   "cell_type": "code",
   "execution_count": 22,
   "metadata": {},
   "outputs": [
    {
     "name": "stderr",
     "output_type": "stream",
     "text": [
      "C:\\Users\\zylst\\anaconda3\\lib\\site-packages\\sklearn\\linear_model\\_sag.py:328: ConvergenceWarning: The max_iter was reached which means the coef_ did not converge\n",
      "  warnings.warn(\"The max_iter was reached which means \"\n"
     ]
    },
    {
     "data": {
      "text/plain": [
       "Pipeline(steps=[('scale', StandardScaler()),\n",
       "                ('classifier',\n",
       "                 LogisticRegression(penalty='l1', solver='saga'))])"
      ]
     },
     "execution_count": 22,
     "metadata": {},
     "output_type": "execute_result"
    }
   ],
   "source": [
    "pipe.fit(X_lsmote, y_lsmote)"
   ]
  },
  {
   "cell_type": "code",
   "execution_count": 23,
   "metadata": {},
   "outputs": [
    {
     "data": {
      "text/plain": [
       "0.9912829129741302"
      ]
     },
     "execution_count": 23,
     "metadata": {},
     "output_type": "execute_result"
    }
   ],
   "source": [
    "y_pred = pipe.predict(X_test)\n",
    "accuracy_score(y_test, y_pred)"
   ]
  },
  {
   "cell_type": "code",
   "execution_count": 24,
   "metadata": {},
   "outputs": [
    {
     "data": {
      "text/plain": [
       "array([[116193,    780],\n",
       "       [   242,     26]], dtype=int64)"
      ]
     },
     "execution_count": 24,
     "metadata": {},
     "output_type": "execute_result"
    }
   ],
   "source": [
    "confusion_matrix(y_test, y_pred)"
   ]
  },
  {
   "cell_type": "markdown",
   "metadata": {},
   "source": [
    "### SGD"
   ]
  },
  {
   "cell_type": "code",
   "execution_count": 51,
   "metadata": {},
   "outputs": [
    {
     "data": {
      "text/plain": [
       "Pipeline(steps=[('scale', StandardScaler()),\n",
       "                ('classifier', SGDClassifier(loss='log', penalty='l1'))])"
      ]
     },
     "execution_count": 51,
     "metadata": {},
     "output_type": "execute_result"
    }
   ],
   "source": [
    "pipesgdnw.fit(X_lsmote, y_lsmote)"
   ]
  },
  {
   "cell_type": "code",
   "execution_count": 52,
   "metadata": {},
   "outputs": [
    {
     "data": {
      "text/plain": [
       "0.9883317269555872"
      ]
     },
     "execution_count": 52,
     "metadata": {},
     "output_type": "execute_result"
    }
   ],
   "source": [
    "y_pred = pipesgdnw.predict(X_test)\n",
    "accuracy_score(y_test, y_pred)"
   ]
  },
  {
   "cell_type": "code",
   "execution_count": 53,
   "metadata": {},
   "outputs": [
    {
     "data": {
      "text/plain": [
       "array([[115834,   1139],\n",
       "       [   229,     39]], dtype=int64)"
      ]
     },
     "execution_count": 53,
     "metadata": {},
     "output_type": "execute_result"
    }
   ],
   "source": [
    "confusion_matrix(y_test, y_pred)"
   ]
  },
  {
   "cell_type": "code",
   "execution_count": null,
   "metadata": {},
   "outputs": [],
   "source": []
  },
  {
   "cell_type": "markdown",
   "metadata": {},
   "source": [
    "# Digging into Logreg w/ SMOTE\n",
    "* needs cleaning up but using as a resource for later"
   ]
  },
  {
   "cell_type": "code",
   "execution_count": 27,
   "metadata": {},
   "outputs": [],
   "source": [
    "coefficients = pd.DataFrame({ 'variable': X_train.columns, 'coefficient': pipe[1].coef_[0]})"
   ]
  },
  {
   "cell_type": "code",
   "execution_count": 28,
   "metadata": {},
   "outputs": [
    {
     "data": {
      "text/html": [
       "<div>\n",
       "<style scoped>\n",
       "    .dataframe tbody tr th:only-of-type {\n",
       "        vertical-align: middle;\n",
       "    }\n",
       "\n",
       "    .dataframe tbody tr th {\n",
       "        vertical-align: top;\n",
       "    }\n",
       "\n",
       "    .dataframe thead th {\n",
       "        text-align: right;\n",
       "    }\n",
       "</style>\n",
       "<table border=\"1\" class=\"dataframe\">\n",
       "  <thead>\n",
       "    <tr style=\"text-align: right;\">\n",
       "      <th></th>\n",
       "      <th>variable</th>\n",
       "      <th>coefficient</th>\n",
       "    </tr>\n",
       "  </thead>\n",
       "  <tbody>\n",
       "    <tr>\n",
       "      <th>2</th>\n",
       "      <td>Speed</td>\n",
       "      <td>0.398646</td>\n",
       "    </tr>\n",
       "    <tr>\n",
       "      <th>0</th>\n",
       "      <td>BarometricPressure</td>\n",
       "      <td>0.230548</td>\n",
       "    </tr>\n",
       "    <tr>\n",
       "      <th>6</th>\n",
       "      <td>IntakeManifoldTemperature</td>\n",
       "      <td>0.182826</td>\n",
       "    </tr>\n",
       "    <tr>\n",
       "      <th>12</th>\n",
       "      <td>FuelTemperature</td>\n",
       "      <td>0.143533</td>\n",
       "    </tr>\n",
       "    <tr>\n",
       "      <th>14</th>\n",
       "      <td>DistanceLtd</td>\n",
       "      <td>0.128309</td>\n",
       "    </tr>\n",
       "    <tr>\n",
       "      <th>1059</th>\n",
       "      <td>IgnStatus_True</td>\n",
       "      <td>0.092937</td>\n",
       "    </tr>\n",
       "    <tr>\n",
       "      <th>5</th>\n",
       "      <td>FuelLevel</td>\n",
       "      <td>0.070448</td>\n",
       "    </tr>\n",
       "    <tr>\n",
       "      <th>16</th>\n",
       "      <td>EngineTimeLtd</td>\n",
       "      <td>0.047633</td>\n",
       "    </tr>\n",
       "    <tr>\n",
       "      <th>883</th>\n",
       "      <td>74-14</td>\n",
       "      <td>0.047055</td>\n",
       "    </tr>\n",
       "    <tr>\n",
       "      <th>15</th>\n",
       "      <td>FuelLtd</td>\n",
       "      <td>0.034312</td>\n",
       "    </tr>\n",
       "    <tr>\n",
       "      <th>9</th>\n",
       "      <td>FuelRate</td>\n",
       "      <td>0.017370</td>\n",
       "    </tr>\n",
       "    <tr>\n",
       "      <th>866</th>\n",
       "      <td>6802-31</td>\n",
       "      <td>0.004134</td>\n",
       "    </tr>\n",
       "    <tr>\n",
       "      <th>402</th>\n",
       "      <td>3360-13</td>\n",
       "      <td>0.000000</td>\n",
       "    </tr>\n",
       "    <tr>\n",
       "      <th>457</th>\n",
       "      <td>3597-3</td>\n",
       "      <td>0.000000</td>\n",
       "    </tr>\n",
       "    <tr>\n",
       "      <th>449</th>\n",
       "      <td>3556-12</td>\n",
       "      <td>0.000000</td>\n",
       "    </tr>\n",
       "    <tr>\n",
       "      <th>116</th>\n",
       "      <td>1231-1</td>\n",
       "      <td>0.000000</td>\n",
       "    </tr>\n",
       "    <tr>\n",
       "      <th>435</th>\n",
       "      <td>3490-5</td>\n",
       "      <td>0.000000</td>\n",
       "    </tr>\n",
       "    <tr>\n",
       "      <th>847</th>\n",
       "      <td>65535-10</td>\n",
       "      <td>0.000000</td>\n",
       "    </tr>\n",
       "    <tr>\n",
       "      <th>398</th>\n",
       "      <td>3327-16</td>\n",
       "      <td>0.000000</td>\n",
       "    </tr>\n",
       "    <tr>\n",
       "      <th>400</th>\n",
       "      <td>3360-11</td>\n",
       "      <td>0.000000</td>\n",
       "    </tr>\n",
       "    <tr>\n",
       "      <th>471</th>\n",
       "      <td>37-17</td>\n",
       "      <td>0.000000</td>\n",
       "    </tr>\n",
       "    <tr>\n",
       "      <th>397</th>\n",
       "      <td>33-14</td>\n",
       "      <td>0.000000</td>\n",
       "    </tr>\n",
       "    <tr>\n",
       "      <th>855</th>\n",
       "      <td>65535-4</td>\n",
       "      <td>0.000000</td>\n",
       "    </tr>\n",
       "    <tr>\n",
       "      <th>363</th>\n",
       "      <td>3227-21</td>\n",
       "      <td>0.000000</td>\n",
       "    </tr>\n",
       "    <tr>\n",
       "      <th>362</th>\n",
       "      <td>3227-10</td>\n",
       "      <td>0.000000</td>\n",
       "    </tr>\n",
       "  </tbody>\n",
       "</table>\n",
       "</div>"
      ],
      "text/plain": [
       "                       variable  coefficient\n",
       "2                         Speed     0.398646\n",
       "0            BarometricPressure     0.230548\n",
       "6     IntakeManifoldTemperature     0.182826\n",
       "12              FuelTemperature     0.143533\n",
       "14                  DistanceLtd     0.128309\n",
       "1059             IgnStatus_True     0.092937\n",
       "5                     FuelLevel     0.070448\n",
       "16                EngineTimeLtd     0.047633\n",
       "883                       74-14     0.047055\n",
       "15                      FuelLtd     0.034312\n",
       "9                      FuelRate     0.017370\n",
       "866                     6802-31     0.004134\n",
       "402                     3360-13     0.000000\n",
       "457                      3597-3     0.000000\n",
       "449                     3556-12     0.000000\n",
       "116                      1231-1     0.000000\n",
       "435                      3490-5     0.000000\n",
       "847                    65535-10     0.000000\n",
       "398                     3327-16     0.000000\n",
       "400                     3360-11     0.000000\n",
       "471                       37-17     0.000000\n",
       "397                       33-14     0.000000\n",
       "855                     65535-4     0.000000\n",
       "363                     3227-21     0.000000\n",
       "362                     3227-10     0.000000"
      ]
     },
     "execution_count": 28,
     "metadata": {},
     "output_type": "execute_result"
    }
   ],
   "source": [
    "coefficients.sort_values('coefficient',ascending=False).head(25)"
   ]
  },
  {
   "cell_type": "code",
   "execution_count": null,
   "metadata": {},
   "outputs": [],
   "source": []
  },
  {
   "cell_type": "code",
   "execution_count": null,
   "metadata": {},
   "outputs": [],
   "source": [
    "coefficients[coefficients.variable == 'IgnStatus_False']"
   ]
  },
  {
   "cell_type": "markdown",
   "metadata": {},
   "source": [
    "# Bootstrap Experimenting"
   ]
  },
  {
   "cell_type": "code",
   "execution_count": null,
   "metadata": {},
   "outputs": [],
   "source": [
    "# random subset bootstrap"
   ]
  },
  {
   "cell_type": "code",
   "execution_count": 29,
   "metadata": {},
   "outputs": [],
   "source": [
    "from sklearn.model_selection import train_test_split"
   ]
  },
  {
   "cell_type": "code",
   "execution_count": 30,
   "metadata": {},
   "outputs": [],
   "source": [
    "X_boot, X_what, y_boot, y_what = train_test_split(X_train,y_train,test_size=0.9,stratify = y_train)"
   ]
  },
  {
   "cell_type": "code",
   "execution_count": 57,
   "metadata": {},
   "outputs": [
    {
     "data": {
      "text/plain": [
       "False    467684\n",
       "True        481\n",
       "Name: derate_soon, dtype: int64"
      ]
     },
     "execution_count": 57,
     "metadata": {},
     "output_type": "execute_result"
    }
   ],
   "source": [
    "y_train.value_counts()"
   ]
  },
  {
   "cell_type": "code",
   "execution_count": 60,
   "metadata": {},
   "outputs": [
    {
     "data": {
      "text/html": [
       "<div>\n",
       "<style scoped>\n",
       "    .dataframe tbody tr th:only-of-type {\n",
       "        vertical-align: middle;\n",
       "    }\n",
       "\n",
       "    .dataframe tbody tr th {\n",
       "        vertical-align: top;\n",
       "    }\n",
       "\n",
       "    .dataframe thead th {\n",
       "        text-align: right;\n",
       "    }\n",
       "</style>\n",
       "<table border=\"1\" class=\"dataframe\">\n",
       "  <thead>\n",
       "    <tr style=\"text-align: right;\">\n",
       "      <th></th>\n",
       "      <th>BarometricPressure</th>\n",
       "      <th>EngineLoad</th>\n",
       "      <th>Speed</th>\n",
       "      <th>EngineOilPressure</th>\n",
       "      <th>EngineOilTemperature</th>\n",
       "      <th>FuelLevel</th>\n",
       "      <th>IntakeManifoldTemperature</th>\n",
       "      <th>TurboBoostPressure</th>\n",
       "      <th>EngineCoolantTemperature</th>\n",
       "      <th>FuelRate</th>\n",
       "      <th>...</th>\n",
       "      <th>96-4</th>\n",
       "      <th>96-9</th>\n",
       "      <th>97-15</th>\n",
       "      <th>97-16</th>\n",
       "      <th>97-3</th>\n",
       "      <th>97-4</th>\n",
       "      <th>976-9</th>\n",
       "      <th>98-18</th>\n",
       "      <th>98-5</th>\n",
       "      <th>IgnStatus_True</th>\n",
       "    </tr>\n",
       "  </thead>\n",
       "  <tbody>\n",
       "    <tr>\n",
       "      <th>175834</th>\n",
       "      <td>14.065000</td>\n",
       "      <td>8.000000</td>\n",
       "      <td>6.912755</td>\n",
       "      <td>37.12</td>\n",
       "      <td>203.78750</td>\n",
       "      <td>73.2</td>\n",
       "      <td>87.8</td>\n",
       "      <td>1.16</td>\n",
       "      <td>179.6</td>\n",
       "      <td>1.307656</td>\n",
       "      <td>...</td>\n",
       "      <td>0</td>\n",
       "      <td>0</td>\n",
       "      <td>0</td>\n",
       "      <td>0</td>\n",
       "      <td>0</td>\n",
       "      <td>0</td>\n",
       "      <td>0</td>\n",
       "      <td>0</td>\n",
       "      <td>0</td>\n",
       "      <td>1</td>\n",
       "    </tr>\n",
       "    <tr>\n",
       "      <th>405986</th>\n",
       "      <td>14.282500</td>\n",
       "      <td>12.000000</td>\n",
       "      <td>2.951513</td>\n",
       "      <td>19.14</td>\n",
       "      <td>209.46880</td>\n",
       "      <td>40.4</td>\n",
       "      <td>127.4</td>\n",
       "      <td>0.58</td>\n",
       "      <td>183.2</td>\n",
       "      <td>0.554763</td>\n",
       "      <td>...</td>\n",
       "      <td>0</td>\n",
       "      <td>0</td>\n",
       "      <td>0</td>\n",
       "      <td>0</td>\n",
       "      <td>0</td>\n",
       "      <td>0</td>\n",
       "      <td>0</td>\n",
       "      <td>0</td>\n",
       "      <td>0</td>\n",
       "      <td>1</td>\n",
       "    </tr>\n",
       "    <tr>\n",
       "      <th>444127</th>\n",
       "      <td>14.210000</td>\n",
       "      <td>23.000000</td>\n",
       "      <td>0.000000</td>\n",
       "      <td>40.02</td>\n",
       "      <td>100.79370</td>\n",
       "      <td>35.6</td>\n",
       "      <td>71.6</td>\n",
       "      <td>0.00</td>\n",
       "      <td>105.8</td>\n",
       "      <td>0.924605</td>\n",
       "      <td>...</td>\n",
       "      <td>0</td>\n",
       "      <td>0</td>\n",
       "      <td>0</td>\n",
       "      <td>0</td>\n",
       "      <td>0</td>\n",
       "      <td>0</td>\n",
       "      <td>0</td>\n",
       "      <td>0</td>\n",
       "      <td>0</td>\n",
       "      <td>1</td>\n",
       "    </tr>\n",
       "    <tr>\n",
       "      <th>321639</th>\n",
       "      <td>14.427500</td>\n",
       "      <td>14.000000</td>\n",
       "      <td>5.640885</td>\n",
       "      <td>30.74</td>\n",
       "      <td>205.41870</td>\n",
       "      <td>100.0</td>\n",
       "      <td>136.4</td>\n",
       "      <td>2.03</td>\n",
       "      <td>185.0</td>\n",
       "      <td>0.317007</td>\n",
       "      <td>...</td>\n",
       "      <td>1</td>\n",
       "      <td>0</td>\n",
       "      <td>0</td>\n",
       "      <td>0</td>\n",
       "      <td>0</td>\n",
       "      <td>0</td>\n",
       "      <td>0</td>\n",
       "      <td>0</td>\n",
       "      <td>0</td>\n",
       "      <td>1</td>\n",
       "    </tr>\n",
       "    <tr>\n",
       "      <th>425457</th>\n",
       "      <td>14.210000</td>\n",
       "      <td>12.000000</td>\n",
       "      <td>0.165052</td>\n",
       "      <td>19.72</td>\n",
       "      <td>213.74370</td>\n",
       "      <td>48.4</td>\n",
       "      <td>78.8</td>\n",
       "      <td>0.29</td>\n",
       "      <td>181.4</td>\n",
       "      <td>0.581180</td>\n",
       "      <td>...</td>\n",
       "      <td>0</td>\n",
       "      <td>0</td>\n",
       "      <td>0</td>\n",
       "      <td>0</td>\n",
       "      <td>0</td>\n",
       "      <td>0</td>\n",
       "      <td>0</td>\n",
       "      <td>0</td>\n",
       "      <td>0</td>\n",
       "      <td>1</td>\n",
       "    </tr>\n",
       "    <tr>\n",
       "      <th>...</th>\n",
       "      <td>...</td>\n",
       "      <td>...</td>\n",
       "      <td>...</td>\n",
       "      <td>...</td>\n",
       "      <td>...</td>\n",
       "      <td>...</td>\n",
       "      <td>...</td>\n",
       "      <td>...</td>\n",
       "      <td>...</td>\n",
       "      <td>...</td>\n",
       "      <td>...</td>\n",
       "      <td>...</td>\n",
       "      <td>...</td>\n",
       "      <td>...</td>\n",
       "      <td>...</td>\n",
       "      <td>...</td>\n",
       "      <td>...</td>\n",
       "      <td>...</td>\n",
       "      <td>...</td>\n",
       "      <td>...</td>\n",
       "      <td>...</td>\n",
       "    </tr>\n",
       "    <tr>\n",
       "      <th>458823</th>\n",
       "      <td>14.355000</td>\n",
       "      <td>74.000000</td>\n",
       "      <td>60.311840</td>\n",
       "      <td>32.48</td>\n",
       "      <td>219.14380</td>\n",
       "      <td>45.2</td>\n",
       "      <td>80.6</td>\n",
       "      <td>16.24</td>\n",
       "      <td>176.0</td>\n",
       "      <td>12.574630</td>\n",
       "      <td>...</td>\n",
       "      <td>0</td>\n",
       "      <td>0</td>\n",
       "      <td>0</td>\n",
       "      <td>0</td>\n",
       "      <td>0</td>\n",
       "      <td>0</td>\n",
       "      <td>0</td>\n",
       "      <td>0</td>\n",
       "      <td>0</td>\n",
       "      <td>1</td>\n",
       "    </tr>\n",
       "    <tr>\n",
       "      <th>234771</th>\n",
       "      <td>14.717500</td>\n",
       "      <td>16.000000</td>\n",
       "      <td>0.000000</td>\n",
       "      <td>24.36</td>\n",
       "      <td>182.97500</td>\n",
       "      <td>22.8</td>\n",
       "      <td>138.2</td>\n",
       "      <td>0.29</td>\n",
       "      <td>165.2</td>\n",
       "      <td>0.752893</td>\n",
       "      <td>...</td>\n",
       "      <td>0</td>\n",
       "      <td>0</td>\n",
       "      <td>0</td>\n",
       "      <td>0</td>\n",
       "      <td>0</td>\n",
       "      <td>0</td>\n",
       "      <td>0</td>\n",
       "      <td>0</td>\n",
       "      <td>0</td>\n",
       "      <td>1</td>\n",
       "    </tr>\n",
       "    <tr>\n",
       "      <th>269724</th>\n",
       "      <td>3.553493</td>\n",
       "      <td>32.865604</td>\n",
       "      <td>25.075825</td>\n",
       "      <td>46.98</td>\n",
       "      <td>205.67185</td>\n",
       "      <td>68.8</td>\n",
       "      <td>120.2</td>\n",
       "      <td>2.32</td>\n",
       "      <td>176.0</td>\n",
       "      <td>1.017066</td>\n",
       "      <td>...</td>\n",
       "      <td>0</td>\n",
       "      <td>0</td>\n",
       "      <td>0</td>\n",
       "      <td>0</td>\n",
       "      <td>0</td>\n",
       "      <td>0</td>\n",
       "      <td>0</td>\n",
       "      <td>0</td>\n",
       "      <td>0</td>\n",
       "      <td>0</td>\n",
       "    </tr>\n",
       "    <tr>\n",
       "      <th>214373</th>\n",
       "      <td>14.282500</td>\n",
       "      <td>17.000000</td>\n",
       "      <td>9.815723</td>\n",
       "      <td>37.70</td>\n",
       "      <td>199.40000</td>\n",
       "      <td>48.4</td>\n",
       "      <td>91.4</td>\n",
       "      <td>1.16</td>\n",
       "      <td>170.6</td>\n",
       "      <td>2.298304</td>\n",
       "      <td>...</td>\n",
       "      <td>0</td>\n",
       "      <td>0</td>\n",
       "      <td>0</td>\n",
       "      <td>0</td>\n",
       "      <td>0</td>\n",
       "      <td>0</td>\n",
       "      <td>0</td>\n",
       "      <td>0</td>\n",
       "      <td>0</td>\n",
       "      <td>1</td>\n",
       "    </tr>\n",
       "    <tr>\n",
       "      <th>315151</th>\n",
       "      <td>14.427500</td>\n",
       "      <td>28.000000</td>\n",
       "      <td>7.024407</td>\n",
       "      <td>63.22</td>\n",
       "      <td>189.27500</td>\n",
       "      <td>52.4</td>\n",
       "      <td>132.8</td>\n",
       "      <td>2.32</td>\n",
       "      <td>181.4</td>\n",
       "      <td>5.917472</td>\n",
       "      <td>...</td>\n",
       "      <td>0</td>\n",
       "      <td>0</td>\n",
       "      <td>0</td>\n",
       "      <td>0</td>\n",
       "      <td>0</td>\n",
       "      <td>0</td>\n",
       "      <td>0</td>\n",
       "      <td>0</td>\n",
       "      <td>0</td>\n",
       "      <td>1</td>\n",
       "    </tr>\n",
       "  </tbody>\n",
       "</table>\n",
       "<p>46816 rows × 1060 columns</p>\n",
       "</div>"
      ],
      "text/plain": [
       "        BarometricPressure  EngineLoad      Speed  EngineOilPressure  \\\n",
       "175834           14.065000    8.000000   6.912755              37.12   \n",
       "405986           14.282500   12.000000   2.951513              19.14   \n",
       "444127           14.210000   23.000000   0.000000              40.02   \n",
       "321639           14.427500   14.000000   5.640885              30.74   \n",
       "425457           14.210000   12.000000   0.165052              19.72   \n",
       "...                    ...         ...        ...                ...   \n",
       "458823           14.355000   74.000000  60.311840              32.48   \n",
       "234771           14.717500   16.000000   0.000000              24.36   \n",
       "269724            3.553493   32.865604  25.075825              46.98   \n",
       "214373           14.282500   17.000000   9.815723              37.70   \n",
       "315151           14.427500   28.000000   7.024407              63.22   \n",
       "\n",
       "        EngineOilTemperature  FuelLevel  IntakeManifoldTemperature  \\\n",
       "175834             203.78750       73.2                       87.8   \n",
       "405986             209.46880       40.4                      127.4   \n",
       "444127             100.79370       35.6                       71.6   \n",
       "321639             205.41870      100.0                      136.4   \n",
       "425457             213.74370       48.4                       78.8   \n",
       "...                      ...        ...                        ...   \n",
       "458823             219.14380       45.2                       80.6   \n",
       "234771             182.97500       22.8                      138.2   \n",
       "269724             205.67185       68.8                      120.2   \n",
       "214373             199.40000       48.4                       91.4   \n",
       "315151             189.27500       52.4                      132.8   \n",
       "\n",
       "        TurboBoostPressure  EngineCoolantTemperature   FuelRate  ...  96-4  \\\n",
       "175834                1.16                     179.6   1.307656  ...     0   \n",
       "405986                0.58                     183.2   0.554763  ...     0   \n",
       "444127                0.00                     105.8   0.924605  ...     0   \n",
       "321639                2.03                     185.0   0.317007  ...     1   \n",
       "425457                0.29                     181.4   0.581180  ...     0   \n",
       "...                    ...                       ...        ...  ...   ...   \n",
       "458823               16.24                     176.0  12.574630  ...     0   \n",
       "234771                0.29                     165.2   0.752893  ...     0   \n",
       "269724                2.32                     176.0   1.017066  ...     0   \n",
       "214373                1.16                     170.6   2.298304  ...     0   \n",
       "315151                2.32                     181.4   5.917472  ...     0   \n",
       "\n",
       "        96-9  97-15  97-16  97-3  97-4  976-9  98-18  98-5  IgnStatus_True  \n",
       "175834     0      0      0     0     0      0      0     0               1  \n",
       "405986     0      0      0     0     0      0      0     0               1  \n",
       "444127     0      0      0     0     0      0      0     0               1  \n",
       "321639     0      0      0     0     0      0      0     0               1  \n",
       "425457     0      0      0     0     0      0      0     0               1  \n",
       "...      ...    ...    ...   ...   ...    ...    ...   ...             ...  \n",
       "458823     0      0      0     0     0      0      0     0               1  \n",
       "234771     0      0      0     0     0      0      0     0               1  \n",
       "269724     0      0      0     0     0      0      0     0               0  \n",
       "214373     0      0      0     0     0      0      0     0               1  \n",
       "315151     0      0      0     0     0      0      0     0               1  \n",
       "\n",
       "[46816 rows x 1060 columns]"
      ]
     },
     "execution_count": 60,
     "metadata": {},
     "output_type": "execute_result"
    }
   ],
   "source": [
    "X_train.sample(frac=0.1)"
   ]
  },
  {
   "cell_type": "code",
   "execution_count": 64,
   "metadata": {},
   "outputs": [],
   "source": [
    "inspect = pd.concat([X_train,y_train], axis=1).groupby('derate_soon').apply(lambda x: x.sample(frac=0.1))"
   ]
  },
  {
   "cell_type": "code",
   "execution_count": 31,
   "metadata": {},
   "outputs": [],
   "source": [
    "import random"
   ]
  },
  {
   "cell_type": "code",
   "execution_count": 32,
   "metadata": {},
   "outputs": [],
   "source": [
    "derate_index = y_train[y_train].index.to_list()"
   ]
  },
  {
   "cell_type": "code",
   "execution_count": 33,
   "metadata": {},
   "outputs": [],
   "source": [
    "nonderate_index = y_train[~y_train].index.to_list()"
   ]
  },
  {
   "cell_type": "code",
   "execution_count": 34,
   "metadata": {},
   "outputs": [],
   "source": [
    "bootstrap_index = random.sample(derate_index, k=50) + random.sample(nonderate_index, k=5000) #we're undersampling here"
   ]
  },
  {
   "cell_type": "code",
   "execution_count": 84,
   "metadata": {
    "scrolled": true
   },
   "outputs": [
    {
     "data": {
      "text/html": [
       "<div>\n",
       "<style scoped>\n",
       "    .dataframe tbody tr th:only-of-type {\n",
       "        vertical-align: middle;\n",
       "    }\n",
       "\n",
       "    .dataframe tbody tr th {\n",
       "        vertical-align: top;\n",
       "    }\n",
       "\n",
       "    .dataframe thead th {\n",
       "        text-align: right;\n",
       "    }\n",
       "</style>\n",
       "<table border=\"1\" class=\"dataframe\">\n",
       "  <thead>\n",
       "    <tr style=\"text-align: right;\">\n",
       "      <th></th>\n",
       "      <th>BarometricPressure</th>\n",
       "      <th>EngineLoad</th>\n",
       "      <th>Speed</th>\n",
       "      <th>EngineOilPressure</th>\n",
       "      <th>EngineOilTemperature</th>\n",
       "      <th>FuelLevel</th>\n",
       "      <th>IntakeManifoldTemperature</th>\n",
       "      <th>TurboBoostPressure</th>\n",
       "      <th>EngineCoolantTemperature</th>\n",
       "      <th>FuelRate</th>\n",
       "      <th>...</th>\n",
       "      <th>96-4</th>\n",
       "      <th>96-9</th>\n",
       "      <th>97-15</th>\n",
       "      <th>97-16</th>\n",
       "      <th>97-3</th>\n",
       "      <th>97-4</th>\n",
       "      <th>976-9</th>\n",
       "      <th>98-18</th>\n",
       "      <th>98-5</th>\n",
       "      <th>IgnStatus_True</th>\n",
       "    </tr>\n",
       "  </thead>\n",
       "  <tbody>\n",
       "    <tr>\n",
       "      <th>448302</th>\n",
       "      <td>14.7175</td>\n",
       "      <td>12.0</td>\n",
       "      <td>46.360120</td>\n",
       "      <td>35.38</td>\n",
       "      <td>209.9187</td>\n",
       "      <td>54.0</td>\n",
       "      <td>100.4</td>\n",
       "      <td>2.61</td>\n",
       "      <td>186.8</td>\n",
       "      <td>1.452951</td>\n",
       "      <td>...</td>\n",
       "      <td>0</td>\n",
       "      <td>0</td>\n",
       "      <td>0</td>\n",
       "      <td>0</td>\n",
       "      <td>0</td>\n",
       "      <td>0</td>\n",
       "      <td>0</td>\n",
       "      <td>0</td>\n",
       "      <td>0</td>\n",
       "      <td>1</td>\n",
       "    </tr>\n",
       "    <tr>\n",
       "      <th>321504</th>\n",
       "      <td>14.7900</td>\n",
       "      <td>12.0</td>\n",
       "      <td>0.000000</td>\n",
       "      <td>23.78</td>\n",
       "      <td>187.9250</td>\n",
       "      <td>100.0</td>\n",
       "      <td>127.4</td>\n",
       "      <td>0.29</td>\n",
       "      <td>179.6</td>\n",
       "      <td>0.581180</td>\n",
       "      <td>...</td>\n",
       "      <td>0</td>\n",
       "      <td>0</td>\n",
       "      <td>0</td>\n",
       "      <td>0</td>\n",
       "      <td>0</td>\n",
       "      <td>0</td>\n",
       "      <td>0</td>\n",
       "      <td>0</td>\n",
       "      <td>0</td>\n",
       "      <td>1</td>\n",
       "    </tr>\n",
       "    <tr>\n",
       "      <th>462307</th>\n",
       "      <td>14.4275</td>\n",
       "      <td>11.0</td>\n",
       "      <td>0.000000</td>\n",
       "      <td>57.42</td>\n",
       "      <td>118.9063</td>\n",
       "      <td>90.8</td>\n",
       "      <td>71.6</td>\n",
       "      <td>1.16</td>\n",
       "      <td>118.4</td>\n",
       "      <td>0.739684</td>\n",
       "      <td>...</td>\n",
       "      <td>0</td>\n",
       "      <td>0</td>\n",
       "      <td>0</td>\n",
       "      <td>0</td>\n",
       "      <td>0</td>\n",
       "      <td>0</td>\n",
       "      <td>0</td>\n",
       "      <td>0</td>\n",
       "      <td>0</td>\n",
       "      <td>1</td>\n",
       "    </tr>\n",
       "    <tr>\n",
       "      <th>452383</th>\n",
       "      <td>14.2825</td>\n",
       "      <td>77.0</td>\n",
       "      <td>61.807010</td>\n",
       "      <td>34.80</td>\n",
       "      <td>223.6438</td>\n",
       "      <td>80.4</td>\n",
       "      <td>98.6</td>\n",
       "      <td>17.11</td>\n",
       "      <td>181.4</td>\n",
       "      <td>13.287900</td>\n",
       "      <td>...</td>\n",
       "      <td>0</td>\n",
       "      <td>0</td>\n",
       "      <td>0</td>\n",
       "      <td>0</td>\n",
       "      <td>0</td>\n",
       "      <td>0</td>\n",
       "      <td>0</td>\n",
       "      <td>0</td>\n",
       "      <td>0</td>\n",
       "      <td>1</td>\n",
       "    </tr>\n",
       "    <tr>\n",
       "      <th>20490</th>\n",
       "      <td>14.4275</td>\n",
       "      <td>0.0</td>\n",
       "      <td>57.321490</td>\n",
       "      <td>35.38</td>\n",
       "      <td>213.7437</td>\n",
       "      <td>77.2</td>\n",
       "      <td>86.0</td>\n",
       "      <td>1.16</td>\n",
       "      <td>186.8</td>\n",
       "      <td>0.000000</td>\n",
       "      <td>...</td>\n",
       "      <td>0</td>\n",
       "      <td>0</td>\n",
       "      <td>0</td>\n",
       "      <td>0</td>\n",
       "      <td>0</td>\n",
       "      <td>0</td>\n",
       "      <td>0</td>\n",
       "      <td>0</td>\n",
       "      <td>0</td>\n",
       "      <td>1</td>\n",
       "    </tr>\n",
       "    <tr>\n",
       "      <th>...</th>\n",
       "      <td>...</td>\n",
       "      <td>...</td>\n",
       "      <td>...</td>\n",
       "      <td>...</td>\n",
       "      <td>...</td>\n",
       "      <td>...</td>\n",
       "      <td>...</td>\n",
       "      <td>...</td>\n",
       "      <td>...</td>\n",
       "      <td>...</td>\n",
       "      <td>...</td>\n",
       "      <td>...</td>\n",
       "      <td>...</td>\n",
       "      <td>...</td>\n",
       "      <td>...</td>\n",
       "      <td>...</td>\n",
       "      <td>...</td>\n",
       "      <td>...</td>\n",
       "      <td>...</td>\n",
       "      <td>...</td>\n",
       "      <td>...</td>\n",
       "    </tr>\n",
       "    <tr>\n",
       "      <th>413198</th>\n",
       "      <td>14.4275</td>\n",
       "      <td>17.0</td>\n",
       "      <td>0.000000</td>\n",
       "      <td>24.94</td>\n",
       "      <td>192.2563</td>\n",
       "      <td>35.2</td>\n",
       "      <td>138.2</td>\n",
       "      <td>0.29</td>\n",
       "      <td>172.4</td>\n",
       "      <td>0.752893</td>\n",
       "      <td>...</td>\n",
       "      <td>0</td>\n",
       "      <td>0</td>\n",
       "      <td>0</td>\n",
       "      <td>0</td>\n",
       "      <td>0</td>\n",
       "      <td>0</td>\n",
       "      <td>0</td>\n",
       "      <td>0</td>\n",
       "      <td>0</td>\n",
       "      <td>1</td>\n",
       "    </tr>\n",
       "    <tr>\n",
       "      <th>25133</th>\n",
       "      <td>14.5000</td>\n",
       "      <td>81.0</td>\n",
       "      <td>66.661480</td>\n",
       "      <td>40.60</td>\n",
       "      <td>188.4312</td>\n",
       "      <td>36.0</td>\n",
       "      <td>91.4</td>\n",
       "      <td>24.07</td>\n",
       "      <td>192.2</td>\n",
       "      <td>17.897710</td>\n",
       "      <td>...</td>\n",
       "      <td>0</td>\n",
       "      <td>0</td>\n",
       "      <td>0</td>\n",
       "      <td>0</td>\n",
       "      <td>0</td>\n",
       "      <td>0</td>\n",
       "      <td>0</td>\n",
       "      <td>0</td>\n",
       "      <td>0</td>\n",
       "      <td>1</td>\n",
       "    </tr>\n",
       "    <tr>\n",
       "      <th>363985</th>\n",
       "      <td>14.1375</td>\n",
       "      <td>6.0</td>\n",
       "      <td>45.758160</td>\n",
       "      <td>42.92</td>\n",
       "      <td>187.1375</td>\n",
       "      <td>100.0</td>\n",
       "      <td>86.0</td>\n",
       "      <td>0.29</td>\n",
       "      <td>181.4</td>\n",
       "      <td>0.501928</td>\n",
       "      <td>...</td>\n",
       "      <td>0</td>\n",
       "      <td>0</td>\n",
       "      <td>0</td>\n",
       "      <td>0</td>\n",
       "      <td>0</td>\n",
       "      <td>0</td>\n",
       "      <td>0</td>\n",
       "      <td>0</td>\n",
       "      <td>0</td>\n",
       "      <td>1</td>\n",
       "    </tr>\n",
       "    <tr>\n",
       "      <th>93223</th>\n",
       "      <td>14.2825</td>\n",
       "      <td>8.0</td>\n",
       "      <td>4.262218</td>\n",
       "      <td>17.40</td>\n",
       "      <td>211.1000</td>\n",
       "      <td>44.0</td>\n",
       "      <td>104.0</td>\n",
       "      <td>1.45</td>\n",
       "      <td>188.6</td>\n",
       "      <td>0.515137</td>\n",
       "      <td>...</td>\n",
       "      <td>0</td>\n",
       "      <td>0</td>\n",
       "      <td>0</td>\n",
       "      <td>0</td>\n",
       "      <td>0</td>\n",
       "      <td>0</td>\n",
       "      <td>0</td>\n",
       "      <td>0</td>\n",
       "      <td>0</td>\n",
       "      <td>1</td>\n",
       "    </tr>\n",
       "    <tr>\n",
       "      <th>82588</th>\n",
       "      <td>14.5000</td>\n",
       "      <td>0.0</td>\n",
       "      <td>55.952530</td>\n",
       "      <td>37.70</td>\n",
       "      <td>191.6938</td>\n",
       "      <td>80.0</td>\n",
       "      <td>51.8</td>\n",
       "      <td>17.40</td>\n",
       "      <td>183.2</td>\n",
       "      <td>0.000000</td>\n",
       "      <td>...</td>\n",
       "      <td>0</td>\n",
       "      <td>0</td>\n",
       "      <td>0</td>\n",
       "      <td>0</td>\n",
       "      <td>0</td>\n",
       "      <td>0</td>\n",
       "      <td>0</td>\n",
       "      <td>0</td>\n",
       "      <td>0</td>\n",
       "      <td>1</td>\n",
       "    </tr>\n",
       "  </tbody>\n",
       "</table>\n",
       "<p>5050 rows × 1060 columns</p>\n",
       "</div>"
      ],
      "text/plain": [
       "        BarometricPressure  EngineLoad      Speed  EngineOilPressure  \\\n",
       "448302             14.7175        12.0  46.360120              35.38   \n",
       "321504             14.7900        12.0   0.000000              23.78   \n",
       "462307             14.4275        11.0   0.000000              57.42   \n",
       "452383             14.2825        77.0  61.807010              34.80   \n",
       "20490              14.4275         0.0  57.321490              35.38   \n",
       "...                    ...         ...        ...                ...   \n",
       "413198             14.4275        17.0   0.000000              24.94   \n",
       "25133              14.5000        81.0  66.661480              40.60   \n",
       "363985             14.1375         6.0  45.758160              42.92   \n",
       "93223              14.2825         8.0   4.262218              17.40   \n",
       "82588              14.5000         0.0  55.952530              37.70   \n",
       "\n",
       "        EngineOilTemperature  FuelLevel  IntakeManifoldTemperature  \\\n",
       "448302              209.9187       54.0                      100.4   \n",
       "321504              187.9250      100.0                      127.4   \n",
       "462307              118.9063       90.8                       71.6   \n",
       "452383              223.6438       80.4                       98.6   \n",
       "20490               213.7437       77.2                       86.0   \n",
       "...                      ...        ...                        ...   \n",
       "413198              192.2563       35.2                      138.2   \n",
       "25133               188.4312       36.0                       91.4   \n",
       "363985              187.1375      100.0                       86.0   \n",
       "93223               211.1000       44.0                      104.0   \n",
       "82588               191.6938       80.0                       51.8   \n",
       "\n",
       "        TurboBoostPressure  EngineCoolantTemperature   FuelRate  ...  96-4  \\\n",
       "448302                2.61                     186.8   1.452951  ...     0   \n",
       "321504                0.29                     179.6   0.581180  ...     0   \n",
       "462307                1.16                     118.4   0.739684  ...     0   \n",
       "452383               17.11                     181.4  13.287900  ...     0   \n",
       "20490                 1.16                     186.8   0.000000  ...     0   \n",
       "...                    ...                       ...        ...  ...   ...   \n",
       "413198                0.29                     172.4   0.752893  ...     0   \n",
       "25133                24.07                     192.2  17.897710  ...     0   \n",
       "363985                0.29                     181.4   0.501928  ...     0   \n",
       "93223                 1.45                     188.6   0.515137  ...     0   \n",
       "82588                17.40                     183.2   0.000000  ...     0   \n",
       "\n",
       "        96-9  97-15  97-16  97-3  97-4  976-9  98-18  98-5  IgnStatus_True  \n",
       "448302     0      0      0     0     0      0      0     0               1  \n",
       "321504     0      0      0     0     0      0      0     0               1  \n",
       "462307     0      0      0     0     0      0      0     0               1  \n",
       "452383     0      0      0     0     0      0      0     0               1  \n",
       "20490      0      0      0     0     0      0      0     0               1  \n",
       "...      ...    ...    ...   ...   ...    ...    ...   ...             ...  \n",
       "413198     0      0      0     0     0      0      0     0               1  \n",
       "25133      0      0      0     0     0      0      0     0               1  \n",
       "363985     0      0      0     0     0      0      0     0               1  \n",
       "93223      0      0      0     0     0      0      0     0               1  \n",
       "82588      0      0      0     0     0      0      0     0               1  \n",
       "\n",
       "[5050 rows x 1060 columns]"
      ]
     },
     "execution_count": 84,
     "metadata": {},
     "output_type": "execute_result"
    }
   ],
   "source": [
    "X_train.loc[bootstrap_index]"
   ]
  },
  {
   "cell_type": "code",
   "execution_count": 35,
   "metadata": {},
   "outputs": [],
   "source": [
    "Var_boot = pd.concat([X_train , y_train],axis=1)"
   ]
  },
  {
   "cell_type": "code",
   "execution_count": 91,
   "metadata": {},
   "outputs": [
    {
     "data": {
      "text/html": [
       "<div>\n",
       "<style scoped>\n",
       "    .dataframe tbody tr th:only-of-type {\n",
       "        vertical-align: middle;\n",
       "    }\n",
       "\n",
       "    .dataframe tbody tr th {\n",
       "        vertical-align: top;\n",
       "    }\n",
       "\n",
       "    .dataframe thead th {\n",
       "        text-align: right;\n",
       "    }\n",
       "</style>\n",
       "<table border=\"1\" class=\"dataframe\">\n",
       "  <thead>\n",
       "    <tr style=\"text-align: right;\">\n",
       "      <th></th>\n",
       "      <th>BarometricPressure</th>\n",
       "      <th>EngineLoad</th>\n",
       "      <th>Speed</th>\n",
       "      <th>EngineOilPressure</th>\n",
       "      <th>EngineOilTemperature</th>\n",
       "      <th>FuelLevel</th>\n",
       "      <th>IntakeManifoldTemperature</th>\n",
       "      <th>TurboBoostPressure</th>\n",
       "      <th>EngineCoolantTemperature</th>\n",
       "      <th>FuelRate</th>\n",
       "      <th>...</th>\n",
       "      <th>96-9</th>\n",
       "      <th>97-15</th>\n",
       "      <th>97-16</th>\n",
       "      <th>97-3</th>\n",
       "      <th>97-4</th>\n",
       "      <th>976-9</th>\n",
       "      <th>98-18</th>\n",
       "      <th>98-5</th>\n",
       "      <th>IgnStatus_True</th>\n",
       "      <th>derate_soon</th>\n",
       "    </tr>\n",
       "  </thead>\n",
       "  <tbody>\n",
       "    <tr>\n",
       "      <th>0</th>\n",
       "      <td>14.2825</td>\n",
       "      <td>29.181818</td>\n",
       "      <td>15.130145</td>\n",
       "      <td>38.86</td>\n",
       "      <td>129.70625</td>\n",
       "      <td>59.2</td>\n",
       "      <td>86.0</td>\n",
       "      <td>0.00</td>\n",
       "      <td>102.2</td>\n",
       "      <td>1.585037</td>\n",
       "      <td>...</td>\n",
       "      <td>0</td>\n",
       "      <td>0</td>\n",
       "      <td>0</td>\n",
       "      <td>0</td>\n",
       "      <td>0</td>\n",
       "      <td>0</td>\n",
       "      <td>0</td>\n",
       "      <td>0</td>\n",
       "      <td>1</td>\n",
       "      <td>False</td>\n",
       "    </tr>\n",
       "    <tr>\n",
       "      <th>1</th>\n",
       "      <td>14.2825</td>\n",
       "      <td>29.181818</td>\n",
       "      <td>15.130145</td>\n",
       "      <td>38.86</td>\n",
       "      <td>129.70625</td>\n",
       "      <td>59.2</td>\n",
       "      <td>86.0</td>\n",
       "      <td>0.00</td>\n",
       "      <td>102.2</td>\n",
       "      <td>1.585037</td>\n",
       "      <td>...</td>\n",
       "      <td>0</td>\n",
       "      <td>0</td>\n",
       "      <td>0</td>\n",
       "      <td>0</td>\n",
       "      <td>0</td>\n",
       "      <td>0</td>\n",
       "      <td>0</td>\n",
       "      <td>0</td>\n",
       "      <td>1</td>\n",
       "      <td>False</td>\n",
       "    </tr>\n",
       "    <tr>\n",
       "      <th>2</th>\n",
       "      <td>14.2825</td>\n",
       "      <td>29.181818</td>\n",
       "      <td>15.130145</td>\n",
       "      <td>38.86</td>\n",
       "      <td>129.70625</td>\n",
       "      <td>59.2</td>\n",
       "      <td>86.0</td>\n",
       "      <td>0.00</td>\n",
       "      <td>102.2</td>\n",
       "      <td>1.585037</td>\n",
       "      <td>...</td>\n",
       "      <td>0</td>\n",
       "      <td>0</td>\n",
       "      <td>0</td>\n",
       "      <td>0</td>\n",
       "      <td>0</td>\n",
       "      <td>0</td>\n",
       "      <td>0</td>\n",
       "      <td>0</td>\n",
       "      <td>1</td>\n",
       "      <td>False</td>\n",
       "    </tr>\n",
       "    <tr>\n",
       "      <th>3</th>\n",
       "      <td>14.2825</td>\n",
       "      <td>29.181818</td>\n",
       "      <td>15.130145</td>\n",
       "      <td>38.86</td>\n",
       "      <td>129.70625</td>\n",
       "      <td>59.2</td>\n",
       "      <td>86.0</td>\n",
       "      <td>0.00</td>\n",
       "      <td>102.2</td>\n",
       "      <td>1.585037</td>\n",
       "      <td>...</td>\n",
       "      <td>0</td>\n",
       "      <td>0</td>\n",
       "      <td>0</td>\n",
       "      <td>0</td>\n",
       "      <td>0</td>\n",
       "      <td>0</td>\n",
       "      <td>0</td>\n",
       "      <td>0</td>\n",
       "      <td>1</td>\n",
       "      <td>False</td>\n",
       "    </tr>\n",
       "    <tr>\n",
       "      <th>4</th>\n",
       "      <td>14.0650</td>\n",
       "      <td>28.000000</td>\n",
       "      <td>15.130145</td>\n",
       "      <td>41.76</td>\n",
       "      <td>129.70625</td>\n",
       "      <td>59.2</td>\n",
       "      <td>66.2</td>\n",
       "      <td>0.00</td>\n",
       "      <td>64.4</td>\n",
       "      <td>1.585037</td>\n",
       "      <td>...</td>\n",
       "      <td>0</td>\n",
       "      <td>0</td>\n",
       "      <td>0</td>\n",
       "      <td>0</td>\n",
       "      <td>0</td>\n",
       "      <td>0</td>\n",
       "      <td>0</td>\n",
       "      <td>0</td>\n",
       "      <td>1</td>\n",
       "      <td>False</td>\n",
       "    </tr>\n",
       "    <tr>\n",
       "      <th>...</th>\n",
       "      <td>...</td>\n",
       "      <td>...</td>\n",
       "      <td>...</td>\n",
       "      <td>...</td>\n",
       "      <td>...</td>\n",
       "      <td>...</td>\n",
       "      <td>...</td>\n",
       "      <td>...</td>\n",
       "      <td>...</td>\n",
       "      <td>...</td>\n",
       "      <td>...</td>\n",
       "      <td>...</td>\n",
       "      <td>...</td>\n",
       "      <td>...</td>\n",
       "      <td>...</td>\n",
       "      <td>...</td>\n",
       "      <td>...</td>\n",
       "      <td>...</td>\n",
       "      <td>...</td>\n",
       "      <td>...</td>\n",
       "      <td>...</td>\n",
       "    </tr>\n",
       "    <tr>\n",
       "      <th>468951</th>\n",
       "      <td>14.4275</td>\n",
       "      <td>0.000000</td>\n",
       "      <td>2.553447</td>\n",
       "      <td>38.28</td>\n",
       "      <td>112.21250</td>\n",
       "      <td>30.0</td>\n",
       "      <td>100.4</td>\n",
       "      <td>2.90</td>\n",
       "      <td>113.0</td>\n",
       "      <td>0.000000</td>\n",
       "      <td>...</td>\n",
       "      <td>0</td>\n",
       "      <td>0</td>\n",
       "      <td>0</td>\n",
       "      <td>0</td>\n",
       "      <td>0</td>\n",
       "      <td>0</td>\n",
       "      <td>0</td>\n",
       "      <td>0</td>\n",
       "      <td>1</td>\n",
       "      <td>False</td>\n",
       "    </tr>\n",
       "    <tr>\n",
       "      <th>468952</th>\n",
       "      <td>14.4275</td>\n",
       "      <td>15.000000</td>\n",
       "      <td>1.048564</td>\n",
       "      <td>36.54</td>\n",
       "      <td>140.28130</td>\n",
       "      <td>32.4</td>\n",
       "      <td>96.8</td>\n",
       "      <td>0.87</td>\n",
       "      <td>140.0</td>\n",
       "      <td>0.647223</td>\n",
       "      <td>...</td>\n",
       "      <td>0</td>\n",
       "      <td>0</td>\n",
       "      <td>0</td>\n",
       "      <td>0</td>\n",
       "      <td>0</td>\n",
       "      <td>0</td>\n",
       "      <td>0</td>\n",
       "      <td>0</td>\n",
       "      <td>1</td>\n",
       "      <td>False</td>\n",
       "    </tr>\n",
       "    <tr>\n",
       "      <th>468953</th>\n",
       "      <td>14.0650</td>\n",
       "      <td>83.000000</td>\n",
       "      <td>65.962430</td>\n",
       "      <td>42.34</td>\n",
       "      <td>222.68750</td>\n",
       "      <td>38.0</td>\n",
       "      <td>82.4</td>\n",
       "      <td>16.82</td>\n",
       "      <td>185.0</td>\n",
       "      <td>14.727640</td>\n",
       "      <td>...</td>\n",
       "      <td>0</td>\n",
       "      <td>0</td>\n",
       "      <td>0</td>\n",
       "      <td>0</td>\n",
       "      <td>0</td>\n",
       "      <td>0</td>\n",
       "      <td>0</td>\n",
       "      <td>0</td>\n",
       "      <td>1</td>\n",
       "      <td>False</td>\n",
       "    </tr>\n",
       "    <tr>\n",
       "      <th>468954</th>\n",
       "      <td>14.1375</td>\n",
       "      <td>53.000000</td>\n",
       "      <td>66.836240</td>\n",
       "      <td>42.34</td>\n",
       "      <td>222.68750</td>\n",
       "      <td>22.0</td>\n",
       "      <td>82.4</td>\n",
       "      <td>8.99</td>\n",
       "      <td>179.6</td>\n",
       "      <td>9.166799</td>\n",
       "      <td>...</td>\n",
       "      <td>0</td>\n",
       "      <td>0</td>\n",
       "      <td>0</td>\n",
       "      <td>0</td>\n",
       "      <td>0</td>\n",
       "      <td>0</td>\n",
       "      <td>0</td>\n",
       "      <td>0</td>\n",
       "      <td>1</td>\n",
       "      <td>False</td>\n",
       "    </tr>\n",
       "    <tr>\n",
       "      <th>468955</th>\n",
       "      <td>14.4275</td>\n",
       "      <td>12.000000</td>\n",
       "      <td>4.378725</td>\n",
       "      <td>40.60</td>\n",
       "      <td>160.92500</td>\n",
       "      <td>93.6</td>\n",
       "      <td>93.2</td>\n",
       "      <td>1.74</td>\n",
       "      <td>154.4</td>\n",
       "      <td>1.598246</td>\n",
       "      <td>...</td>\n",
       "      <td>0</td>\n",
       "      <td>0</td>\n",
       "      <td>0</td>\n",
       "      <td>0</td>\n",
       "      <td>0</td>\n",
       "      <td>0</td>\n",
       "      <td>0</td>\n",
       "      <td>0</td>\n",
       "      <td>1</td>\n",
       "      <td>False</td>\n",
       "    </tr>\n",
       "  </tbody>\n",
       "</table>\n",
       "<p>468165 rows × 1061 columns</p>\n",
       "</div>"
      ],
      "text/plain": [
       "        BarometricPressure  EngineLoad      Speed  EngineOilPressure  \\\n",
       "0                  14.2825   29.181818  15.130145              38.86   \n",
       "1                  14.2825   29.181818  15.130145              38.86   \n",
       "2                  14.2825   29.181818  15.130145              38.86   \n",
       "3                  14.2825   29.181818  15.130145              38.86   \n",
       "4                  14.0650   28.000000  15.130145              41.76   \n",
       "...                    ...         ...        ...                ...   \n",
       "468951             14.4275    0.000000   2.553447              38.28   \n",
       "468952             14.4275   15.000000   1.048564              36.54   \n",
       "468953             14.0650   83.000000  65.962430              42.34   \n",
       "468954             14.1375   53.000000  66.836240              42.34   \n",
       "468955             14.4275   12.000000   4.378725              40.60   \n",
       "\n",
       "        EngineOilTemperature  FuelLevel  IntakeManifoldTemperature  \\\n",
       "0                  129.70625       59.2                       86.0   \n",
       "1                  129.70625       59.2                       86.0   \n",
       "2                  129.70625       59.2                       86.0   \n",
       "3                  129.70625       59.2                       86.0   \n",
       "4                  129.70625       59.2                       66.2   \n",
       "...                      ...        ...                        ...   \n",
       "468951             112.21250       30.0                      100.4   \n",
       "468952             140.28130       32.4                       96.8   \n",
       "468953             222.68750       38.0                       82.4   \n",
       "468954             222.68750       22.0                       82.4   \n",
       "468955             160.92500       93.6                       93.2   \n",
       "\n",
       "        TurboBoostPressure  EngineCoolantTemperature   FuelRate  ...  96-9  \\\n",
       "0                     0.00                     102.2   1.585037  ...     0   \n",
       "1                     0.00                     102.2   1.585037  ...     0   \n",
       "2                     0.00                     102.2   1.585037  ...     0   \n",
       "3                     0.00                     102.2   1.585037  ...     0   \n",
       "4                     0.00                      64.4   1.585037  ...     0   \n",
       "...                    ...                       ...        ...  ...   ...   \n",
       "468951                2.90                     113.0   0.000000  ...     0   \n",
       "468952                0.87                     140.0   0.647223  ...     0   \n",
       "468953               16.82                     185.0  14.727640  ...     0   \n",
       "468954                8.99                     179.6   9.166799  ...     0   \n",
       "468955                1.74                     154.4   1.598246  ...     0   \n",
       "\n",
       "        97-15  97-16  97-3  97-4  976-9  98-18  98-5  IgnStatus_True  \\\n",
       "0           0      0     0     0      0      0     0               1   \n",
       "1           0      0     0     0      0      0     0               1   \n",
       "2           0      0     0     0      0      0     0               1   \n",
       "3           0      0     0     0      0      0     0               1   \n",
       "4           0      0     0     0      0      0     0               1   \n",
       "...       ...    ...   ...   ...    ...    ...   ...             ...   \n",
       "468951      0      0     0     0      0      0     0               1   \n",
       "468952      0      0     0     0      0      0     0               1   \n",
       "468953      0      0     0     0      0      0     0               1   \n",
       "468954      0      0     0     0      0      0     0               1   \n",
       "468955      0      0     0     0      0      0     0               1   \n",
       "\n",
       "        derate_soon  \n",
       "0             False  \n",
       "1             False  \n",
       "2             False  \n",
       "3             False  \n",
       "4             False  \n",
       "...             ...  \n",
       "468951        False  \n",
       "468952        False  \n",
       "468953        False  \n",
       "468954        False  \n",
       "468955        False  \n",
       "\n",
       "[468165 rows x 1061 columns]"
      ]
     },
     "execution_count": 91,
     "metadata": {},
     "output_type": "execute_result"
    }
   ],
   "source": [
    "Var_boot"
   ]
  },
  {
   "cell_type": "code",
   "execution_count": 36,
   "metadata": {},
   "outputs": [],
   "source": [
    "#to get a bootstrap sample\n",
    "def bootstrapss():\n",
    "    bootstrap_index = random.sample(derate_index, k=50) + random.sample(nonderate_index, k=5000)\n",
    "    boot = Var_boot.loc[bootstrap_index]\n",
    "    X_boot = boot.drop(columns='derate_soon', axis=1)\n",
    "    y_boot = boot['derate_soon']\n",
    "    return X_boot, y_boot"
   ]
  },
  {
   "cell_type": "code",
   "execution_count": 37,
   "metadata": {},
   "outputs": [],
   "source": [
    "X_boot, y_boot = bootstrapss()"
   ]
  },
  {
   "cell_type": "code",
   "execution_count": 94,
   "metadata": {},
   "outputs": [
    {
     "data": {
      "text/html": [
       "<div>\n",
       "<style scoped>\n",
       "    .dataframe tbody tr th:only-of-type {\n",
       "        vertical-align: middle;\n",
       "    }\n",
       "\n",
       "    .dataframe tbody tr th {\n",
       "        vertical-align: top;\n",
       "    }\n",
       "\n",
       "    .dataframe thead th {\n",
       "        text-align: right;\n",
       "    }\n",
       "</style>\n",
       "<table border=\"1\" class=\"dataframe\">\n",
       "  <thead>\n",
       "    <tr style=\"text-align: right;\">\n",
       "      <th></th>\n",
       "      <th>BarometricPressure</th>\n",
       "      <th>EngineLoad</th>\n",
       "      <th>Speed</th>\n",
       "      <th>EngineOilPressure</th>\n",
       "      <th>EngineOilTemperature</th>\n",
       "      <th>FuelLevel</th>\n",
       "      <th>IntakeManifoldTemperature</th>\n",
       "      <th>TurboBoostPressure</th>\n",
       "      <th>EngineCoolantTemperature</th>\n",
       "      <th>FuelRate</th>\n",
       "      <th>...</th>\n",
       "      <th>96-4</th>\n",
       "      <th>96-9</th>\n",
       "      <th>97-15</th>\n",
       "      <th>97-16</th>\n",
       "      <th>97-3</th>\n",
       "      <th>97-4</th>\n",
       "      <th>976-9</th>\n",
       "      <th>98-18</th>\n",
       "      <th>98-5</th>\n",
       "      <th>IgnStatus_True</th>\n",
       "    </tr>\n",
       "  </thead>\n",
       "  <tbody>\n",
       "    <tr>\n",
       "      <th>105362</th>\n",
       "      <td>14.065000</td>\n",
       "      <td>67.000000</td>\n",
       "      <td>51.117490</td>\n",
       "      <td>36.54</td>\n",
       "      <td>188.15000</td>\n",
       "      <td>84.0</td>\n",
       "      <td>107.6</td>\n",
       "      <td>18.56</td>\n",
       "      <td>186.8</td>\n",
       "      <td>9.338511</td>\n",
       "      <td>...</td>\n",
       "      <td>0</td>\n",
       "      <td>0</td>\n",
       "      <td>0</td>\n",
       "      <td>0</td>\n",
       "      <td>0</td>\n",
       "      <td>0</td>\n",
       "      <td>0</td>\n",
       "      <td>0</td>\n",
       "      <td>0</td>\n",
       "      <td>1</td>\n",
       "    </tr>\n",
       "    <tr>\n",
       "      <th>373931</th>\n",
       "      <td>14.572500</td>\n",
       "      <td>70.000000</td>\n",
       "      <td>54.088420</td>\n",
       "      <td>39.44</td>\n",
       "      <td>197.03750</td>\n",
       "      <td>60.8</td>\n",
       "      <td>91.4</td>\n",
       "      <td>4.93</td>\n",
       "      <td>185.0</td>\n",
       "      <td>11.676440</td>\n",
       "      <td>...</td>\n",
       "      <td>0</td>\n",
       "      <td>0</td>\n",
       "      <td>0</td>\n",
       "      <td>0</td>\n",
       "      <td>0</td>\n",
       "      <td>0</td>\n",
       "      <td>0</td>\n",
       "      <td>0</td>\n",
       "      <td>0</td>\n",
       "      <td>1</td>\n",
       "    </tr>\n",
       "    <tr>\n",
       "      <th>284187</th>\n",
       "      <td>14.427500</td>\n",
       "      <td>37.000000</td>\n",
       "      <td>6.475853</td>\n",
       "      <td>31.90</td>\n",
       "      <td>224.09380</td>\n",
       "      <td>63.6</td>\n",
       "      <td>140.0</td>\n",
       "      <td>2.03</td>\n",
       "      <td>186.8</td>\n",
       "      <td>3.130449</td>\n",
       "      <td>...</td>\n",
       "      <td>0</td>\n",
       "      <td>0</td>\n",
       "      <td>0</td>\n",
       "      <td>0</td>\n",
       "      <td>0</td>\n",
       "      <td>0</td>\n",
       "      <td>0</td>\n",
       "      <td>0</td>\n",
       "      <td>0</td>\n",
       "      <td>1</td>\n",
       "    </tr>\n",
       "    <tr>\n",
       "      <th>452382</th>\n",
       "      <td>14.282500</td>\n",
       "      <td>9.000000</td>\n",
       "      <td>0.000000</td>\n",
       "      <td>23.78</td>\n",
       "      <td>198.55620</td>\n",
       "      <td>81.2</td>\n",
       "      <td>149.0</td>\n",
       "      <td>0.00</td>\n",
       "      <td>179.6</td>\n",
       "      <td>0.475511</td>\n",
       "      <td>...</td>\n",
       "      <td>0</td>\n",
       "      <td>0</td>\n",
       "      <td>0</td>\n",
       "      <td>0</td>\n",
       "      <td>0</td>\n",
       "      <td>0</td>\n",
       "      <td>0</td>\n",
       "      <td>0</td>\n",
       "      <td>0</td>\n",
       "      <td>1</td>\n",
       "    </tr>\n",
       "    <tr>\n",
       "      <th>408761</th>\n",
       "      <td>14.500000</td>\n",
       "      <td>0.000000</td>\n",
       "      <td>0.000000</td>\n",
       "      <td>0.00</td>\n",
       "      <td>111.65000</td>\n",
       "      <td>81.2</td>\n",
       "      <td>93.2</td>\n",
       "      <td>0.00</td>\n",
       "      <td>111.2</td>\n",
       "      <td>0.000000</td>\n",
       "      <td>...</td>\n",
       "      <td>0</td>\n",
       "      <td>0</td>\n",
       "      <td>0</td>\n",
       "      <td>0</td>\n",
       "      <td>0</td>\n",
       "      <td>0</td>\n",
       "      <td>0</td>\n",
       "      <td>0</td>\n",
       "      <td>0</td>\n",
       "      <td>1</td>\n",
       "    </tr>\n",
       "    <tr>\n",
       "      <th>...</th>\n",
       "      <td>...</td>\n",
       "      <td>...</td>\n",
       "      <td>...</td>\n",
       "      <td>...</td>\n",
       "      <td>...</td>\n",
       "      <td>...</td>\n",
       "      <td>...</td>\n",
       "      <td>...</td>\n",
       "      <td>...</td>\n",
       "      <td>...</td>\n",
       "      <td>...</td>\n",
       "      <td>...</td>\n",
       "      <td>...</td>\n",
       "      <td>...</td>\n",
       "      <td>...</td>\n",
       "      <td>...</td>\n",
       "      <td>...</td>\n",
       "      <td>...</td>\n",
       "      <td>...</td>\n",
       "      <td>...</td>\n",
       "      <td>...</td>\n",
       "    </tr>\n",
       "    <tr>\n",
       "      <th>195584</th>\n",
       "      <td>14.500000</td>\n",
       "      <td>16.000000</td>\n",
       "      <td>0.000000</td>\n",
       "      <td>31.32</td>\n",
       "      <td>181.62500</td>\n",
       "      <td>100.0</td>\n",
       "      <td>136.4</td>\n",
       "      <td>0.29</td>\n",
       "      <td>174.2</td>\n",
       "      <td>0.752893</td>\n",
       "      <td>...</td>\n",
       "      <td>0</td>\n",
       "      <td>0</td>\n",
       "      <td>0</td>\n",
       "      <td>0</td>\n",
       "      <td>0</td>\n",
       "      <td>0</td>\n",
       "      <td>0</td>\n",
       "      <td>0</td>\n",
       "      <td>0</td>\n",
       "      <td>1</td>\n",
       "    </tr>\n",
       "    <tr>\n",
       "      <th>261472</th>\n",
       "      <td>13.702500</td>\n",
       "      <td>19.000000</td>\n",
       "      <td>9.582709</td>\n",
       "      <td>43.50</td>\n",
       "      <td>187.98120</td>\n",
       "      <td>100.0</td>\n",
       "      <td>125.6</td>\n",
       "      <td>5.80</td>\n",
       "      <td>174.2</td>\n",
       "      <td>3.381413</td>\n",
       "      <td>...</td>\n",
       "      <td>0</td>\n",
       "      <td>0</td>\n",
       "      <td>0</td>\n",
       "      <td>0</td>\n",
       "      <td>0</td>\n",
       "      <td>0</td>\n",
       "      <td>0</td>\n",
       "      <td>0</td>\n",
       "      <td>0</td>\n",
       "      <td>1</td>\n",
       "    </tr>\n",
       "    <tr>\n",
       "      <th>343362</th>\n",
       "      <td>14.137500</td>\n",
       "      <td>25.000000</td>\n",
       "      <td>0.000000</td>\n",
       "      <td>31.32</td>\n",
       "      <td>199.79370</td>\n",
       "      <td>60.0</td>\n",
       "      <td>87.8</td>\n",
       "      <td>6.96</td>\n",
       "      <td>186.8</td>\n",
       "      <td>1.849210</td>\n",
       "      <td>...</td>\n",
       "      <td>0</td>\n",
       "      <td>0</td>\n",
       "      <td>0</td>\n",
       "      <td>0</td>\n",
       "      <td>0</td>\n",
       "      <td>0</td>\n",
       "      <td>0</td>\n",
       "      <td>0</td>\n",
       "      <td>0</td>\n",
       "      <td>1</td>\n",
       "    </tr>\n",
       "    <tr>\n",
       "      <th>306647</th>\n",
       "      <td>14.380825</td>\n",
       "      <td>24.839477</td>\n",
       "      <td>16.803331</td>\n",
       "      <td>26.68</td>\n",
       "      <td>197.71250</td>\n",
       "      <td>47.6</td>\n",
       "      <td>98.6</td>\n",
       "      <td>0.58</td>\n",
       "      <td>181.4</td>\n",
       "      <td>0.726475</td>\n",
       "      <td>...</td>\n",
       "      <td>0</td>\n",
       "      <td>0</td>\n",
       "      <td>0</td>\n",
       "      <td>0</td>\n",
       "      <td>0</td>\n",
       "      <td>0</td>\n",
       "      <td>0</td>\n",
       "      <td>0</td>\n",
       "      <td>0</td>\n",
       "      <td>1</td>\n",
       "    </tr>\n",
       "    <tr>\n",
       "      <th>317713</th>\n",
       "      <td>14.572500</td>\n",
       "      <td>27.407040</td>\n",
       "      <td>20.612058</td>\n",
       "      <td>36.54</td>\n",
       "      <td>189.86565</td>\n",
       "      <td>84.4</td>\n",
       "      <td>132.8</td>\n",
       "      <td>0.58</td>\n",
       "      <td>158.0</td>\n",
       "      <td>1.017066</td>\n",
       "      <td>...</td>\n",
       "      <td>0</td>\n",
       "      <td>0</td>\n",
       "      <td>0</td>\n",
       "      <td>0</td>\n",
       "      <td>0</td>\n",
       "      <td>0</td>\n",
       "      <td>0</td>\n",
       "      <td>0</td>\n",
       "      <td>0</td>\n",
       "      <td>1</td>\n",
       "    </tr>\n",
       "  </tbody>\n",
       "</table>\n",
       "<p>5050 rows × 1060 columns</p>\n",
       "</div>"
      ],
      "text/plain": [
       "        BarometricPressure  EngineLoad      Speed  EngineOilPressure  \\\n",
       "105362           14.065000   67.000000  51.117490              36.54   \n",
       "373931           14.572500   70.000000  54.088420              39.44   \n",
       "284187           14.427500   37.000000   6.475853              31.90   \n",
       "452382           14.282500    9.000000   0.000000              23.78   \n",
       "408761           14.500000    0.000000   0.000000               0.00   \n",
       "...                    ...         ...        ...                ...   \n",
       "195584           14.500000   16.000000   0.000000              31.32   \n",
       "261472           13.702500   19.000000   9.582709              43.50   \n",
       "343362           14.137500   25.000000   0.000000              31.32   \n",
       "306647           14.380825   24.839477  16.803331              26.68   \n",
       "317713           14.572500   27.407040  20.612058              36.54   \n",
       "\n",
       "        EngineOilTemperature  FuelLevel  IntakeManifoldTemperature  \\\n",
       "105362             188.15000       84.0                      107.6   \n",
       "373931             197.03750       60.8                       91.4   \n",
       "284187             224.09380       63.6                      140.0   \n",
       "452382             198.55620       81.2                      149.0   \n",
       "408761             111.65000       81.2                       93.2   \n",
       "...                      ...        ...                        ...   \n",
       "195584             181.62500      100.0                      136.4   \n",
       "261472             187.98120      100.0                      125.6   \n",
       "343362             199.79370       60.0                       87.8   \n",
       "306647             197.71250       47.6                       98.6   \n",
       "317713             189.86565       84.4                      132.8   \n",
       "\n",
       "        TurboBoostPressure  EngineCoolantTemperature   FuelRate  ...  96-4  \\\n",
       "105362               18.56                     186.8   9.338511  ...     0   \n",
       "373931                4.93                     185.0  11.676440  ...     0   \n",
       "284187                2.03                     186.8   3.130449  ...     0   \n",
       "452382                0.00                     179.6   0.475511  ...     0   \n",
       "408761                0.00                     111.2   0.000000  ...     0   \n",
       "...                    ...                       ...        ...  ...   ...   \n",
       "195584                0.29                     174.2   0.752893  ...     0   \n",
       "261472                5.80                     174.2   3.381413  ...     0   \n",
       "343362                6.96                     186.8   1.849210  ...     0   \n",
       "306647                0.58                     181.4   0.726475  ...     0   \n",
       "317713                0.58                     158.0   1.017066  ...     0   \n",
       "\n",
       "        96-9  97-15  97-16  97-3  97-4  976-9  98-18  98-5  IgnStatus_True  \n",
       "105362     0      0      0     0     0      0      0     0               1  \n",
       "373931     0      0      0     0     0      0      0     0               1  \n",
       "284187     0      0      0     0     0      0      0     0               1  \n",
       "452382     0      0      0     0     0      0      0     0               1  \n",
       "408761     0      0      0     0     0      0      0     0               1  \n",
       "...      ...    ...    ...   ...   ...    ...    ...   ...             ...  \n",
       "195584     0      0      0     0     0      0      0     0               1  \n",
       "261472     0      0      0     0     0      0      0     0               1  \n",
       "343362     0      0      0     0     0      0      0     0               1  \n",
       "306647     0      0      0     0     0      0      0     0               1  \n",
       "317713     0      0      0     0     0      0      0     0               1  \n",
       "\n",
       "[5050 rows x 1060 columns]"
      ]
     },
     "execution_count": 94,
     "metadata": {},
     "output_type": "execute_result"
    }
   ],
   "source": [
    "X_boot"
   ]
  },
  {
   "cell_type": "code",
   "execution_count": 95,
   "metadata": {},
   "outputs": [
    {
     "data": {
      "text/plain": [
       "105362     True\n",
       "373931     True\n",
       "284187     True\n",
       "452382     True\n",
       "408761     True\n",
       "          ...  \n",
       "195584    False\n",
       "261472    False\n",
       "343362    False\n",
       "306647    False\n",
       "317713    False\n",
       "Name: derate_soon, Length: 5050, dtype: bool"
      ]
     },
     "execution_count": 95,
     "metadata": {},
     "output_type": "execute_result"
    }
   ],
   "source": [
    "y_boot"
   ]
  },
  {
   "cell_type": "code",
   "execution_count": 38,
   "metadata": {},
   "outputs": [],
   "source": [
    "pipesgdboot = Pipeline(steps=[\n",
    "    \n",
    "    ('scale',StandardScaler()), \n",
    "    ('classifier',SGDClassifier(class_weight={0:1,1:5},penalty='l1', loss = 'log', alpha=0.001)) #let 1:5 run overnight  TBR\n",
    "    \n",
    "]) "
   ]
  },
  {
   "cell_type": "code",
   "execution_count": 39,
   "metadata": {},
   "outputs": [
    {
     "name": "stdout",
     "output_type": "stream",
     "text": [
      "Wall time: 25.7 s\n"
     ]
    },
    {
     "data": {
      "text/plain": [
       "Pipeline(steps=[('scale', StandardScaler()),\n",
       "                ('classifier',\n",
       "                 SGDClassifier(alpha=0.001, class_weight={0: 1, 1: 5},\n",
       "                               loss='log', penalty='l1'))])"
      ]
     },
     "execution_count": 39,
     "metadata": {},
     "output_type": "execute_result"
    }
   ],
   "source": [
    "%%time\n",
    "pipesgdboot.fit(X_boot,y_boot)"
   ]
  },
  {
   "cell_type": "code",
   "execution_count": 40,
   "metadata": {},
   "outputs": [],
   "source": [
    "y_pred = pipesgdboot.predict(X_test)"
   ]
  },
  {
   "cell_type": "code",
   "execution_count": 41,
   "metadata": {},
   "outputs": [
    {
     "data": {
      "text/plain": [
       "array([[114854,   2119],\n",
       "       [   202,     66]], dtype=int64)"
      ]
     },
     "execution_count": 41,
     "metadata": {},
     "output_type": "execute_result"
    }
   ],
   "source": [
    "confusion_matrix(y_test,y_pred) #1:5"
   ]
  },
  {
   "cell_type": "code",
   "execution_count": 151,
   "metadata": {},
   "outputs": [
    {
     "data": {
      "text/plain": [
       "array([[115810,   1163],\n",
       "       [   207,     61]], dtype=int64)"
      ]
     },
     "execution_count": 151,
     "metadata": {},
     "output_type": "execute_result"
    }
   ],
   "source": [
    "confusion_matrix(y_test,y_pred) #1:1"
   ]
  },
  {
   "cell_type": "code",
   "execution_count": 116,
   "metadata": {},
   "outputs": [
    {
     "data": {
      "text/plain": [
       "array([[114765,   2208],\n",
       "       [   212,     56]], dtype=int64)"
      ]
     },
     "execution_count": 116,
     "metadata": {},
     "output_type": "execute_result"
    }
   ],
   "source": [
    "confusion_matrix(y_test,y_pred) #1:2"
   ]
  },
  {
   "cell_type": "code",
   "execution_count": 120,
   "metadata": {},
   "outputs": [
    {
     "data": {
      "text/plain": [
       "array([19.43039447,  0.08167959,  1.67060909, ...,  0.        ,\n",
       "        0.        , 52.97062997])"
      ]
     },
     "execution_count": 120,
     "metadata": {},
     "output_type": "execute_result"
    }
   ],
   "source": [
    "pipesgdboot[1].coef_[0]"
   ]
  },
  {
   "cell_type": "code",
   "execution_count": 42,
   "metadata": {},
   "outputs": [],
   "source": [
    "coefficients = pd.DataFrame({'variable': X_train.columns, 'coefficient': pipe[1].coef_[0]})"
   ]
  },
  {
   "cell_type": "code",
   "execution_count": 43,
   "metadata": {},
   "outputs": [
    {
     "data": {
      "text/plain": [
       "953"
      ]
     },
     "execution_count": 43,
     "metadata": {},
     "output_type": "execute_result"
    }
   ],
   "source": [
    "(coefficients.coefficient != 0).sum()"
   ]
  },
  {
   "cell_type": "code",
   "execution_count": 44,
   "metadata": {},
   "outputs": [
    {
     "data": {
      "text/html": [
       "<div>\n",
       "<style scoped>\n",
       "    .dataframe tbody tr th:only-of-type {\n",
       "        vertical-align: middle;\n",
       "    }\n",
       "\n",
       "    .dataframe tbody tr th {\n",
       "        vertical-align: top;\n",
       "    }\n",
       "\n",
       "    .dataframe thead th {\n",
       "        text-align: right;\n",
       "    }\n",
       "</style>\n",
       "<table border=\"1\" class=\"dataframe\">\n",
       "  <thead>\n",
       "    <tr style=\"text-align: right;\">\n",
       "      <th></th>\n",
       "      <th>variable</th>\n",
       "      <th>coefficient</th>\n",
       "    </tr>\n",
       "  </thead>\n",
       "  <tbody>\n",
       "    <tr>\n",
       "      <th>2</th>\n",
       "      <td>Speed</td>\n",
       "      <td>0.398646</td>\n",
       "    </tr>\n",
       "    <tr>\n",
       "      <th>0</th>\n",
       "      <td>BarometricPressure</td>\n",
       "      <td>0.230548</td>\n",
       "    </tr>\n",
       "    <tr>\n",
       "      <th>6</th>\n",
       "      <td>IntakeManifoldTemperature</td>\n",
       "      <td>0.182826</td>\n",
       "    </tr>\n",
       "    <tr>\n",
       "      <th>12</th>\n",
       "      <td>FuelTemperature</td>\n",
       "      <td>0.143533</td>\n",
       "    </tr>\n",
       "    <tr>\n",
       "      <th>14</th>\n",
       "      <td>DistanceLtd</td>\n",
       "      <td>0.128309</td>\n",
       "    </tr>\n",
       "    <tr>\n",
       "      <th>1059</th>\n",
       "      <td>IgnStatus_True</td>\n",
       "      <td>0.092937</td>\n",
       "    </tr>\n",
       "    <tr>\n",
       "      <th>5</th>\n",
       "      <td>FuelLevel</td>\n",
       "      <td>0.070448</td>\n",
       "    </tr>\n",
       "    <tr>\n",
       "      <th>16</th>\n",
       "      <td>EngineTimeLtd</td>\n",
       "      <td>0.047633</td>\n",
       "    </tr>\n",
       "    <tr>\n",
       "      <th>883</th>\n",
       "      <td>74-14</td>\n",
       "      <td>0.047055</td>\n",
       "    </tr>\n",
       "    <tr>\n",
       "      <th>15</th>\n",
       "      <td>FuelLtd</td>\n",
       "      <td>0.034312</td>\n",
       "    </tr>\n",
       "    <tr>\n",
       "      <th>9</th>\n",
       "      <td>FuelRate</td>\n",
       "      <td>0.017370</td>\n",
       "    </tr>\n",
       "    <tr>\n",
       "      <th>866</th>\n",
       "      <td>6802-31</td>\n",
       "      <td>0.004134</td>\n",
       "    </tr>\n",
       "    <tr>\n",
       "      <th>402</th>\n",
       "      <td>3360-13</td>\n",
       "      <td>0.000000</td>\n",
       "    </tr>\n",
       "    <tr>\n",
       "      <th>457</th>\n",
       "      <td>3597-3</td>\n",
       "      <td>0.000000</td>\n",
       "    </tr>\n",
       "    <tr>\n",
       "      <th>449</th>\n",
       "      <td>3556-12</td>\n",
       "      <td>0.000000</td>\n",
       "    </tr>\n",
       "  </tbody>\n",
       "</table>\n",
       "</div>"
      ],
      "text/plain": [
       "                       variable  coefficient\n",
       "2                         Speed     0.398646\n",
       "0            BarometricPressure     0.230548\n",
       "6     IntakeManifoldTemperature     0.182826\n",
       "12              FuelTemperature     0.143533\n",
       "14                  DistanceLtd     0.128309\n",
       "1059             IgnStatus_True     0.092937\n",
       "5                     FuelLevel     0.070448\n",
       "16                EngineTimeLtd     0.047633\n",
       "883                       74-14     0.047055\n",
       "15                      FuelLtd     0.034312\n",
       "9                      FuelRate     0.017370\n",
       "866                     6802-31     0.004134\n",
       "402                     3360-13     0.000000\n",
       "457                      3597-3     0.000000\n",
       "449                     3556-12     0.000000"
      ]
     },
     "execution_count": 44,
     "metadata": {},
     "output_type": "execute_result"
    }
   ],
   "source": [
    "coefficients.sort_values('coefficient',ascending=False).head(15)"
   ]
  },
  {
   "cell_type": "code",
   "execution_count": 62,
   "metadata": {
    "scrolled": true
   },
   "outputs": [
    {
     "data": {
      "text/plain": [
       "['BarometricPressure',\n",
       " 'Speed',\n",
       " 'FuelLevel',\n",
       " 'IntakeManifoldTemperature',\n",
       " 'FuelRate',\n",
       " 'FuelTemperature',\n",
       " 'DistanceLtd',\n",
       " 'FuelLtd',\n",
       " 'EngineTimeLtd',\n",
       " '6802-31',\n",
       " '74-14',\n",
       " 'IgnStatus_True']"
      ]
     },
     "execution_count": 62,
     "metadata": {},
     "output_type": "execute_result"
    }
   ],
   "source": [
    "coefficients = pd.DataFrame({'variable': X_train.columns, 'coefficient': pipe[1].coef_[0]})\n",
    "coefficients[coefficients.coefficient > 0].variable.to_list()"
   ]
  },
  {
   "cell_type": "code",
   "execution_count": 46,
   "metadata": {},
   "outputs": [],
   "source": [
    "from tqdm.notebook import tqdm"
   ]
  },
  {
   "cell_type": "code",
   "execution_count": 47,
   "metadata": {},
   "outputs": [
    {
     "data": {
      "application/vnd.jupyter.widget-view+json": {
       "model_id": "9bfc4816e1c54c74a6456bcca252fec8",
       "version_major": 2,
       "version_minor": 0
      },
      "text/plain": [
       "  0%|          | 0/25 [00:00<?, ?it/s]"
      ]
     },
     "metadata": {},
     "output_type": "display_data"
    },
    {
     "name": "stderr",
     "output_type": "stream",
     "text": [
      "C:\\Users\\zylst\\anaconda3\\lib\\site-packages\\sklearn\\linear_model\\_stochastic_gradient.py:574: ConvergenceWarning: Maximum number of iteration reached before convergence. Consider increasing max_iter to improve the fit.\n",
      "  warnings.warn(\"Maximum number of iteration reached before \"\n",
      "C:\\Users\\zylst\\anaconda3\\lib\\site-packages\\sklearn\\linear_model\\_stochastic_gradient.py:574: ConvergenceWarning: Maximum number of iteration reached before convergence. Consider increasing max_iter to improve the fit.\n",
      "  warnings.warn(\"Maximum number of iteration reached before \"\n",
      "C:\\Users\\zylst\\anaconda3\\lib\\site-packages\\sklearn\\linear_model\\_stochastic_gradient.py:574: ConvergenceWarning: Maximum number of iteration reached before convergence. Consider increasing max_iter to improve the fit.\n",
      "  warnings.warn(\"Maximum number of iteration reached before \"\n",
      "C:\\Users\\zylst\\anaconda3\\lib\\site-packages\\sklearn\\linear_model\\_stochastic_gradient.py:574: ConvergenceWarning: Maximum number of iteration reached before convergence. Consider increasing max_iter to improve the fit.\n",
      "  warnings.warn(\"Maximum number of iteration reached before \"\n",
      "C:\\Users\\zylst\\anaconda3\\lib\\site-packages\\sklearn\\linear_model\\_stochastic_gradient.py:574: ConvergenceWarning: Maximum number of iteration reached before convergence. Consider increasing max_iter to improve the fit.\n",
      "  warnings.warn(\"Maximum number of iteration reached before \"\n",
      "C:\\Users\\zylst\\anaconda3\\lib\\site-packages\\sklearn\\linear_model\\_stochastic_gradient.py:574: ConvergenceWarning: Maximum number of iteration reached before convergence. Consider increasing max_iter to improve the fit.\n",
      "  warnings.warn(\"Maximum number of iteration reached before \"\n",
      "C:\\Users\\zylst\\anaconda3\\lib\\site-packages\\sklearn\\linear_model\\_stochastic_gradient.py:574: ConvergenceWarning: Maximum number of iteration reached before convergence. Consider increasing max_iter to improve the fit.\n",
      "  warnings.warn(\"Maximum number of iteration reached before \"\n"
     ]
    }
   ],
   "source": [
    "predictors = [] #up to possibly 100 iterations\n",
    "for _ in tqdm(range(25)): #if it's a throwaway variable use an underscore\n",
    "    X_boot, y_boot = bootstrapss()\n",
    "    pipesgdboot.fit(X_boot,y_boot)\n",
    "    coefficients = pd.DataFrame({'variable': X_train.columns, 'coefficient': pipesgdboot[1].coef_[0]})\n",
    "    predictors.extend(coefficients[coefficients.coefficient > 0].variable.to_list())"
   ]
  },
  {
   "cell_type": "code",
   "execution_count": 48,
   "metadata": {},
   "outputs": [],
   "source": [
    "from collections import Counter"
   ]
  },
  {
   "cell_type": "code",
   "execution_count": 49,
   "metadata": {},
   "outputs": [],
   "source": [
    "counter = Counter(predictors)"
   ]
  },
  {
   "cell_type": "code",
   "execution_count": 60,
   "metadata": {
    "scrolled": true
   },
   "outputs": [
    {
     "data": {
      "text/plain": [
       "[('111-17', 25),\n",
       " ('1569-31', 25),\n",
       " ('3362-31', 25),\n",
       " ('BarometricPressure', 24),\n",
       " ('5394-5', 22),\n",
       " ('IntakeManifoldTemperature', 21),\n",
       " ('IgnStatus_True', 21),\n",
       " ('1761-11', 19),\n",
       " ('929-9', 19),\n",
       " ('96-3', 19),\n",
       " ('1761-9', 18),\n",
       " ('3031-9', 18),\n",
       " ('3364-9', 18),\n",
       " ('1761-19', 17),\n",
       " ('EngineRpm', 16),\n",
       " ('FuelLevel', 15),\n",
       " ('1068-2', 15),\n",
       " ('1787-11', 15),\n",
       " ('4094-18', 15),\n",
       " ('4094-31', 15),\n",
       " ('6802-31', 14),\n",
       " ('3226-9', 13),\n",
       " ('3361-4', 13),\n",
       " ('5848-9', 13),\n",
       " ('4376-3', 13),\n",
       " ('3216-9', 12),\n",
       " ('4334-4', 12),\n",
       " ('4334-18', 11),\n",
       " ('3821-11', 11),\n",
       " ('Speed', 10),\n",
       " ('829-3', 10),\n",
       " ('DistanceLtd', 10),\n",
       " ('EngineTimeLtd', 9),\n",
       " ('AcceleratorPedal', 9),\n",
       " ('111-18', 9),\n",
       " ('3216-4', 9),\n",
       " ('5394-17', 9),\n",
       " ('5743-9', 9),\n",
       " ('639-2', 9),\n",
       " ('5742-9', 9),\n",
       " ('FuelLtd', 8),\n",
       " ('4342-5', 8),\n",
       " ('74-14', 7),\n",
       " ('96-9', 7),\n",
       " ('SwitchedBatteryVoltage', 7),\n",
       " ('4364-18', 7),\n",
       " ('84-9', 7),\n",
       " ('EngineOilPressure', 7),\n",
       " ('3031-18', 7),\n",
       " ('3226-20', 6),\n",
       " ('171-9', 6),\n",
       " ('4334-2', 6),\n",
       " ('5394-4', 6),\n",
       " ('168-4', 5),\n",
       " ('790-9', 5),\n",
       " ('FuelRate', 5),\n",
       " ('251-9', 5),\n",
       " ('596-31', 5),\n",
       " ('EngineLoad', 5),\n",
       " ('4334-16', 5),\n",
       " ('4344-5', 5),\n",
       " ('789-9', 5),\n",
       " ('4340-3', 5),\n",
       " ('1045-2', 4),\n",
       " ('1761-17', 4),\n",
       " ('4375-12', 4),\n",
       " ('790-14', 4),\n",
       " ('1231-9', 4),\n",
       " ('5485-11', 4),\n",
       " ('1761-3', 4),\n",
       " ('4096-31', 4),\n",
       " ('641-11', 4),\n",
       " ('1045-7', 4),\n",
       " ('3251-5', 4),\n",
       " ('520953-4', 4),\n",
       " ('791-1', 4),\n",
       " ('FuelTemperature', 4),\n",
       " ('3697-9', 3),\n",
       " ('TurboBoostPressure', 3),\n",
       " ('70-14', 3),\n",
       " ('1231-8', 3),\n",
       " ('252-9', 3),\n",
       " ('3245-5', 3),\n",
       " ('907-19', 3),\n",
       " ('1209-2', 3),\n",
       " ('228-9', 3),\n",
       " ('3031-3', 3),\n",
       " ('3361-12', 3),\n",
       " ('4340-5', 3),\n",
       " ('5835-9', 3),\n",
       " ('4375-5', 3),\n",
       " ('5743-3', 3),\n",
       " ('4376-5', 3),\n",
       " ('5396-1', 3),\n",
       " ('EngineCoolantTemperature', 3),\n",
       " ('1761-1', 2),\n",
       " ('3216-12', 2),\n",
       " ('641-7', 2),\n",
       " ('94-18', 2),\n",
       " ('1231-16', 2),\n",
       " ('612-2', 2),\n",
       " ('611-14', 2),\n",
       " ('3361-5', 2),\n",
       " ('91-9', 2),\n",
       " ('411-5', 2),\n",
       " ('3361-3', 2),\n",
       " ('5394-7', 2),\n",
       " ('184-9', 1),\n",
       " ('4334-5', 1),\n",
       " ('4334-3', 1),\n",
       " ('3360-9', 1),\n",
       " ('1059-2', 1),\n",
       " ('173-5', 1),\n",
       " ('2017-9', 1),\n",
       " ('3226-12', 1),\n",
       " ('629-12', 1),\n",
       " ('50353-0', 1),\n",
       " ('627-3', 1),\n",
       " ('1761-18', 1),\n",
       " ('3361-2', 1),\n",
       " ('EngineOilTemperature', 1),\n",
       " ('3249-5', 1),\n",
       " ('789-14', 1),\n",
       " ('3363-16', 1),\n",
       " ('3226-4', 1),\n",
       " ('1807-2', 1)]"
      ]
     },
     "execution_count": 60,
     "metadata": {},
     "output_type": "execute_result"
    }
   ],
   "source": [
    "counter.most_common()"
   ]
  },
  {
   "cell_type": "code",
   "execution_count": 160,
   "metadata": {},
   "outputs": [],
   "source": [
    "# cross reference this w/ oluchi, daniel, and courtney's list.\n",
    "# throw out rows where we have a super common fault code, rerun the model TBR"
   ]
  },
  {
   "cell_type": "code",
   "execution_count": 162,
   "metadata": {},
   "outputs": [
    {
     "data": {
      "text/plain": [
       "(117241, 1064)"
      ]
     },
     "execution_count": 162,
     "metadata": {},
     "output_type": "execute_result"
    }
   ],
   "source": [
    "test.shape"
   ]
  },
  {
   "cell_type": "markdown",
   "metadata": {},
   "source": [
    "# Matching test data to og data"
   ]
  },
  {
   "cell_type": "code",
   "execution_count": 168,
   "metadata": {},
   "outputs": [
    {
     "data": {
      "text/plain": [
       "0    117224\n",
       "1        17\n",
       "Name: 5246-16, dtype: int64"
      ]
     },
     "execution_count": 168,
     "metadata": {},
     "output_type": "execute_result"
    }
   ],
   "source": [
    "X_test['5246-16'].value_counts()"
   ]
  },
  {
   "cell_type": "code",
   "execution_count": 50,
   "metadata": {},
   "outputs": [],
   "source": [
    "y_pred = pipe.predict(X_test) #lesser smote model"
   ]
  },
  {
   "cell_type": "code",
   "execution_count": 176,
   "metadata": {},
   "outputs": [
    {
     "data": {
      "text/plain": [
       "(117241,)"
      ]
     },
     "execution_count": 176,
     "metadata": {},
     "output_type": "execute_result"
    }
   ],
   "source": [
    "y_pred.shape"
   ]
  },
  {
   "cell_type": "code",
   "execution_count": 181,
   "metadata": {},
   "outputs": [
    {
     "data": {
      "text/plain": [
       "(117241, 1064)"
      ]
     },
     "execution_count": 181,
     "metadata": {},
     "output_type": "execute_result"
    }
   ],
   "source": [
    "test.shape"
   ]
  },
  {
   "cell_type": "code",
   "execution_count": 51,
   "metadata": {},
   "outputs": [],
   "source": [
    "test['prediction'] = y_pred"
   ]
  },
  {
   "cell_type": "code",
   "execution_count": 52,
   "metadata": {},
   "outputs": [],
   "source": [
    "test['EventTimeStamp'] = pd.to_datetime(test['EventTimeStamp'])"
   ]
  },
  {
   "cell_type": "code",
   "execution_count": 53,
   "metadata": {
    "scrolled": true
   },
   "outputs": [],
   "source": [
    "dr = test[test['5246-16']==1].iloc[3]"
   ]
  },
  {
   "cell_type": "code",
   "execution_count": 54,
   "metadata": {},
   "outputs": [],
   "source": [
    "truck = dr['EquipmentID']"
   ]
  },
  {
   "cell_type": "code",
   "execution_count": 55,
   "metadata": {},
   "outputs": [],
   "source": [
    "ts = dr['EventTimeStamp']"
   ]
  },
  {
   "cell_type": "code",
   "execution_count": 56,
   "metadata": {},
   "outputs": [
    {
     "name": "stdout",
     "output_type": "stream",
     "text": [
      "hooray\n"
     ]
    }
   ],
   "source": [
    "if test[(test.EquipmentID == truck) &  (test.EventTimeStamp >= (ts - dt.timedelta(hours=6))) & (test.EventTimeStamp <= (ts - dt.timedelta(hours=1)))]['prediction'].max():\n",
    "    print('hooray')"
   ]
  },
  {
   "cell_type": "code",
   "execution_count": 57,
   "metadata": {},
   "outputs": [
    {
     "data": {
      "text/plain": [
       "Timestamp('2016-11-30 06:31:09')"
      ]
     },
     "execution_count": 57,
     "metadata": {},
     "output_type": "execute_result"
    }
   ],
   "source": [
    "ts - dt.timedelta(hours=6)"
   ]
  },
  {
   "cell_type": "code",
   "execution_count": 58,
   "metadata": {
    "scrolled": true
   },
   "outputs": [
    {
     "data": {
      "text/plain": [
       "Timestamp('2016-11-30 12:31:09')"
      ]
     },
     "execution_count": 58,
     "metadata": {},
     "output_type": "execute_result"
    }
   ],
   "source": [
    "ts"
   ]
  },
  {
   "cell_type": "markdown",
   "metadata": {},
   "source": [
    "# This is how you evaluate the model you end up choosing:"
   ]
  },
  {
   "cell_type": "code",
   "execution_count": 61,
   "metadata": {},
   "outputs": [
    {
     "name": "stdout",
     "output_type": "stream",
     "text": [
      "12\n"
     ]
    }
   ],
   "source": [
    "success = 0\n",
    "for i in range(len(test[test['5246-16']==1])):\n",
    "    dr = test[test['5246-16']==1].iloc[i]\n",
    "    truck = dr['EquipmentID']\n",
    "    ts = dr['EventTimeStamp']\n",
    "    if test[(test.EquipmentID == truck) &  \n",
    "         (test.EventTimeStamp >= (ts - dt.timedelta(hours=24))) & \n",
    "         (test.EventTimeStamp <= (ts - dt.timedelta(hours=0.001)))]['prediction'].max() == True:\n",
    "        success += 1\n",
    "print(success)"
   ]
  },
  {
   "cell_type": "markdown",
   "metadata": {},
   "source": [
    "present with a disclaimer: lots of false positives but managed to catch about half of the derates. with finetuning, it could do better. look at how many false positives per truck per time period."
   ]
  },
  {
   "cell_type": "code",
   "execution_count": null,
   "metadata": {},
   "outputs": [],
   "source": []
  }
 ],
 "metadata": {
  "kernelspec": {
   "display_name": "Python 3",
   "language": "python",
   "name": "python3"
  },
  "language_info": {
   "codemirror_mode": {
    "name": "ipython",
    "version": 3
   },
   "file_extension": ".py",
   "mimetype": "text/x-python",
   "name": "python",
   "nbconvert_exporter": "python",
   "pygments_lexer": "ipython3",
   "version": "3.8.3"
  }
 },
 "nbformat": 4,
 "nbformat_minor": 4
}
